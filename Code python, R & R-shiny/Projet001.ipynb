{
 "cells": [
  {
   "cell_type": "markdown",
   "metadata": {
    "scrolled": false
   },
   "source": [
    "<table style=\"width: 100%\">\n",
    "<tr>\n",
    "    <td style=\"width: 20%; text-align: left\">\n",
    "\n",
    "    \n",
    "<h1>Sorbonne Université - ISUP</h1> <br>\n",
    "<h2>Master Ingénierie Mathématiques </h2> <br>\n",
    "<h3>Parcours Ingénierie Statistique et Data Science (ISDS)</h3>\n",
    " <h3> Année universitaire 2020-2021</h3>\n",
    "        <br>\n",
    "    </td>\n",
    "    <td style=\"width:20%; text-align: left\">\n",
    "<table>           "
   ]
  },
  {
   "cell_type": "markdown",
   "metadata": {},
   "source": [
    "# But du projet"
   ]
  },
  {
   "cell_type": "markdown",
   "metadata": {},
   "source": [
    "### Prédire la probabilité q'un client va demander la résiliation de son abonnement téléphonique dans un mois, dans le but  d'effectuer une campagne de retention."
   ]
  },
  {
   "cell_type": "markdown",
   "metadata": {},
   "source": [
    "## Problematique:"
   ]
  },
  {
   "cell_type": "markdown",
   "metadata": {},
   "source": [
    "1) Est-il vraiment nécessaire de tenter de fideliser tous les clients qui veulent partir? La reponse est Non car les clients qui ne sont pas rentable pour l'entreprise, leur départ serait bénéfique.\n"
   ]
  },
  {
   "cell_type": "markdown",
   "metadata": {},
   "source": [
    "2) Plus la probabilité qu'un client parte est élévé plus il serait difficile de le retenir.\n"
   ]
  },
  {
   "cell_type": "markdown",
   "metadata": {},
   "source": [
    "3) Notre base de donnée manque d'information: On ne sait pas si la résiliation de l'abonnement du client a été entrepris par le client lui même ou par l'entreprise  pour une raison quelconque (ex facture impayer)."
   ]
  },
  {
   "cell_type": "markdown",
   "metadata": {},
   "source": [
    "### Importation des modules"
   ]
  },
  {
   "cell_type": "code",
   "execution_count": 1,
   "metadata": {},
   "outputs": [],
   "source": [
    "import pandas as pd\n",
    "import numpy as np\n",
    "from sklearn.model_selection import train_test_split\n",
    "import seaborn as sns\n",
    "import matplotlib.pyplot as plt\n",
    "import warnings # pour gerer les avertissements\n",
    "warnings.filterwarnings(\"ignore\")"
   ]
  },
  {
   "cell_type": "markdown",
   "metadata": {},
   "source": [
    "### Importation du jeu de donnée"
   ]
  },
  {
   "cell_type": "code",
   "execution_count": 60,
   "metadata": {
    "scrolled": true
   },
   "outputs": [
    {
     "data": {
      "text/html": [
       "<div>\n",
       "<style scoped>\n",
       "    .dataframe tbody tr th:only-of-type {\n",
       "        vertical-align: middle;\n",
       "    }\n",
       "\n",
       "    .dataframe tbody tr th {\n",
       "        vertical-align: top;\n",
       "    }\n",
       "\n",
       "    .dataframe thead th {\n",
       "        text-align: right;\n",
       "    }\n",
       "</style>\n",
       "<table border=\"1\" class=\"dataframe\">\n",
       "  <thead>\n",
       "    <tr style=\"text-align: right;\">\n",
       "      <th></th>\n",
       "      <th>gender</th>\n",
       "      <th>SeniorCitizen</th>\n",
       "      <th>Partner</th>\n",
       "      <th>Dependents</th>\n",
       "      <th>tenure</th>\n",
       "      <th>PhoneService</th>\n",
       "      <th>MultipleLines</th>\n",
       "      <th>InternetService</th>\n",
       "      <th>OnlineSecurity</th>\n",
       "      <th>OnlineBackup</th>\n",
       "      <th>DeviceProtection</th>\n",
       "      <th>TechSupport</th>\n",
       "      <th>StreamingTV</th>\n",
       "      <th>StreamingMovies</th>\n",
       "      <th>Contract</th>\n",
       "      <th>PaperlessBilling</th>\n",
       "      <th>PaymentMethod</th>\n",
       "      <th>MonthlyCharges</th>\n",
       "      <th>TotalCharges</th>\n",
       "      <th>Churn</th>\n",
       "    </tr>\n",
       "    <tr>\n",
       "      <th>customerID</th>\n",
       "      <th></th>\n",
       "      <th></th>\n",
       "      <th></th>\n",
       "      <th></th>\n",
       "      <th></th>\n",
       "      <th></th>\n",
       "      <th></th>\n",
       "      <th></th>\n",
       "      <th></th>\n",
       "      <th></th>\n",
       "      <th></th>\n",
       "      <th></th>\n",
       "      <th></th>\n",
       "      <th></th>\n",
       "      <th></th>\n",
       "      <th></th>\n",
       "      <th></th>\n",
       "      <th></th>\n",
       "      <th></th>\n",
       "      <th></th>\n",
       "    </tr>\n",
       "  </thead>\n",
       "  <tbody>\n",
       "    <tr>\n",
       "      <th>7590-VHVEG</th>\n",
       "      <td>Female</td>\n",
       "      <td>0</td>\n",
       "      <td>Yes</td>\n",
       "      <td>No</td>\n",
       "      <td>1</td>\n",
       "      <td>No</td>\n",
       "      <td>No phone service</td>\n",
       "      <td>DSL</td>\n",
       "      <td>No</td>\n",
       "      <td>Yes</td>\n",
       "      <td>No</td>\n",
       "      <td>No</td>\n",
       "      <td>No</td>\n",
       "      <td>No</td>\n",
       "      <td>Month-to-month</td>\n",
       "      <td>Yes</td>\n",
       "      <td>Electronic check</td>\n",
       "      <td>29.85</td>\n",
       "      <td>29.85</td>\n",
       "      <td>No</td>\n",
       "    </tr>\n",
       "    <tr>\n",
       "      <th>5575-GNVDE</th>\n",
       "      <td>Male</td>\n",
       "      <td>0</td>\n",
       "      <td>No</td>\n",
       "      <td>No</td>\n",
       "      <td>34</td>\n",
       "      <td>Yes</td>\n",
       "      <td>No</td>\n",
       "      <td>DSL</td>\n",
       "      <td>Yes</td>\n",
       "      <td>No</td>\n",
       "      <td>Yes</td>\n",
       "      <td>No</td>\n",
       "      <td>No</td>\n",
       "      <td>No</td>\n",
       "      <td>One year</td>\n",
       "      <td>No</td>\n",
       "      <td>Mailed check</td>\n",
       "      <td>56.95</td>\n",
       "      <td>1889.5</td>\n",
       "      <td>No</td>\n",
       "    </tr>\n",
       "    <tr>\n",
       "      <th>3668-QPYBK</th>\n",
       "      <td>Male</td>\n",
       "      <td>0</td>\n",
       "      <td>No</td>\n",
       "      <td>No</td>\n",
       "      <td>2</td>\n",
       "      <td>Yes</td>\n",
       "      <td>No</td>\n",
       "      <td>DSL</td>\n",
       "      <td>Yes</td>\n",
       "      <td>Yes</td>\n",
       "      <td>No</td>\n",
       "      <td>No</td>\n",
       "      <td>No</td>\n",
       "      <td>No</td>\n",
       "      <td>Month-to-month</td>\n",
       "      <td>Yes</td>\n",
       "      <td>Mailed check</td>\n",
       "      <td>53.85</td>\n",
       "      <td>108.15</td>\n",
       "      <td>Yes</td>\n",
       "    </tr>\n",
       "    <tr>\n",
       "      <th>7795-CFOCW</th>\n",
       "      <td>Male</td>\n",
       "      <td>0</td>\n",
       "      <td>No</td>\n",
       "      <td>No</td>\n",
       "      <td>45</td>\n",
       "      <td>No</td>\n",
       "      <td>No phone service</td>\n",
       "      <td>DSL</td>\n",
       "      <td>Yes</td>\n",
       "      <td>No</td>\n",
       "      <td>Yes</td>\n",
       "      <td>Yes</td>\n",
       "      <td>No</td>\n",
       "      <td>No</td>\n",
       "      <td>One year</td>\n",
       "      <td>No</td>\n",
       "      <td>Bank transfer (automatic)</td>\n",
       "      <td>42.30</td>\n",
       "      <td>1840.75</td>\n",
       "      <td>No</td>\n",
       "    </tr>\n",
       "    <tr>\n",
       "      <th>9237-HQITU</th>\n",
       "      <td>Female</td>\n",
       "      <td>0</td>\n",
       "      <td>No</td>\n",
       "      <td>No</td>\n",
       "      <td>2</td>\n",
       "      <td>Yes</td>\n",
       "      <td>No</td>\n",
       "      <td>Fiber optic</td>\n",
       "      <td>No</td>\n",
       "      <td>No</td>\n",
       "      <td>No</td>\n",
       "      <td>No</td>\n",
       "      <td>No</td>\n",
       "      <td>No</td>\n",
       "      <td>Month-to-month</td>\n",
       "      <td>Yes</td>\n",
       "      <td>Electronic check</td>\n",
       "      <td>70.70</td>\n",
       "      <td>151.65</td>\n",
       "      <td>Yes</td>\n",
       "    </tr>\n",
       "  </tbody>\n",
       "</table>\n",
       "</div>"
      ],
      "text/plain": [
       "            gender  SeniorCitizen Partner Dependents  tenure PhoneService  \\\n",
       "customerID                                                                  \n",
       "7590-VHVEG  Female              0     Yes         No       1           No   \n",
       "5575-GNVDE    Male              0      No         No      34          Yes   \n",
       "3668-QPYBK    Male              0      No         No       2          Yes   \n",
       "7795-CFOCW    Male              0      No         No      45           No   \n",
       "9237-HQITU  Female              0      No         No       2          Yes   \n",
       "\n",
       "               MultipleLines InternetService OnlineSecurity OnlineBackup  \\\n",
       "customerID                                                                 \n",
       "7590-VHVEG  No phone service             DSL             No          Yes   \n",
       "5575-GNVDE                No             DSL            Yes           No   \n",
       "3668-QPYBK                No             DSL            Yes          Yes   \n",
       "7795-CFOCW  No phone service             DSL            Yes           No   \n",
       "9237-HQITU                No     Fiber optic             No           No   \n",
       "\n",
       "           DeviceProtection TechSupport StreamingTV StreamingMovies  \\\n",
       "customerID                                                            \n",
       "7590-VHVEG               No          No          No              No   \n",
       "5575-GNVDE              Yes          No          No              No   \n",
       "3668-QPYBK               No          No          No              No   \n",
       "7795-CFOCW              Yes         Yes          No              No   \n",
       "9237-HQITU               No          No          No              No   \n",
       "\n",
       "                  Contract PaperlessBilling              PaymentMethod  \\\n",
       "customerID                                                               \n",
       "7590-VHVEG  Month-to-month              Yes           Electronic check   \n",
       "5575-GNVDE        One year               No               Mailed check   \n",
       "3668-QPYBK  Month-to-month              Yes               Mailed check   \n",
       "7795-CFOCW        One year               No  Bank transfer (automatic)   \n",
       "9237-HQITU  Month-to-month              Yes           Electronic check   \n",
       "\n",
       "            MonthlyCharges TotalCharges Churn  \n",
       "customerID                                     \n",
       "7590-VHVEG           29.85        29.85    No  \n",
       "5575-GNVDE           56.95       1889.5    No  \n",
       "3668-QPYBK           53.85       108.15   Yes  \n",
       "7795-CFOCW           42.30      1840.75    No  \n",
       "9237-HQITU           70.70       151.65   Yes  "
      ]
     },
     "execution_count": 60,
     "metadata": {},
     "output_type": "execute_result"
    }
   ],
   "source": [
    "data = pd.read_csv(\"WA_Fn-UseC_-Telco-Customer-Churn.csv\", index_col=0)\n",
    "pd.set_option('display.max_columns',21)\n",
    "data.head()"
   ]
  },
  {
   "cell_type": "markdown",
   "metadata": {},
   "source": [
    "### Séparation du label d'avec les features"
   ]
  },
  {
   "cell_type": "markdown",
   "metadata": {},
   "source": [
    "Nous séparons la variable **churn** du reste des variables"
   ]
  },
  {
   "cell_type": "code",
   "execution_count": 61,
   "metadata": {},
   "outputs": [],
   "source": [
    "def separate_instances_labels(data):\n",
    "    df = data.copy()\n",
    "    labels = df[[\"Churn\"]]\n",
    "    instances = df.drop([\"Churn\"], axis = 1)\n",
    "    return instances, labels\n",
    "X, y = separate_instances_labels(data)"
   ]
  },
  {
   "cell_type": "markdown",
   "metadata": {},
   "source": [
    "## Analyse de la base de donnée"
   ]
  },
  {
   "cell_type": "markdown",
   "metadata": {},
   "source": [
    "### Nombre d'observations"
   ]
  },
  {
   "cell_type": "code",
   "execution_count": 62,
   "metadata": {},
   "outputs": [
    {
     "name": "stdout",
     "output_type": "stream",
     "text": [
      "Nous avons 7043 observations dans notre jeu de donnée\n"
     ]
    }
   ],
   "source": [
    "print(\"Nous avons {} observations dans notre jeu de donnée\".format(X.shape[0]))\n"
   ]
  },
  {
   "cell_type": "markdown",
   "metadata": {},
   "source": [
    "### Nombre de variables explicatives"
   ]
  },
  {
   "cell_type": "code",
   "execution_count": 67,
   "metadata": {
    "scrolled": true
   },
   "outputs": [
    {
     "name": "stdout",
     "output_type": "stream",
     "text": [
      "Il y a 19 variables explicatives\n"
     ]
    }
   ],
   "source": [
    "print(\"Il y a {} variables explicatives\".format(X.shape[1]))"
   ]
  },
  {
   "cell_type": "code",
   "execution_count": 68,
   "metadata": {
    "scrolled": true
   },
   "outputs": [
    {
     "name": "stdout",
     "output_type": "stream",
     "text": [
      "Parmis les 19 variables explicatives, il ya 16 variables qualitatives qui sont:\n",
      "\n",
      "gender\n",
      "Partner\n",
      "Dependents\n",
      "PhoneService\n",
      "MultipleLines\n",
      "InternetService\n",
      "OnlineSecurity\n",
      "OnlineBackup\n",
      "DeviceProtection\n",
      "TechSupport\n",
      "StreamingTV\n",
      "StreamingMovies\n",
      "Contract\n",
      "PaperlessBilling\n",
      "PaymentMethod\n",
      "TotalCharges\n"
     ]
    }
   ],
   "source": [
    "print(\"Parmis les 19 variables explicatives, il ya {} variables qualitatives qui sont:\\n\".format(X.select_dtypes(\"object\").shape[1]))\n",
    "for col in X.select_dtypes(\"object\").columns.values:\n",
    "    print(col)"
   ]
  },
  {
   "cell_type": "code",
   "execution_count": 69,
   "metadata": {},
   "outputs": [
    {
     "data": {
      "text/plain": [
       "dtype('O')"
      ]
     },
     "execution_count": 69,
     "metadata": {},
     "output_type": "execute_result"
    }
   ],
   "source": [
    "data['TotalCharges'].dtype"
   ]
  },
  {
   "cell_type": "markdown",
   "metadata": {},
   "source": [
    "#### Remarque:\n",
    "On constate que la variable **TotalCharges** est de type object alors que c'est une variable numerique. Ceci est du au fait qu'elle contient des valeurs manquantes qui sont representées par une chaine de caractère vide. Nous allons gérer ce problème dans les lignes qui suivent."
   ]
  },
  {
   "cell_type": "code",
   "execution_count": 70,
   "metadata": {
    "scrolled": true
   },
   "outputs": [
    {
     "name": "stdout",
     "output_type": "stream",
     "text": [
      "Parmis les 19 variables explicatives, il ya 1 variables quantitatives qui sont:\n",
      "\n",
      "MonthlyCharges\n"
     ]
    }
   ],
   "source": [
    "print(\"Parmis les 19 variables explicatives, il ya {} variables quantitatives qui sont:\\n\".format(X.select_dtypes([int, float]).shape[1]))\n",
    "for col in X.select_dtypes([int, float]).columns.values:\n",
    "    print(col)"
   ]
  },
  {
   "cell_type": "markdown",
   "metadata": {},
   "source": [
    "#### Remarque:\n",
    "La varibale **SeniorCitizen**  est une variable qualitative, elle indique si un client est âgé (oui ou non), mais elle est encodé par (0 ou 1)."
   ]
  },
  {
   "cell_type": "markdown",
   "metadata": {},
   "source": [
    "Le nom de chaque variable est assez explicite, pour plus de details vous pouvez consulter le lien kaggle: https://www.kaggle.com/blastchar/telco-customer-churn où nous avons recupéré nos données."
   ]
  },
  {
   "cell_type": "markdown",
   "metadata": {},
   "source": [
    "Dans l'ensemble notre jeu de donnée contient beaucoup de variables qualitatives, l'enjeu serait de bien les **encoder**."
   ]
  },
  {
   "cell_type": "markdown",
   "metadata": {},
   "source": [
    "### Separation de notre jeu de donnée:\n",
    "Nous allons maintenant séparer notre jeu de donnée en deux:\n",
    "\n",
    "Au vue de la taille de notre base de donnée qui est relativement petite, nous allons utiliser 80% de nos observations pour l'entrainement et 20% pour l'évaluation."
   ]
  },
  {
   "cell_type": "code",
   "execution_count": 71,
   "metadata": {},
   "outputs": [],
   "source": [
    "\n",
    "X_train, X_val, y_train, y_val = train_test_split(X, y, test_size=0.2, random_state=42)"
   ]
  },
  {
   "cell_type": "markdown",
   "metadata": {},
   "source": [
    "Nous allons maintenant convertir le type de la variable **TotalCharges** en numérique:\n",
    "Pour cela ecrivons une petite fonction qui fera cela. "
   ]
  },
  {
   "cell_type": "code",
   "execution_count": 72,
   "metadata": {},
   "outputs": [],
   "source": [
    "def conver_tot_char_to_num(data: pd.DataFrame) -> pd.DataFrame:\n",
    "    \"\"\"\n",
    "    Fonction qui convertie TotalCharges en numerique et remplace les catactères invalides par des NAN\n",
    "    \n",
    "    Parameters\n",
    "    ----------\n",
    "    data: pd.DataFrame \n",
    "    Returns\n",
    "    ---------\n",
    "    df: pd.DataFrame\n",
    "    \"\"\"\n",
    "    df = data.copy()\n",
    "    df[\"TotalCharges\"]=pd.to_numeric(df[\"TotalCharges\"],errors=\"coerce\")\n",
    "    return df"
   ]
  },
  {
   "cell_type": "code",
   "execution_count": 73,
   "metadata": {},
   "outputs": [],
   "source": [
    "\n",
    "X_train = conver_tot_char_to_num(X_train)"
   ]
  },
  {
   "cell_type": "code",
   "execution_count": 74,
   "metadata": {
    "scrolled": false
   },
   "outputs": [
    {
     "data": {
      "text/plain": [
       "gender               0\n",
       "SeniorCitizen        0\n",
       "Partner              0\n",
       "Dependents           0\n",
       "tenure               0\n",
       "PhoneService         0\n",
       "MultipleLines        0\n",
       "InternetService      0\n",
       "OnlineSecurity       0\n",
       "OnlineBackup         0\n",
       "DeviceProtection     0\n",
       "TechSupport          0\n",
       "StreamingTV          0\n",
       "StreamingMovies      0\n",
       "Contract             0\n",
       "PaperlessBilling     0\n",
       "PaymentMethod        0\n",
       "MonthlyCharges       0\n",
       "TotalCharges        10\n",
       "dtype: int64"
      ]
     },
     "execution_count": 74,
     "metadata": {},
     "output_type": "execute_result"
    }
   ],
   "source": [
    "X_train.isna().sum()"
   ]
  },
  {
   "cell_type": "markdown",
   "metadata": {},
   "source": [
    "Dans notre jeu d'entrainement seule la variable **TotalCharges** contient 10 valeurs manquantes, Nous allons faire une brève analyse pour voir comment imputer ces valeurs manquantes"
   ]
  },
  {
   "cell_type": "markdown",
   "metadata": {},
   "source": [
    "### Imputation des valeurs manquantes: \n",
    "Nous nous sommes directement fixé l'objectif de ne pas supprimer les observations pour les quelles **TotalCharges** contient des valeurs manquantes car:\n",
    "premièrement nous traitons de façons indépendante nos données d'entrainement et de validation. Deuxièmement lors de la prediction nous aimerions avoir la probabilité de départ d'un client même si la variable **TotalCharges** de ce client est **NAN**.  "
   ]
  },
  {
   "cell_type": "markdown",
   "metadata": {},
   "source": [
    "Ainsi pour adapter une bonne stratégie d'imputation commençons par analyser les clients où leur **TotalCharges** est **NAN**. Intuitivement, il nous semble que les charges totales et mensuelles soient liées; verifions cela en affichant leur distrubution aisni que leur correlation: \n"
   ]
  },
  {
   "cell_type": "code",
   "execution_count": 75,
   "metadata": {},
   "outputs": [
    {
     "data": {
      "text/html": [
       "<div>\n",
       "<style scoped>\n",
       "    .dataframe tbody tr th:only-of-type {\n",
       "        vertical-align: middle;\n",
       "    }\n",
       "\n",
       "    .dataframe tbody tr th {\n",
       "        vertical-align: top;\n",
       "    }\n",
       "\n",
       "    .dataframe thead th {\n",
       "        text-align: right;\n",
       "    }\n",
       "</style>\n",
       "<table border=\"1\" class=\"dataframe\">\n",
       "  <thead>\n",
       "    <tr style=\"text-align: right;\">\n",
       "      <th></th>\n",
       "      <th>TotalCharges</th>\n",
       "      <th>MonthlyCharges</th>\n",
       "    </tr>\n",
       "  </thead>\n",
       "  <tbody>\n",
       "    <tr>\n",
       "      <th>TotalCharges</th>\n",
       "      <td>1.000000</td>\n",
       "      <td>0.653518</td>\n",
       "    </tr>\n",
       "    <tr>\n",
       "      <th>MonthlyCharges</th>\n",
       "      <td>0.653518</td>\n",
       "      <td>1.000000</td>\n",
       "    </tr>\n",
       "  </tbody>\n",
       "</table>\n",
       "</div>"
      ],
      "text/plain": [
       "                TotalCharges  MonthlyCharges\n",
       "TotalCharges        1.000000        0.653518\n",
       "MonthlyCharges      0.653518        1.000000"
      ]
     },
     "execution_count": 75,
     "metadata": {},
     "output_type": "execute_result"
    }
   ],
   "source": [
    "X_train[[\"TotalCharges\", \"MonthlyCharges\"]].corr()"
   ]
  },
  {
   "cell_type": "markdown",
   "metadata": {},
   "source": [
    "Les deux variables sont relativement moins correlées, si elles étaient fortement correlées nous aurions pu directement supprimer la colonne TotalCharges car elle contiendrait les même informations que MonthlyCharges mais ce n'ai pas le cas"
   ]
  },
  {
   "cell_type": "markdown",
   "metadata": {},
   "source": [
    "Distibution des deux variables: Nous affichons l'histogramme des deux variables noramilisées de sortent qu'elles prennent leur valeur dans [0,1]."
   ]
  },
  {
   "cell_type": "code",
   "execution_count": 76,
   "metadata": {},
   "outputs": [
    {
     "data": {
      "text/plain": [
       "<matplotlib.legend.Legend at 0x28ff8f17130>"
      ]
     },
     "execution_count": 76,
     "metadata": {},
     "output_type": "execute_result"
    },
    {
     "data": {
      "image/png": "[encoded data removed]",
      "text/plain": [
       "<Figure size 432x288 with 1 Axes>"
      ]
     },
     "metadata": {
      "needs_background": "light"
     },
     "output_type": "display_data"
    }
   ],
   "source": [
    "sns.distplot((X_train[\"TotalCharges\"]-X_train[\"TotalCharges\"].min())/(X_train[\"TotalCharges\"].max()-X_train[\"TotalCharges\"].min()), label=\"TotalCharges\")\n",
    "sns.distplot((X_train[\"MonthlyCharges\"]-X_train[\"MonthlyCharges\"].min())/(X_train[\"MonthlyCharges\"].max()-X_train[\"MonthlyCharges\"].min()), label=\"MonthlyCharges\")\n",
    "plt.xlabel(\"Charges\")\n",
    "plt.legend()"
   ]
  },
  {
   "cell_type": "markdown",
   "metadata": {},
   "source": [
    "Les deux variables ne suivent pas la même distriution et aucune ne semble suivre une loi normale.\n",
    "Car si par exemple la variable TotalCharges suivait une loi normale l'imputer par la moyenne serait une bonne strategie."
   ]
  },
  {
   "cell_type": "markdown",
   "metadata": {},
   "source": [
    "Ainsi à priori nous ne savons pas comment la variable **TotalCharges** est calculée; ce manque d'information rend la tâche de gestion de donnée manquante relativement difficile."
   ]
  },
  {
   "cell_type": "code",
   "execution_count": 77,
   "metadata": {
    "scrolled": true
   },
   "outputs": [
    {
     "data": {
      "text/html": [
       "<div>\n",
       "<style scoped>\n",
       "    .dataframe tbody tr th:only-of-type {\n",
       "        vertical-align: middle;\n",
       "    }\n",
       "\n",
       "    .dataframe tbody tr th {\n",
       "        vertical-align: top;\n",
       "    }\n",
       "\n",
       "    .dataframe thead th {\n",
       "        text-align: right;\n",
       "    }\n",
       "</style>\n",
       "<table border=\"1\" class=\"dataframe\">\n",
       "  <thead>\n",
       "    <tr style=\"text-align: right;\">\n",
       "      <th></th>\n",
       "      <th>tenure</th>\n",
       "      <th>TotalCharges</th>\n",
       "      <th>MonthlyCharges</th>\n",
       "    </tr>\n",
       "    <tr>\n",
       "      <th>customerID</th>\n",
       "      <th></th>\n",
       "      <th></th>\n",
       "      <th></th>\n",
       "    </tr>\n",
       "  </thead>\n",
       "  <tbody>\n",
       "    <tr>\n",
       "      <th>2775-SEFEE</th>\n",
       "      <td>0</td>\n",
       "      <td>NaN</td>\n",
       "      <td>61.90</td>\n",
       "    </tr>\n",
       "    <tr>\n",
       "      <th>1371-DWPAZ</th>\n",
       "      <td>0</td>\n",
       "      <td>NaN</td>\n",
       "      <td>56.05</td>\n",
       "    </tr>\n",
       "    <tr>\n",
       "      <th>3213-VVOLG</th>\n",
       "      <td>0</td>\n",
       "      <td>NaN</td>\n",
       "      <td>25.35</td>\n",
       "    </tr>\n",
       "    <tr>\n",
       "      <th>2923-ARZLG</th>\n",
       "      <td>0</td>\n",
       "      <td>NaN</td>\n",
       "      <td>19.70</td>\n",
       "    </tr>\n",
       "    <tr>\n",
       "      <th>7644-OMVMY</th>\n",
       "      <td>0</td>\n",
       "      <td>NaN</td>\n",
       "      <td>19.85</td>\n",
       "    </tr>\n",
       "    <tr>\n",
       "      <th>5709-LVOEQ</th>\n",
       "      <td>0</td>\n",
       "      <td>NaN</td>\n",
       "      <td>80.85</td>\n",
       "    </tr>\n",
       "    <tr>\n",
       "      <th>3115-CZMZD</th>\n",
       "      <td>0</td>\n",
       "      <td>NaN</td>\n",
       "      <td>20.25</td>\n",
       "    </tr>\n",
       "    <tr>\n",
       "      <th>2520-SGTTA</th>\n",
       "      <td>0</td>\n",
       "      <td>NaN</td>\n",
       "      <td>20.00</td>\n",
       "    </tr>\n",
       "    <tr>\n",
       "      <th>4472-LVYGI</th>\n",
       "      <td>0</td>\n",
       "      <td>NaN</td>\n",
       "      <td>52.55</td>\n",
       "    </tr>\n",
       "    <tr>\n",
       "      <th>4367-NUYAO</th>\n",
       "      <td>0</td>\n",
       "      <td>NaN</td>\n",
       "      <td>25.75</td>\n",
       "    </tr>\n",
       "  </tbody>\n",
       "</table>\n",
       "</div>"
      ],
      "text/plain": [
       "            tenure  TotalCharges  MonthlyCharges\n",
       "customerID                                      \n",
       "2775-SEFEE       0           NaN           61.90\n",
       "1371-DWPAZ       0           NaN           56.05\n",
       "3213-VVOLG       0           NaN           25.35\n",
       "2923-ARZLG       0           NaN           19.70\n",
       "7644-OMVMY       0           NaN           19.85\n",
       "5709-LVOEQ       0           NaN           80.85\n",
       "3115-CZMZD       0           NaN           20.25\n",
       "2520-SGTTA       0           NaN           20.00\n",
       "4472-LVYGI       0           NaN           52.55\n",
       "4367-NUYAO       0           NaN           25.75"
      ]
     },
     "execution_count": 77,
     "metadata": {},
     "output_type": "execute_result"
    }
   ],
   "source": [
    "X_train[X_train[\"TotalCharges\"].isna()][[\"tenure\", \"TotalCharges\", \"MonthlyCharges\"]]"
   ]
  },
  {
   "cell_type": "code",
   "execution_count": 78,
   "metadata": {},
   "outputs": [
    {
     "data": {
      "text/html": [
       "<div>\n",
       "<style scoped>\n",
       "    .dataframe tbody tr th:only-of-type {\n",
       "        vertical-align: middle;\n",
       "    }\n",
       "\n",
       "    .dataframe tbody tr th {\n",
       "        vertical-align: top;\n",
       "    }\n",
       "\n",
       "    .dataframe thead th {\n",
       "        text-align: right;\n",
       "    }\n",
       "</style>\n",
       "<table border=\"1\" class=\"dataframe\">\n",
       "  <thead>\n",
       "    <tr style=\"text-align: right;\">\n",
       "      <th></th>\n",
       "      <th>Churn</th>\n",
       "    </tr>\n",
       "    <tr>\n",
       "      <th>customerID</th>\n",
       "      <th></th>\n",
       "    </tr>\n",
       "  </thead>\n",
       "  <tbody>\n",
       "    <tr>\n",
       "      <th>2775-SEFEE</th>\n",
       "      <td>No</td>\n",
       "    </tr>\n",
       "    <tr>\n",
       "      <th>1371-DWPAZ</th>\n",
       "      <td>No</td>\n",
       "    </tr>\n",
       "    <tr>\n",
       "      <th>3213-VVOLG</th>\n",
       "      <td>No</td>\n",
       "    </tr>\n",
       "    <tr>\n",
       "      <th>2923-ARZLG</th>\n",
       "      <td>No</td>\n",
       "    </tr>\n",
       "    <tr>\n",
       "      <th>7644-OMVMY</th>\n",
       "      <td>No</td>\n",
       "    </tr>\n",
       "    <tr>\n",
       "      <th>5709-LVOEQ</th>\n",
       "      <td>No</td>\n",
       "    </tr>\n",
       "    <tr>\n",
       "      <th>3115-CZMZD</th>\n",
       "      <td>No</td>\n",
       "    </tr>\n",
       "    <tr>\n",
       "      <th>2520-SGTTA</th>\n",
       "      <td>No</td>\n",
       "    </tr>\n",
       "    <tr>\n",
       "      <th>4472-LVYGI</th>\n",
       "      <td>No</td>\n",
       "    </tr>\n",
       "    <tr>\n",
       "      <th>4367-NUYAO</th>\n",
       "      <td>No</td>\n",
       "    </tr>\n",
       "  </tbody>\n",
       "</table>\n",
       "</div>"
      ],
      "text/plain": [
       "           Churn\n",
       "customerID      \n",
       "2775-SEFEE    No\n",
       "1371-DWPAZ    No\n",
       "3213-VVOLG    No\n",
       "2923-ARZLG    No\n",
       "7644-OMVMY    No\n",
       "5709-LVOEQ    No\n",
       "3115-CZMZD    No\n",
       "2520-SGTTA    No\n",
       "4472-LVYGI    No\n",
       "4367-NUYAO    No"
      ]
     },
     "execution_count": 78,
     "metadata": {},
     "output_type": "execute_result"
    }
   ],
   "source": [
    "y_train[X_train[\"TotalCharges\"].isna()]"
   ]
  },
  {
   "cell_type": "markdown",
   "metadata": {},
   "source": [
    "On remarque que les clients dont la charge totale est manquante sont des clients nouveaux, leur ancienneté est moins de 1 mois et que aucun de ces clients n'a resilié son contrat ce qui est tout à fait logique."
   ]
  },
  {
   "cell_type": "markdown",
   "metadata": {},
   "source": [
    "Nombre de clients où leur charges totale est égale à leur ancieneté(en mois) mutiplier par leur charge mensuelle. "
   ]
  },
  {
   "cell_type": "code",
   "execution_count": 79,
   "metadata": {
    "scrolled": true
   },
   "outputs": [
    {
     "data": {
      "text/plain": [
       "0.08466453674121406"
      ]
     },
     "execution_count": 79,
     "metadata": {},
     "output_type": "execute_result"
    }
   ],
   "source": [
    "(X_train[\"MonthlyCharges\"]*X_train[\"tenure\"]==X_train[\"TotalCharges\"]).sum()/X_train.shape[0]"
   ]
  },
  {
   "cell_type": "markdown",
   "metadata": {},
   "source": [
    "Il ya 8% des clients qui respect cette égalité."
   ]
  },
  {
   "cell_type": "code",
   "execution_count": 80,
   "metadata": {},
   "outputs": [
    {
     "data": {
      "text/plain": [
       "1     0.997904\n",
       "16    0.002096\n",
       "Name: tenure, dtype: float64"
      ]
     },
     "execution_count": 80,
     "metadata": {},
     "output_type": "execute_result"
    }
   ],
   "source": [
    "X_train[X_train[\"MonthlyCharges\"]*X_train[\"tenure\"]==X_train[\"TotalCharges\"]][\"tenure\"].value_counts(normalize=True)"
   ]
  },
  {
   "cell_type": "markdown",
   "metadata": {},
   "source": [
    "Parmi ces 8% de clients 99% ont une ancieneté de 1mois. Après toute cette analyse nous definissons une strategie qui serait de simplement remplacer les valeurs manquantes de la charge totale par les valeurs de la charge mensuelle."
   ]
  },
  {
   "cell_type": "code",
   "execution_count": 81,
   "metadata": {},
   "outputs": [],
   "source": [
    "\n",
    "def impute(data):\n",
    "    \"\"\"\n",
    "    Fonction qui remplace les NAN de TotalCharges par le MonthlyCharges correspondant\n",
    "    \n",
    "    Parameters\n",
    "    ----------\n",
    "    data: pd.DataFrame \n",
    "    Returns\n",
    "    ---------\n",
    "    data: pd.DataFrame\n",
    "    \"\"\"\n",
    "    idx = data[data[\"TotalCharges\"].isna()].index\n",
    "    data.loc[idx,\"TotalCharges\"] = data.loc[idx,\"MonthlyCharges\"]\n",
    "    return data"
   ]
  },
  {
   "cell_type": "code",
   "execution_count": 82,
   "metadata": {},
   "outputs": [],
   "source": [
    "\n",
    "X_train = impute(X_train)"
   ]
  },
  {
   "cell_type": "code",
   "execution_count": 83,
   "metadata": {},
   "outputs": [],
   "source": [
    "#X_train = convert_tenure(X_train)"
   ]
  },
  {
   "cell_type": "markdown",
   "metadata": {},
   "source": [
    "### Analyse de du label"
   ]
  },
  {
   "cell_type": "code",
   "execution_count": 84,
   "metadata": {
    "scrolled": false
   },
   "outputs": [],
   "source": [
    "def countplot_ratio(x,data,hue=None,ax=None):\n",
    "    ax=sns.countplot(x,data=data, hue=hue, ax=ax)\n",
    "    ax.set_xticklabels(ax.get_xticklabels(),rotation=10)\n",
    "    ax.set_title(x + \" Distributions\")\n",
    "    total = float(len(y_train))\n",
    "    for p in ax.patches:\n",
    "        height = p.get_height()\n",
    "        ax.text(p.get_x()+p.get_width()/2, height/2,\n",
    "                '{:.2f}%'.format((height/total)*100),fontsize=12, weight = 'bold',ha=\"center\") "
   ]
  },
  {
   "cell_type": "code",
   "execution_count": 85,
   "metadata": {
    "scrolled": true
   },
   "outputs": [
    {
     "data": {
      "image/png": "[encoded data removed]",
      "text/plain": [
       "<Figure size 432x288 with 1 Axes>"
      ]
     },
     "metadata": {
      "needs_background": "light"
     },
     "output_type": "display_data"
    }
   ],
   "source": [
    "countplot_ratio(\"Churn\", y_train)"
   ]
  },
  {
   "cell_type": "markdown",
   "metadata": {},
   "source": [
    "La proportion des clients qui ont résilié est moins élévée que ceux qui n'ont pas résilié, nous somme en face d'un problème de classification où les classes sont disproportionnelles. Donc un classifier qui predit tout le temps la classe majoritaire aurait un **Accuracy** (précision) élévée alors; Ainsi pour notre projets, nous allons utiliser la métrique **ROC** pour mesurer la performence de nos classifiers. "
   ]
  },
  {
   "cell_type": "code",
   "execution_count": 86,
   "metadata": {
    "scrolled": true
   },
   "outputs": [
    {
     "data": {
      "image/png": "[encoded data removed]",
      "text/plain": [
       "<Figure size 432x288 with 1 Axes>"
      ]
     },
     "metadata": {
      "needs_background": "light"
     },
     "output_type": "display_data"
    }
   ],
   "source": [
    "countplot_ratio(\"PaymentMethod\", hue=\"Churn\", data=X_train.merge(y_train, right_on=\"customerID\", left_index=True))"
   ]
  },
  {
   "cell_type": "markdown",
   "metadata": {},
   "source": [
    "D'après la figure de la distribution de la variable **PaymentMethod**, on remarque le taux de résiliation des clients qui utilisent le mode de payement electronic ckeck est élévé par rapport aux autres mode de payement.\n",
    "Ainsi nous allons crée une variable boolenne pour ce mode de payement."
   ]
  },
  {
   "cell_type": "code",
   "execution_count": 87,
   "metadata": {
    "scrolled": true
   },
   "outputs": [
    {
     "data": {
      "image/png": "[encoded data removed]",
      "text/plain": [
       "<Figure size 1440x432 with 3 Axes>"
      ]
     },
     "metadata": {
      "needs_background": "light"
     },
     "output_type": "display_data"
    }
   ],
   "source": [
    "fig, axes = plt.subplots(nrows = 1,ncols = 3,figsize = (20,6))\n",
    "ax = sns.boxplot(x=\"Churn\", y=\"tenure\", data=X_train.merge(y_train, right_on=\"customerID\", left_index=True), ax=axes[0])\n",
    "ax = sns.boxplot(x=\"Churn\", y=\"MonthlyCharges\", data=X_train.merge(y_train, right_on=\"customerID\", left_index=True), ax=axes[1])\n",
    "ax = sns.boxplot(x=\"Churn\",y=\"TotalCharges\",data=X_train.merge(y_train, right_on=\"customerID\", left_index=True),ax=axes[2])"
   ]
  },
  {
   "cell_type": "markdown",
   "metadata": {},
   "source": [
    "D'après les boxplots on remarque que les distributions des variables **tenure, MonthlyCharges et TotalCharges** ne sont pas identiques en fonction de la categorie du label.\n",
    "On voit aussi que les clients qui ont une ancieneté de moins de 15mois semblent resiler leur contract ou encore  la moitié des clients qui resilient ont une ancienté de 10mois.\n",
    "\n",
    "Nous allons créer une variable booleenne qui indiquera si un client a une ancienté de moins de 15mois."
   ]
  },
  {
   "cell_type": "markdown",
   "metadata": {},
   "source": [
    "Analysons maintenant les resiliations en fonction du type de contrat"
   ]
  },
  {
   "cell_type": "code",
   "execution_count": 88,
   "metadata": {
    "scrolled": false
   },
   "outputs": [
    {
     "data": {
      "image/png": "[encoded data removed]",
      "text/plain": [
       "<Figure size 432x288 with 1 Axes>"
      ]
     },
     "metadata": {
      "needs_background": "light"
     },
     "output_type": "display_data"
    }
   ],
   "source": [
    "countplot_ratio(\"Contract\", hue=\"Churn\", data=X_train.merge(y_train, right_on=\"customerID\", left_index=True))"
   ]
  },
  {
   "cell_type": "markdown",
   "metadata": {},
   "source": [
    "On remarque le taux de résiliation change en fonction du type de contrat, les clients avec un contrat mensuelle resilient le plus. Lors du Feature Engineering nous allons crée une variable qui indique si un contrat est mensuelle ou pas."
   ]
  },
  {
   "cell_type": "code",
   "execution_count": 89,
   "metadata": {
    "scrolled": true
   },
   "outputs": [
    {
     "data": {
      "image/png": "[encoded data removed]",
      "text/plain": [
       "<Figure size 1440x432 with 2 Axes>"
      ]
     },
     "metadata": {
      "needs_background": "light"
     },
     "output_type": "display_data"
    }
   ],
   "source": [
    "fig, axes = plt.subplots(nrows = 1,ncols = 2,figsize = (20,6))\n",
    "countplot_ratio(x=\"gender\",data=X_train,hue=None,ax=axes[0])\n",
    "countplot_ratio(x=\"gender\",data=X_train.merge(y_train, right_on=\"customerID\", left_index=True), hue=\"Churn\",ax=axes[1])"
   ]
  },
  {
   "cell_type": "markdown",
   "metadata": {},
   "source": [
    "Les proprotions des hommes et des femmes sont presque identiques dans notre base de donnée et le taux de resiliation des hommes et des femmes aussi."
   ]
  },
  {
   "cell_type": "code",
   "execution_count": 90,
   "metadata": {
    "scrolled": false
   },
   "outputs": [
    {
     "data": {
      "image/png": "[encoded data removed]",
      "text/plain": [
       "<Figure size 1440x432 with 2 Axes>"
      ]
     },
     "metadata": {
      "needs_background": "light"
     },
     "output_type": "display_data"
    }
   ],
   "source": [
    "fig, axes = plt.subplots(nrows = 1,ncols = 2,figsize = (20,6))\n",
    "countplot_ratio(x=\"SeniorCitizen\",data=X_train,hue=None,ax=axes[0])\n",
    "countplot_ratio(x=\"SeniorCitizen\",data=X_train.merge(y_train, right_on=\"customerID\", left_index=True), hue=\"Churn\",ax=axes[1])"
   ]
  },
  {
   "cell_type": "markdown",
   "metadata": {},
   "source": [
    "D'apres la figure, 83.92 % des clients sont des jeuness, le taux de resiliation des jeunes est plus élévé."
   ]
  },
  {
   "cell_type": "markdown",
   "metadata": {},
   "source": [
    "### Feature Engineering \n",
    "D'après nos analyses nous allons creer de nouvelles variables qui sont:\n",
    "- ElectronicCheck: bool qui indique si mode de payement est ElectronicCheck\n",
    "- tenure_less_th_15: bool qui indique si un client a une ancieneté de moins de 15mois\n",
    "- MonthtoMonth: bool qui indique si le type du contract d'un client est mensuelle\n",
    "- Nb_service: Varibles qui compte le nombre total de services aux un client à souscrit "
   ]
  },
  {
   "cell_type": "markdown",
   "metadata": {},
   "source": [
    "#### Remarque:\n",
    "- Si on fait du OneHotEncoding après les variabls **MonthtoMonth** et **ElectronicCheck** vont exister en doublons dans ce cas nous allons les supprimer"
   ]
  },
  {
   "cell_type": "code",
   "execution_count": 91,
   "metadata": {},
   "outputs": [],
   "source": [
    "def drop_doub_var(data):\n",
    "    \"\"\"\n",
    "    Fonction qui supprime les variables qui existe en doublons\n",
    "    \"\"\"\n",
    "    return data.drop([\"ElectronicCheck\", \"MonthtoMonth\"], axis=True)"
   ]
  },
  {
   "cell_type": "code",
   "execution_count": 92,
   "metadata": {},
   "outputs": [],
   "source": [
    "\n",
    "def feature_eng(data: pd.DataFrame) ->pd.DataFrame:\n",
    "    \"\"\"Fontion qui cree 4 nouvelles variables\n",
    "    \"\"\"\n",
    "    data.loc[:,\"ElectronicCheck\"] = data.loc[:,\"PaymentMethod\"]==\"Electronic check\"\n",
    "    data.loc[:,\"tenure_less_th_15\"] = data.loc[:,\"tenure\"]<=15\n",
    "    data.loc[:,\"MonthtoMonth\"] = data.loc[:, \"Contract\"]==\"Month-to-month\"\n",
    "    data.loc[:,\"Nb_service\"] = (data[[\"OnlineSecurity\",\"OnlineBackup\", \"DeviceProtection\",\n",
    "                                        \"TechSupport\",\"StreamingTV\", \"StreamingMovies\"]]=='Yes').sum(axis=1)\n",
    "    return data"
   ]
  },
  {
   "cell_type": "code",
   "execution_count": 93,
   "metadata": {},
   "outputs": [
    {
     "data": {
      "text/html": [
       "<div>\n",
       "<style scoped>\n",
       "    .dataframe tbody tr th:only-of-type {\n",
       "        vertical-align: middle;\n",
       "    }\n",
       "\n",
       "    .dataframe tbody tr th {\n",
       "        vertical-align: top;\n",
       "    }\n",
       "\n",
       "    .dataframe thead th {\n",
       "        text-align: right;\n",
       "    }\n",
       "</style>\n",
       "<table border=\"1\" class=\"dataframe\">\n",
       "  <thead>\n",
       "    <tr style=\"text-align: right;\">\n",
       "      <th></th>\n",
       "      <th>gender</th>\n",
       "      <th>SeniorCitizen</th>\n",
       "      <th>Partner</th>\n",
       "      <th>Dependents</th>\n",
       "      <th>tenure</th>\n",
       "      <th>PhoneService</th>\n",
       "      <th>MultipleLines</th>\n",
       "      <th>InternetService</th>\n",
       "      <th>OnlineSecurity</th>\n",
       "      <th>OnlineBackup</th>\n",
       "      <th>DeviceProtection</th>\n",
       "      <th>TechSupport</th>\n",
       "      <th>StreamingTV</th>\n",
       "      <th>StreamingMovies</th>\n",
       "      <th>Contract</th>\n",
       "      <th>PaperlessBilling</th>\n",
       "      <th>PaymentMethod</th>\n",
       "      <th>MonthlyCharges</th>\n",
       "      <th>TotalCharges</th>\n",
       "      <th>Churn</th>\n",
       "    </tr>\n",
       "    <tr>\n",
       "      <th>customerID</th>\n",
       "      <th></th>\n",
       "      <th></th>\n",
       "      <th></th>\n",
       "      <th></th>\n",
       "      <th></th>\n",
       "      <th></th>\n",
       "      <th></th>\n",
       "      <th></th>\n",
       "      <th></th>\n",
       "      <th></th>\n",
       "      <th></th>\n",
       "      <th></th>\n",
       "      <th></th>\n",
       "      <th></th>\n",
       "      <th></th>\n",
       "      <th></th>\n",
       "      <th></th>\n",
       "      <th></th>\n",
       "      <th></th>\n",
       "      <th></th>\n",
       "    </tr>\n",
       "  </thead>\n",
       "  <tbody>\n",
       "    <tr>\n",
       "      <th>7590-VHVEG</th>\n",
       "      <td>Female</td>\n",
       "      <td>0</td>\n",
       "      <td>Yes</td>\n",
       "      <td>No</td>\n",
       "      <td>1</td>\n",
       "      <td>No</td>\n",
       "      <td>No phone service</td>\n",
       "      <td>DSL</td>\n",
       "      <td>No</td>\n",
       "      <td>Yes</td>\n",
       "      <td>No</td>\n",
       "      <td>No</td>\n",
       "      <td>No</td>\n",
       "      <td>No</td>\n",
       "      <td>Month-to-month</td>\n",
       "      <td>Yes</td>\n",
       "      <td>Electronic check</td>\n",
       "      <td>29.85</td>\n",
       "      <td>29.85</td>\n",
       "      <td>No</td>\n",
       "    </tr>\n",
       "    <tr>\n",
       "      <th>5575-GNVDE</th>\n",
       "      <td>Male</td>\n",
       "      <td>0</td>\n",
       "      <td>No</td>\n",
       "      <td>No</td>\n",
       "      <td>34</td>\n",
       "      <td>Yes</td>\n",
       "      <td>No</td>\n",
       "      <td>DSL</td>\n",
       "      <td>Yes</td>\n",
       "      <td>No</td>\n",
       "      <td>Yes</td>\n",
       "      <td>No</td>\n",
       "      <td>No</td>\n",
       "      <td>No</td>\n",
       "      <td>One year</td>\n",
       "      <td>No</td>\n",
       "      <td>Mailed check</td>\n",
       "      <td>56.95</td>\n",
       "      <td>1889.5</td>\n",
       "      <td>No</td>\n",
       "    </tr>\n",
       "    <tr>\n",
       "      <th>3668-QPYBK</th>\n",
       "      <td>Male</td>\n",
       "      <td>0</td>\n",
       "      <td>No</td>\n",
       "      <td>No</td>\n",
       "      <td>2</td>\n",
       "      <td>Yes</td>\n",
       "      <td>No</td>\n",
       "      <td>DSL</td>\n",
       "      <td>Yes</td>\n",
       "      <td>Yes</td>\n",
       "      <td>No</td>\n",
       "      <td>No</td>\n",
       "      <td>No</td>\n",
       "      <td>No</td>\n",
       "      <td>Month-to-month</td>\n",
       "      <td>Yes</td>\n",
       "      <td>Mailed check</td>\n",
       "      <td>53.85</td>\n",
       "      <td>108.15</td>\n",
       "      <td>Yes</td>\n",
       "    </tr>\n",
       "    <tr>\n",
       "      <th>7795-CFOCW</th>\n",
       "      <td>Male</td>\n",
       "      <td>0</td>\n",
       "      <td>No</td>\n",
       "      <td>No</td>\n",
       "      <td>45</td>\n",
       "      <td>No</td>\n",
       "      <td>No phone service</td>\n",
       "      <td>DSL</td>\n",
       "      <td>Yes</td>\n",
       "      <td>No</td>\n",
       "      <td>Yes</td>\n",
       "      <td>Yes</td>\n",
       "      <td>No</td>\n",
       "      <td>No</td>\n",
       "      <td>One year</td>\n",
       "      <td>No</td>\n",
       "      <td>Bank transfer (automatic)</td>\n",
       "      <td>42.30</td>\n",
       "      <td>1840.75</td>\n",
       "      <td>No</td>\n",
       "    </tr>\n",
       "    <tr>\n",
       "      <th>9237-HQITU</th>\n",
       "      <td>Female</td>\n",
       "      <td>0</td>\n",
       "      <td>No</td>\n",
       "      <td>No</td>\n",
       "      <td>2</td>\n",
       "      <td>Yes</td>\n",
       "      <td>No</td>\n",
       "      <td>Fiber optic</td>\n",
       "      <td>No</td>\n",
       "      <td>No</td>\n",
       "      <td>No</td>\n",
       "      <td>No</td>\n",
       "      <td>No</td>\n",
       "      <td>No</td>\n",
       "      <td>Month-to-month</td>\n",
       "      <td>Yes</td>\n",
       "      <td>Electronic check</td>\n",
       "      <td>70.70</td>\n",
       "      <td>151.65</td>\n",
       "      <td>Yes</td>\n",
       "    </tr>\n",
       "    <tr>\n",
       "      <th>9305-CDSKC</th>\n",
       "      <td>Female</td>\n",
       "      <td>0</td>\n",
       "      <td>No</td>\n",
       "      <td>No</td>\n",
       "      <td>8</td>\n",
       "      <td>Yes</td>\n",
       "      <td>Yes</td>\n",
       "      <td>Fiber optic</td>\n",
       "      <td>No</td>\n",
       "      <td>No</td>\n",
       "      <td>Yes</td>\n",
       "      <td>No</td>\n",
       "      <td>Yes</td>\n",
       "      <td>Yes</td>\n",
       "      <td>Month-to-month</td>\n",
       "      <td>Yes</td>\n",
       "      <td>Electronic check</td>\n",
       "      <td>99.65</td>\n",
       "      <td>820.5</td>\n",
       "      <td>Yes</td>\n",
       "    </tr>\n",
       "  </tbody>\n",
       "</table>\n",
       "</div>"
      ],
      "text/plain": [
       "            gender  SeniorCitizen Partner Dependents  tenure PhoneService  \\\n",
       "customerID                                                                  \n",
       "7590-VHVEG  Female              0     Yes         No       1           No   \n",
       "5575-GNVDE    Male              0      No         No      34          Yes   \n",
       "3668-QPYBK    Male              0      No         No       2          Yes   \n",
       "7795-CFOCW    Male              0      No         No      45           No   \n",
       "9237-HQITU  Female              0      No         No       2          Yes   \n",
       "9305-CDSKC  Female              0      No         No       8          Yes   \n",
       "\n",
       "               MultipleLines InternetService OnlineSecurity OnlineBackup  \\\n",
       "customerID                                                                 \n",
       "7590-VHVEG  No phone service             DSL             No          Yes   \n",
       "5575-GNVDE                No             DSL            Yes           No   \n",
       "3668-QPYBK                No             DSL            Yes          Yes   \n",
       "7795-CFOCW  No phone service             DSL            Yes           No   \n",
       "9237-HQITU                No     Fiber optic             No           No   \n",
       "9305-CDSKC               Yes     Fiber optic             No           No   \n",
       "\n",
       "           DeviceProtection TechSupport StreamingTV StreamingMovies  \\\n",
       "customerID                                                            \n",
       "7590-VHVEG               No          No          No              No   \n",
       "5575-GNVDE              Yes          No          No              No   \n",
       "3668-QPYBK               No          No          No              No   \n",
       "7795-CFOCW              Yes         Yes          No              No   \n",
       "9237-HQITU               No          No          No              No   \n",
       "9305-CDSKC              Yes          No         Yes             Yes   \n",
       "\n",
       "                  Contract PaperlessBilling              PaymentMethod  \\\n",
       "customerID                                                               \n",
       "7590-VHVEG  Month-to-month              Yes           Electronic check   \n",
       "5575-GNVDE        One year               No               Mailed check   \n",
       "3668-QPYBK  Month-to-month              Yes               Mailed check   \n",
       "7795-CFOCW        One year               No  Bank transfer (automatic)   \n",
       "9237-HQITU  Month-to-month              Yes           Electronic check   \n",
       "9305-CDSKC  Month-to-month              Yes           Electronic check   \n",
       "\n",
       "            MonthlyCharges TotalCharges Churn  \n",
       "customerID                                     \n",
       "7590-VHVEG           29.85        29.85    No  \n",
       "5575-GNVDE           56.95       1889.5    No  \n",
       "3668-QPYBK           53.85       108.15   Yes  \n",
       "7795-CFOCW           42.30      1840.75    No  \n",
       "9237-HQITU           70.70       151.65   Yes  \n",
       "9305-CDSKC           99.65        820.5   Yes  "
      ]
     },
     "execution_count": 93,
     "metadata": {},
     "output_type": "execute_result"
    }
   ],
   "source": [
    "X_train = feature_eng(X_train)\n",
    "data.head(6)"
   ]
  },
  {
   "cell_type": "markdown",
   "metadata": {},
   "source": [
    "### Separation des variables numeriques et catégorielles"
   ]
  },
  {
   "cell_type": "code",
   "execution_count": 94,
   "metadata": {},
   "outputs": [],
   "source": [
    "def split_cat_num(data):\n",
    "    \"\"\"\n",
    "    Fonction qui separe les variables categrorielle d'avec les numerique\n",
    "    \n",
    "    Parameters\n",
    "    ----------\n",
    "    data: pd.DataFrame \n",
    "    \n",
    "    Returns\n",
    "    ---------\n",
    "    cat: pd.DataFrame\n",
    "    num: pd.DataFrame\n",
    "    \"\"\"\n",
    "    cat = data.select_dtypes(['object', int, bool])\n",
    "    num = data.select_dtypes([float])\n",
    "    #num.loc[num.index, \"tenure\"] = data.loc[num.index, \"tenure\"]\n",
    "    return cat, num\n",
    "\n",
    "X_train_cat, X_train_num = split_cat_num(X_train)"
   ]
  },
  {
   "cell_type": "code",
   "execution_count": null,
   "metadata": {},
   "outputs": [],
   "source": []
  },
  {
   "cell_type": "code",
   "execution_count": 97,
   "metadata": {},
   "outputs": [
    {
     "data": {
      "text/plain": [
       "MonthlyCharges    0\n",
       "TotalCharges      0\n",
       "dtype: int64"
      ]
     },
     "execution_count": 97,
     "metadata": {},
     "output_type": "execute_result"
    }
   ],
   "source": [
    "X_train_num.isna().sum()\n",
    "#X_train.isna().sum()"
   ]
  },
  {
   "cell_type": "code",
   "execution_count": 98,
   "metadata": {},
   "outputs": [],
   "source": [
    "from sklearn.preprocessing import OneHotEncoder, OrdinalEncoder\n",
    "#one_hot = OneHotEncoder(handle_unknown='ignore')"
   ]
  },
  {
   "cell_type": "markdown",
   "metadata": {},
   "source": [
    "### Encodage des variables categorielles:\n"
   ]
  },
  {
   "cell_type": "markdown",
   "metadata": {},
   "source": [
    "Nous allons maintenant encoder nos variables, il y a plusieurs manières d'encoder les variables qualitatives:\n",
    "- Nous allons dans un premier temps faire du one_hot_encoding qui ne prend pas en compte la notion d'ordre"
   ]
  },
  {
   "cell_type": "markdown",
   "metadata": {},
   "source": [
    "Premierement commençons par separer nos variables qualitatives en deux: binaire et non binaire \n"
   ]
  },
  {
   "cell_type": "code",
   "execution_count": 99,
   "metadata": {},
   "outputs": [],
   "source": [
    "\n",
    "def split_cat_feat(data: pd.DataFrame) ->pd.DataFrame :\n",
    "    \"\"\"Separation des variables qualitatives en deux: binaire et non binaire\n",
    "    \"\"\"\n",
    "    binary_feat = []\n",
    "    for col in data.columns:\n",
    "        if data[col].unique().shape[0]==2:\n",
    "            binary_feat.append(col)\n",
    "    other_cat_feat = data.columns.drop(binary_feat)\n",
    "    return data[binary_feat], data[other_cat_feat]"
   ]
  },
  {
   "cell_type": "code",
   "execution_count": 100,
   "metadata": {},
   "outputs": [],
   "source": [
    "bin_feat, no_bin_feat = split_cat_feat(X_train_cat)"
   ]
  },
  {
   "cell_type": "code",
   "execution_count": 101,
   "metadata": {},
   "outputs": [],
   "source": [
    "def binaire_encoding_fit(data: pd.DataFrame) -> [pd.DataFrame, OrdinalEncoder]:\n",
    "    \"\"\"\n",
    "    fonction qui entraine le OrdinalEncoder\n",
    "    \"\"\"\n",
    "    ord_enc = OrdinalEncoder()\n",
    "    ord_enc.fit(data)\n",
    "    \n",
    "    return ord_enc\n",
    "\n",
    "binaire_encoder = binaire_encoding_fit(bin_feat)"
   ]
  },
  {
   "cell_type": "code",
   "execution_count": 102,
   "metadata": {},
   "outputs": [],
   "source": [
    "def binaire_encoding_transfrom(data, encoder):\n",
    "    \"\"\"Fonction qui transforme les données en utilisant le ordinalendoder\n",
    "    \"\"\"\n",
    "    vals = encoder.transform(data)\n",
    "    col = data.columns\n",
    "    return pd.DataFrame(data=vals, columns=col, index=data.index)\n",
    "\n",
    "bin_feat_encoded = binaire_encoding_transfrom(bin_feat, binaire_encoder)"
   ]
  },
  {
   "cell_type": "markdown",
   "metadata": {
    "scrolled": true
   },
   "source": [
    "On utilise OrdinalEncoder pour encoder les variables binaire en 0/1"
   ]
  },
  {
   "cell_type": "code",
   "execution_count": 103,
   "metadata": {},
   "outputs": [],
   "source": [
    "def one_hot_encoding_fit(data: pd.DataFrame):\n",
    "    \"\"\"\n",
    "    Fonction qui fait du OneHotEncoder\n",
    "    \"\"\"\n",
    "    one_hot_enc = OneHotEncoder(handle_unknown='ignore', sparse=False)\n",
    "    one_hot_enc.fit(data)\n",
    "    return one_hot_enc\n",
    "\n",
    "one_hot_encoder = one_hot_encoding_fit(no_bin_feat)"
   ]
  },
  {
   "cell_type": "code",
   "execution_count": 104,
   "metadata": {},
   "outputs": [],
   "source": [
    "\n",
    "def one_hot_encoding_transform(data: pd.DataFrame, encoder):\n",
    "    \"\"\"\n",
    "    Fonction qui fait du OneHotEncoder\n",
    "    \"\"\"\n",
    "    vals = encoder.transform(data)\n",
    "    cols = []\n",
    "    for i, col in enumerate(data.columns):\n",
    "        for unique in encoder.categories_[i]:\n",
    "            cols.append(f\"{col}_{unique}\")\n",
    "    df = pd.DataFrame(data = np.hstack((data.values, vals)), columns = list(data.columns) + cols, index=data.index)\n",
    "    return df.drop(data.columns, axis=1).astype(int)"
   ]
  },
  {
   "cell_type": "code",
   "execution_count": 105,
   "metadata": {
    "scrolled": true
   },
   "outputs": [],
   "source": [
    "no_bin_feat_encoded = one_hot_encoding_transform(no_bin_feat, one_hot_encoder)"
   ]
  },
  {
   "cell_type": "markdown",
   "metadata": {},
   "source": [
    "### Normalisation"
   ]
  },
  {
   "cell_type": "markdown",
   "metadata": {},
   "source": [
    "Nous allons normaliser nos variables quantitatives pour qu'elles soivent dans la même échelle."
   ]
  },
  {
   "cell_type": "markdown",
   "metadata": {},
   "source": [
    "La raison de cette normalisation est que, dans certains algorithmes, les fonctions côuts ne fonctionneront pas correctement sans normalisation. Par exemple, de nombreux classifiers calculent la distance entre deux points par la distance euclidienne. Si l'une des variables prend des grandes valeurs, la distance sera régie par cette variable particulière.\n",
    "\n",
    "Une autre raison est aussi que la descente de gradient converge beaucoup plus rapidement sur les données normalisées"
   ]
  },
  {
   "cell_type": "code",
   "execution_count": 106,
   "metadata": {},
   "outputs": [],
   "source": [
    "from sklearn.preprocessing import MinMaxScaler\n",
    "\n",
    "def scaling_num_feat_fit(data):\n",
    "    \"\"\"Fonction qui entaine le minmaxscaler\n",
    "    \"\"\"\n",
    "    scaler = MinMaxScaler()\n",
    "    scaler.fit(data)\n",
    "    return scaler\n",
    "min_max_scaler = scaling_num_feat_fit(X_train_num)"
   ]
  },
  {
   "cell_type": "code",
   "execution_count": 107,
   "metadata": {},
   "outputs": [],
   "source": [
    "def scaling_num_feat_transform(data, encoder):\n",
    "    \"\"\"Fonction qui transforme les donnée en utilisant le minmaxscaler\n",
    "    \"\"\"\n",
    "    vals = encoder.transform(data)\n",
    "    col = data.columns\n",
    "    return pd.DataFrame(data=vals, columns=col, index=data.index)\n",
    "num_feat_transformed = scaling_num_feat_transform(X_train_num, min_max_scaler)"
   ]
  },
  {
   "cell_type": "markdown",
   "metadata": {},
   "source": [
    "Nous allons maintenant concatener nos trois tables"
   ]
  },
  {
   "cell_type": "code",
   "execution_count": 108,
   "metadata": {},
   "outputs": [],
   "source": [
    "def creat_mater_table(bin_data, no_bin_data, num_data):\n",
    "    df = bin_data.merge(no_bin_data, right_on=\"customerID\", left_index=True)\n",
    "    df = df.merge(num_data, right_on=\"customerID\", left_index=True)\n",
    "    return df\n",
    "master_table = creat_mater_table(bin_feat_encoded, no_bin_feat_encoded, num_feat_transformed)"
   ]
  },
  {
   "cell_type": "code",
   "execution_count": 109,
   "metadata": {
    "scrolled": false
   },
   "outputs": [
    {
     "data": {
      "text/html": [
       "<div>\n",
       "<style scoped>\n",
       "    .dataframe tbody tr th:only-of-type {\n",
       "        vertical-align: middle;\n",
       "    }\n",
       "\n",
       "    .dataframe tbody tr th {\n",
       "        vertical-align: top;\n",
       "    }\n",
       "\n",
       "    .dataframe thead th {\n",
       "        text-align: right;\n",
       "    }\n",
       "</style>\n",
       "<table border=\"1\" class=\"dataframe\">\n",
       "  <thead>\n",
       "    <tr style=\"text-align: right;\">\n",
       "      <th></th>\n",
       "      <th>gender</th>\n",
       "      <th>Partner</th>\n",
       "      <th>Dependents</th>\n",
       "      <th>PhoneService</th>\n",
       "      <th>PaperlessBilling</th>\n",
       "      <th>ElectronicCheck</th>\n",
       "      <th>tenure_less_th_15</th>\n",
       "      <th>MonthtoMonth</th>\n",
       "      <th>MultipleLines_No</th>\n",
       "      <th>MultipleLines_No phone service</th>\n",
       "      <th>...</th>\n",
       "      <th>StreamingMovies_Yes</th>\n",
       "      <th>Contract_Month-to-month</th>\n",
       "      <th>Contract_One year</th>\n",
       "      <th>Contract_Two year</th>\n",
       "      <th>PaymentMethod_Bank transfer (automatic)</th>\n",
       "      <th>PaymentMethod_Credit card (automatic)</th>\n",
       "      <th>PaymentMethod_Electronic check</th>\n",
       "      <th>PaymentMethod_Mailed check</th>\n",
       "      <th>MonthlyCharges</th>\n",
       "      <th>TotalCharges</th>\n",
       "    </tr>\n",
       "    <tr>\n",
       "      <th>customerID</th>\n",
       "      <th></th>\n",
       "      <th></th>\n",
       "      <th></th>\n",
       "      <th></th>\n",
       "      <th></th>\n",
       "      <th></th>\n",
       "      <th></th>\n",
       "      <th></th>\n",
       "      <th></th>\n",
       "      <th></th>\n",
       "      <th></th>\n",
       "      <th></th>\n",
       "      <th></th>\n",
       "      <th></th>\n",
       "      <th></th>\n",
       "      <th></th>\n",
       "      <th></th>\n",
       "      <th></th>\n",
       "      <th></th>\n",
       "      <th></th>\n",
       "      <th></th>\n",
       "    </tr>\n",
       "  </thead>\n",
       "  <tbody>\n",
       "    <tr>\n",
       "      <th>4223-BKEOR</th>\n",
       "      <td>0.0</td>\n",
       "      <td>0.0</td>\n",
       "      <td>1.0</td>\n",
       "      <td>1.0</td>\n",
       "      <td>0.0</td>\n",
       "      <td>0.0</td>\n",
       "      <td>0.0</td>\n",
       "      <td>0.0</td>\n",
       "      <td>1</td>\n",
       "      <td>0</td>\n",
       "      <td>...</td>\n",
       "      <td>1</td>\n",
       "      <td>0</td>\n",
       "      <td>1</td>\n",
       "      <td>0</td>\n",
       "      <td>0</td>\n",
       "      <td>0</td>\n",
       "      <td>0</td>\n",
       "      <td>1</td>\n",
       "      <td>0.464375</td>\n",
       "      <td>0.152089</td>\n",
       "    </tr>\n",
       "    <tr>\n",
       "      <th>6035-RIIOM</th>\n",
       "      <td>0.0</td>\n",
       "      <td>0.0</td>\n",
       "      <td>0.0</td>\n",
       "      <td>1.0</td>\n",
       "      <td>1.0</td>\n",
       "      <td>0.0</td>\n",
       "      <td>0.0</td>\n",
       "      <td>0.0</td>\n",
       "      <td>0</td>\n",
       "      <td>0</td>\n",
       "      <td>...</td>\n",
       "      <td>1</td>\n",
       "      <td>0</td>\n",
       "      <td>0</td>\n",
       "      <td>1</td>\n",
       "      <td>1</td>\n",
       "      <td>0</td>\n",
       "      <td>0</td>\n",
       "      <td>0</td>\n",
       "      <td>0.786746</td>\n",
       "      <td>0.589736</td>\n",
       "    </tr>\n",
       "    <tr>\n",
       "      <th>3797-VTIDR</th>\n",
       "      <td>1.0</td>\n",
       "      <td>1.0</td>\n",
       "      <td>0.0</td>\n",
       "      <td>0.0</td>\n",
       "      <td>1.0</td>\n",
       "      <td>1.0</td>\n",
       "      <td>1.0</td>\n",
       "      <td>1.0</td>\n",
       "      <td>0</td>\n",
       "      <td>1</td>\n",
       "      <td>...</td>\n",
       "      <td>0</td>\n",
       "      <td>1</td>\n",
       "      <td>0</td>\n",
       "      <td>0</td>\n",
       "      <td>0</td>\n",
       "      <td>0</td>\n",
       "      <td>1</td>\n",
       "      <td>0</td>\n",
       "      <td>0.051819</td>\n",
       "      <td>0.000537</td>\n",
       "    </tr>\n",
       "    <tr>\n",
       "      <th>2568-BRGYX</th>\n",
       "      <td>1.0</td>\n",
       "      <td>0.0</td>\n",
       "      <td>0.0</td>\n",
       "      <td>1.0</td>\n",
       "      <td>1.0</td>\n",
       "      <td>1.0</td>\n",
       "      <td>1.0</td>\n",
       "      <td>1.0</td>\n",
       "      <td>1</td>\n",
       "      <td>0</td>\n",
       "      <td>...</td>\n",
       "      <td>0</td>\n",
       "      <td>1</td>\n",
       "      <td>0</td>\n",
       "      <td>0</td>\n",
       "      <td>0</td>\n",
       "      <td>0</td>\n",
       "      <td>1</td>\n",
       "      <td>0</td>\n",
       "      <td>0.517688</td>\n",
       "      <td>0.025288</td>\n",
       "    </tr>\n",
       "    <tr>\n",
       "      <th>2775-SEFEE</th>\n",
       "      <td>1.0</td>\n",
       "      <td>0.0</td>\n",
       "      <td>1.0</td>\n",
       "      <td>1.0</td>\n",
       "      <td>1.0</td>\n",
       "      <td>0.0</td>\n",
       "      <td>1.0</td>\n",
       "      <td>0.0</td>\n",
       "      <td>0</td>\n",
       "      <td>0</td>\n",
       "      <td>...</td>\n",
       "      <td>0</td>\n",
       "      <td>0</td>\n",
       "      <td>0</td>\n",
       "      <td>1</td>\n",
       "      <td>1</td>\n",
       "      <td>0</td>\n",
       "      <td>0</td>\n",
       "      <td>0</td>\n",
       "      <td>0.434978</td>\n",
       "      <td>0.004973</td>\n",
       "    </tr>\n",
       "  </tbody>\n",
       "</table>\n",
       "<p>5 rows × 41 columns</p>\n",
       "</div>"
      ],
      "text/plain": [
       "            gender  Partner  Dependents  PhoneService  PaperlessBilling  \\\n",
       "customerID                                                                \n",
       "4223-BKEOR     0.0      0.0         1.0           1.0               0.0   \n",
       "6035-RIIOM     0.0      0.0         0.0           1.0               1.0   \n",
       "3797-VTIDR     1.0      1.0         0.0           0.0               1.0   \n",
       "2568-BRGYX     1.0      0.0         0.0           1.0               1.0   \n",
       "2775-SEFEE     1.0      0.0         1.0           1.0               1.0   \n",
       "\n",
       "            ElectronicCheck  tenure_less_th_15  MonthtoMonth  \\\n",
       "customerID                                                     \n",
       "4223-BKEOR              0.0                0.0           0.0   \n",
       "6035-RIIOM              0.0                0.0           0.0   \n",
       "3797-VTIDR              1.0                1.0           1.0   \n",
       "2568-BRGYX              1.0                1.0           1.0   \n",
       "2775-SEFEE              0.0                1.0           0.0   \n",
       "\n",
       "            MultipleLines_No  MultipleLines_No phone service  ...  \\\n",
       "customerID                                                    ...   \n",
       "4223-BKEOR                 1                               0  ...   \n",
       "6035-RIIOM                 0                               0  ...   \n",
       "3797-VTIDR                 0                               1  ...   \n",
       "2568-BRGYX                 1                               0  ...   \n",
       "2775-SEFEE                 0                               0  ...   \n",
       "\n",
       "            StreamingMovies_Yes  Contract_Month-to-month  Contract_One year  \\\n",
       "customerID                                                                    \n",
       "4223-BKEOR                    1                        0                  1   \n",
       "6035-RIIOM                    1                        0                  0   \n",
       "3797-VTIDR                    0                        1                  0   \n",
       "2568-BRGYX                    0                        1                  0   \n",
       "2775-SEFEE                    0                        0                  0   \n",
       "\n",
       "            Contract_Two year  PaymentMethod_Bank transfer (automatic)  \\\n",
       "customerID                                                               \n",
       "4223-BKEOR                  0                                        0   \n",
       "6035-RIIOM                  1                                        1   \n",
       "3797-VTIDR                  0                                        0   \n",
       "2568-BRGYX                  0                                        0   \n",
       "2775-SEFEE                  1                                        1   \n",
       "\n",
       "            PaymentMethod_Credit card (automatic)  \\\n",
       "customerID                                          \n",
       "4223-BKEOR                                      0   \n",
       "6035-RIIOM                                      0   \n",
       "3797-VTIDR                                      0   \n",
       "2568-BRGYX                                      0   \n",
       "2775-SEFEE                                      0   \n",
       "\n",
       "            PaymentMethod_Electronic check  PaymentMethod_Mailed check  \\\n",
       "customerID                                                               \n",
       "4223-BKEOR                               0                           1   \n",
       "6035-RIIOM                               0                           0   \n",
       "3797-VTIDR                               1                           0   \n",
       "2568-BRGYX                               1                           0   \n",
       "2775-SEFEE                               0                           0   \n",
       "\n",
       "            MonthlyCharges  TotalCharges  \n",
       "customerID                                \n",
       "4223-BKEOR        0.464375      0.152089  \n",
       "6035-RIIOM        0.786746      0.589736  \n",
       "3797-VTIDR        0.051819      0.000537  \n",
       "2568-BRGYX        0.517688      0.025288  \n",
       "2775-SEFEE        0.434978      0.004973  \n",
       "\n",
       "[5 rows x 41 columns]"
      ]
     },
     "execution_count": 109,
     "metadata": {},
     "output_type": "execute_result"
    }
   ],
   "source": [
    "master_table.head()"
   ]
  },
  {
   "cell_type": "markdown",
   "metadata": {},
   "source": [
    "Matrix de correlation:\n",
    "Nous allons voir comment nos variables sont correlées afin de faire une première selection de variable"
   ]
  },
  {
   "cell_type": "markdown",
   "metadata": {},
   "source": [
    "Tout d'abord encodons notre label (yes, non) -> (1, 0)"
   ]
  },
  {
   "cell_type": "code",
   "execution_count": 110,
   "metadata": {},
   "outputs": [],
   "source": [
    "from sklearn.preprocessing import LabelEncoder\n",
    "def label_encoding(data: pd.DataFrame) -> [pd.DataFrame, OrdinalEncoder]:\n",
    "    \"\"\"\n",
    "    fonction qui fait du OrdinalEncoder\n",
    "    \"\"\"\n",
    "    df = data.copy()\n",
    "    ord_enc = LabelEncoder()\n",
    "    vals = ord_enc.fit_transform(df[\"Churn\"])\n",
    "    df.loc[:,\"Churn\"] = vals\n",
    "    return df\n",
    "y_train = label_encoding(y_train)\n",
    "#threshold"
   ]
  },
  {
   "cell_type": "code",
   "execution_count": 111,
   "metadata": {},
   "outputs": [
    {
     "data": {
      "text/html": [
       "<div>\n",
       "<style scoped>\n",
       "    .dataframe tbody tr th:only-of-type {\n",
       "        vertical-align: middle;\n",
       "    }\n",
       "\n",
       "    .dataframe tbody tr th {\n",
       "        vertical-align: top;\n",
       "    }\n",
       "\n",
       "    .dataframe thead th {\n",
       "        text-align: right;\n",
       "    }\n",
       "</style>\n",
       "<table border=\"1\" class=\"dataframe\">\n",
       "  <thead>\n",
       "    <tr style=\"text-align: right;\">\n",
       "      <th></th>\n",
       "      <th>Churn</th>\n",
       "    </tr>\n",
       "    <tr>\n",
       "      <th>customerID</th>\n",
       "      <th></th>\n",
       "    </tr>\n",
       "  </thead>\n",
       "  <tbody>\n",
       "    <tr>\n",
       "      <th>4223-BKEOR</th>\n",
       "      <td>0</td>\n",
       "    </tr>\n",
       "    <tr>\n",
       "      <th>6035-RIIOM</th>\n",
       "      <td>0</td>\n",
       "    </tr>\n",
       "    <tr>\n",
       "      <th>3797-VTIDR</th>\n",
       "      <td>1</td>\n",
       "    </tr>\n",
       "    <tr>\n",
       "      <th>2568-BRGYX</th>\n",
       "      <td>1</td>\n",
       "    </tr>\n",
       "    <tr>\n",
       "      <th>2775-SEFEE</th>\n",
       "      <td>0</td>\n",
       "    </tr>\n",
       "  </tbody>\n",
       "</table>\n",
       "</div>"
      ],
      "text/plain": [
       "            Churn\n",
       "customerID       \n",
       "4223-BKEOR      0\n",
       "6035-RIIOM      0\n",
       "3797-VTIDR      1\n",
       "2568-BRGYX      1\n",
       "2775-SEFEE      0"
      ]
     },
     "execution_count": 111,
     "metadata": {},
     "output_type": "execute_result"
    }
   ],
   "source": [
    "y_train.head()"
   ]
  },
  {
   "cell_type": "markdown",
   "metadata": {},
   "source": [
    "Maintenant comme nous l'avons indiqué plus haut, nous allons supprimer les variables en doublons."
   ]
  },
  {
   "cell_type": "code",
   "execution_count": 112,
   "metadata": {
    "scrolled": true
   },
   "outputs": [],
   "source": [
    "master_table = drop_doub_var(master_table)"
   ]
  },
  {
   "cell_type": "code",
   "execution_count": 113,
   "metadata": {
    "scrolled": true
   },
   "outputs": [
    {
     "data": {
      "image/png": "[encoded data removed]",
      "text/plain": [
       "<Figure size 720x720 with 2 Axes>"
      ]
     },
     "metadata": {
      "needs_background": "light"
     },
     "output_type": "display_data"
    }
   ],
   "source": [
    "fig, ax = plt.subplots(figsize=(10,10))\n",
    "fig.suptitle('Correlation entre Churn et les autres variables',fontsize=20)\n",
    "ax=sns.heatmap(master_table.merge(y_train, right_on=\"customerID\", left_index=True).corr()[[\"Churn\"]].sort_values(\"Churn\"),vmax=1, vmin=-1, cmap=\"YlGnBu\", annot=True, ax=ax);\n",
    "ax.invert_yaxis()\n"
   ]
  },
  {
   "cell_type": "markdown",
   "metadata": {},
   "source": [
    "Nous allons maintenant definir un seuil pour selectionner les variables dont leur correlation va depasser"
   ]
  },
  {
   "cell_type": "code",
   "execution_count": 114,
   "metadata": {},
   "outputs": [],
   "source": [
    "def select_feat_by_corr(X, y, threshold=0.09):\n",
    "    data = X.merge(y, right_on=\"customerID\", left_index=True)\n",
    "    churn_corr = data.corr()[[\"Churn\"]].sort_values(\"Churn\")\n",
    "    feat_to_drop=list(churn_corr[(churn_corr[\"Churn\"]< threshold)& (churn_corr[\"Churn\"]>-threshold)].index)\n",
    "    return feat_to_drop\n",
    "feat_to_drop = select_feat_by_corr(master_table, y_train)"
   ]
  },
  {
   "cell_type": "code",
   "execution_count": 115,
   "metadata": {},
   "outputs": [
    {
     "data": {
      "text/plain": [
       "['OnlineBackup_Yes',\n",
       " 'DeviceProtection_Yes',\n",
       " 'MultipleLines_No',\n",
       " 'gender',\n",
       " 'MultipleLines_No phone service',\n",
       " 'PhoneService',\n",
       " 'MultipleLines_Yes',\n",
       " 'StreamingTV_Yes',\n",
       " 'StreamingMovies_Yes']"
      ]
     },
     "execution_count": 115,
     "metadata": {},
     "output_type": "execute_result"
    }
   ],
   "source": [
    "nb_feat_to_drop = len(feat_to_drop)\n",
    "feat_to_drop"
   ]
  },
  {
   "cell_type": "markdown",
   "metadata": {},
   "source": [
    "Nous allons supprimer ces 13 variables de master_table"
   ]
  },
  {
   "cell_type": "code",
   "execution_count": 116,
   "metadata": {},
   "outputs": [],
   "source": [
    "new_master_table = master_table.drop(feat_to_drop, axis=1)"
   ]
  },
  {
   "cell_type": "code",
   "execution_count": 117,
   "metadata": {
    "scrolled": true
   },
   "outputs": [
    {
     "data": {
      "text/html": [
       "<div>\n",
       "<style scoped>\n",
       "    .dataframe tbody tr th:only-of-type {\n",
       "        vertical-align: middle;\n",
       "    }\n",
       "\n",
       "    .dataframe tbody tr th {\n",
       "        vertical-align: top;\n",
       "    }\n",
       "\n",
       "    .dataframe thead th {\n",
       "        text-align: right;\n",
       "    }\n",
       "</style>\n",
       "<table border=\"1\" class=\"dataframe\">\n",
       "  <thead>\n",
       "    <tr style=\"text-align: right;\">\n",
       "      <th></th>\n",
       "      <th>Partner</th>\n",
       "      <th>Dependents</th>\n",
       "      <th>PaperlessBilling</th>\n",
       "      <th>tenure_less_th_15</th>\n",
       "      <th>InternetService_DSL</th>\n",
       "      <th>InternetService_Fiber optic</th>\n",
       "      <th>InternetService_No</th>\n",
       "      <th>OnlineSecurity_No</th>\n",
       "      <th>OnlineSecurity_No internet service</th>\n",
       "      <th>OnlineSecurity_Yes</th>\n",
       "      <th>...</th>\n",
       "      <th>StreamingMovies_No internet service</th>\n",
       "      <th>Contract_Month-to-month</th>\n",
       "      <th>Contract_One year</th>\n",
       "      <th>Contract_Two year</th>\n",
       "      <th>PaymentMethod_Bank transfer (automatic)</th>\n",
       "      <th>PaymentMethod_Credit card (automatic)</th>\n",
       "      <th>PaymentMethod_Electronic check</th>\n",
       "      <th>PaymentMethod_Mailed check</th>\n",
       "      <th>MonthlyCharges</th>\n",
       "      <th>TotalCharges</th>\n",
       "    </tr>\n",
       "    <tr>\n",
       "      <th>customerID</th>\n",
       "      <th></th>\n",
       "      <th></th>\n",
       "      <th></th>\n",
       "      <th></th>\n",
       "      <th></th>\n",
       "      <th></th>\n",
       "      <th></th>\n",
       "      <th></th>\n",
       "      <th></th>\n",
       "      <th></th>\n",
       "      <th></th>\n",
       "      <th></th>\n",
       "      <th></th>\n",
       "      <th></th>\n",
       "      <th></th>\n",
       "      <th></th>\n",
       "      <th></th>\n",
       "      <th></th>\n",
       "      <th></th>\n",
       "      <th></th>\n",
       "      <th></th>\n",
       "    </tr>\n",
       "  </thead>\n",
       "  <tbody>\n",
       "    <tr>\n",
       "      <th>4223-BKEOR</th>\n",
       "      <td>0.0</td>\n",
       "      <td>1.0</td>\n",
       "      <td>0.0</td>\n",
       "      <td>0.0</td>\n",
       "      <td>1</td>\n",
       "      <td>0</td>\n",
       "      <td>0</td>\n",
       "      <td>0</td>\n",
       "      <td>0</td>\n",
       "      <td>1</td>\n",
       "      <td>...</td>\n",
       "      <td>0</td>\n",
       "      <td>0</td>\n",
       "      <td>1</td>\n",
       "      <td>0</td>\n",
       "      <td>0</td>\n",
       "      <td>0</td>\n",
       "      <td>0</td>\n",
       "      <td>1</td>\n",
       "      <td>0.464375</td>\n",
       "      <td>0.152089</td>\n",
       "    </tr>\n",
       "    <tr>\n",
       "      <th>6035-RIIOM</th>\n",
       "      <td>0.0</td>\n",
       "      <td>0.0</td>\n",
       "      <td>1.0</td>\n",
       "      <td>0.0</td>\n",
       "      <td>0</td>\n",
       "      <td>1</td>\n",
       "      <td>0</td>\n",
       "      <td>1</td>\n",
       "      <td>0</td>\n",
       "      <td>0</td>\n",
       "      <td>...</td>\n",
       "      <td>0</td>\n",
       "      <td>0</td>\n",
       "      <td>0</td>\n",
       "      <td>1</td>\n",
       "      <td>1</td>\n",
       "      <td>0</td>\n",
       "      <td>0</td>\n",
       "      <td>0</td>\n",
       "      <td>0.786746</td>\n",
       "      <td>0.589736</td>\n",
       "    </tr>\n",
       "    <tr>\n",
       "      <th>3797-VTIDR</th>\n",
       "      <td>1.0</td>\n",
       "      <td>0.0</td>\n",
       "      <td>1.0</td>\n",
       "      <td>1.0</td>\n",
       "      <td>1</td>\n",
       "      <td>0</td>\n",
       "      <td>0</td>\n",
       "      <td>1</td>\n",
       "      <td>0</td>\n",
       "      <td>0</td>\n",
       "      <td>...</td>\n",
       "      <td>0</td>\n",
       "      <td>1</td>\n",
       "      <td>0</td>\n",
       "      <td>0</td>\n",
       "      <td>0</td>\n",
       "      <td>0</td>\n",
       "      <td>1</td>\n",
       "      <td>0</td>\n",
       "      <td>0.051819</td>\n",
       "      <td>0.000537</td>\n",
       "    </tr>\n",
       "    <tr>\n",
       "      <th>2568-BRGYX</th>\n",
       "      <td>0.0</td>\n",
       "      <td>0.0</td>\n",
       "      <td>1.0</td>\n",
       "      <td>1.0</td>\n",
       "      <td>0</td>\n",
       "      <td>1</td>\n",
       "      <td>0</td>\n",
       "      <td>1</td>\n",
       "      <td>0</td>\n",
       "      <td>0</td>\n",
       "      <td>...</td>\n",
       "      <td>0</td>\n",
       "      <td>1</td>\n",
       "      <td>0</td>\n",
       "      <td>0</td>\n",
       "      <td>0</td>\n",
       "      <td>0</td>\n",
       "      <td>1</td>\n",
       "      <td>0</td>\n",
       "      <td>0.517688</td>\n",
       "      <td>0.025288</td>\n",
       "    </tr>\n",
       "    <tr>\n",
       "      <th>2775-SEFEE</th>\n",
       "      <td>0.0</td>\n",
       "      <td>1.0</td>\n",
       "      <td>1.0</td>\n",
       "      <td>1.0</td>\n",
       "      <td>1</td>\n",
       "      <td>0</td>\n",
       "      <td>0</td>\n",
       "      <td>0</td>\n",
       "      <td>0</td>\n",
       "      <td>1</td>\n",
       "      <td>...</td>\n",
       "      <td>0</td>\n",
       "      <td>0</td>\n",
       "      <td>0</td>\n",
       "      <td>1</td>\n",
       "      <td>1</td>\n",
       "      <td>0</td>\n",
       "      <td>0</td>\n",
       "      <td>0</td>\n",
       "      <td>0.434978</td>\n",
       "      <td>0.004973</td>\n",
       "    </tr>\n",
       "  </tbody>\n",
       "</table>\n",
       "<p>5 rows × 30 columns</p>\n",
       "</div>"
      ],
      "text/plain": [
       "            Partner  Dependents  PaperlessBilling  tenure_less_th_15  \\\n",
       "customerID                                                             \n",
       "4223-BKEOR      0.0         1.0               0.0                0.0   \n",
       "6035-RIIOM      0.0         0.0               1.0                0.0   \n",
       "3797-VTIDR      1.0         0.0               1.0                1.0   \n",
       "2568-BRGYX      0.0         0.0               1.0                1.0   \n",
       "2775-SEFEE      0.0         1.0               1.0                1.0   \n",
       "\n",
       "            InternetService_DSL  InternetService_Fiber optic  \\\n",
       "customerID                                                     \n",
       "4223-BKEOR                    1                            0   \n",
       "6035-RIIOM                    0                            1   \n",
       "3797-VTIDR                    1                            0   \n",
       "2568-BRGYX                    0                            1   \n",
       "2775-SEFEE                    1                            0   \n",
       "\n",
       "            InternetService_No  OnlineSecurity_No  \\\n",
       "customerID                                          \n",
       "4223-BKEOR                   0                  0   \n",
       "6035-RIIOM                   0                  1   \n",
       "3797-VTIDR                   0                  1   \n",
       "2568-BRGYX                   0                  1   \n",
       "2775-SEFEE                   0                  0   \n",
       "\n",
       "            OnlineSecurity_No internet service  OnlineSecurity_Yes  ...  \\\n",
       "customerID                                                          ...   \n",
       "4223-BKEOR                                   0                   1  ...   \n",
       "6035-RIIOM                                   0                   0  ...   \n",
       "3797-VTIDR                                   0                   0  ...   \n",
       "2568-BRGYX                                   0                   0  ...   \n",
       "2775-SEFEE                                   0                   1  ...   \n",
       "\n",
       "            StreamingMovies_No internet service  Contract_Month-to-month  \\\n",
       "customerID                                                                 \n",
       "4223-BKEOR                                    0                        0   \n",
       "6035-RIIOM                                    0                        0   \n",
       "3797-VTIDR                                    0                        1   \n",
       "2568-BRGYX                                    0                        1   \n",
       "2775-SEFEE                                    0                        0   \n",
       "\n",
       "            Contract_One year  Contract_Two year  \\\n",
       "customerID                                         \n",
       "4223-BKEOR                  1                  0   \n",
       "6035-RIIOM                  0                  1   \n",
       "3797-VTIDR                  0                  0   \n",
       "2568-BRGYX                  0                  0   \n",
       "2775-SEFEE                  0                  1   \n",
       "\n",
       "            PaymentMethod_Bank transfer (automatic)  \\\n",
       "customerID                                            \n",
       "4223-BKEOR                                        0   \n",
       "6035-RIIOM                                        1   \n",
       "3797-VTIDR                                        0   \n",
       "2568-BRGYX                                        0   \n",
       "2775-SEFEE                                        1   \n",
       "\n",
       "            PaymentMethod_Credit card (automatic)  \\\n",
       "customerID                                          \n",
       "4223-BKEOR                                      0   \n",
       "6035-RIIOM                                      0   \n",
       "3797-VTIDR                                      0   \n",
       "2568-BRGYX                                      0   \n",
       "2775-SEFEE                                      0   \n",
       "\n",
       "            PaymentMethod_Electronic check  PaymentMethod_Mailed check  \\\n",
       "customerID                                                               \n",
       "4223-BKEOR                               0                           1   \n",
       "6035-RIIOM                               0                           0   \n",
       "3797-VTIDR                               1                           0   \n",
       "2568-BRGYX                               1                           0   \n",
       "2775-SEFEE                               0                           0   \n",
       "\n",
       "            MonthlyCharges  TotalCharges  \n",
       "customerID                                \n",
       "4223-BKEOR        0.464375      0.152089  \n",
       "6035-RIIOM        0.786746      0.589736  \n",
       "3797-VTIDR        0.051819      0.000537  \n",
       "2568-BRGYX        0.517688      0.025288  \n",
       "2775-SEFEE        0.434978      0.004973  \n",
       "\n",
       "[5 rows x 30 columns]"
      ]
     },
     "execution_count": 117,
     "metadata": {},
     "output_type": "execute_result"
    }
   ],
   "source": [
    "new_master_table.head()"
   ]
  },
  {
   "cell_type": "code",
   "execution_count": 118,
   "metadata": {},
   "outputs": [],
   "source": [
    "#min_max_scaler"
   ]
  },
  {
   "cell_type": "markdown",
   "metadata": {},
   "source": [
    "Nos données sont analysées, netoyer et encoder, c'est le moment d'entraîner un classifier"
   ]
  },
  {
   "cell_type": "markdown",
   "metadata": {},
   "source": [
    "### Pipeline inference"
   ]
  },
  {
   "cell_type": "markdown",
   "metadata": {},
   "source": [
    "Avant cela nous allons definir un **pipeline** qui appliquera toutes les modifications et transformations sur notre base de validation"
   ]
  },
  {
   "cell_type": "code",
   "execution_count": 119,
   "metadata": {},
   "outputs": [],
   "source": [
    "def pipeline(X, binaire_encoder, one_hot_encoder, min_max_scaler, colunms_to_drop):\n",
    "    \"\"\" \n",
    "    pipeline qui applique toutes les modifications et transformations sur X\n",
    "    \n",
    "    \"\"\"\n",
    "    X = conver_tot_char_to_num(X)\n",
    "    X = impute(X)\n",
    "    X = feature_eng(X)\n",
    "    X_cat, X_num = split_cat_num(X)\n",
    "    bin_feat, no_bin_feat = split_cat_feat(X_cat)\n",
    "    bin_feat_encoded = binaire_encoding_transfrom(bin_feat, binaire_encoder)\n",
    "    #binaire_encoder.transform(bin_feat)\n",
    "    no_bin_feat_encoded = one_hot_encoding_transform(no_bin_feat, one_hot_encoder)\n",
    "    #one_hot_encoder.transform(no_bin_feat)\n",
    "    num_feat_scaled = scaling_num_feat_transform(X_num, min_max_scaler)\n",
    "    #min_max_scaler.transform(X_num)\n",
    "    master_table = creat_mater_table(bin_feat_encoded, no_bin_feat_encoded, num_feat_scaled)\n",
    "    master_table = drop_doub_var(master_table)\n",
    "    new_master_table = master_table.drop(colunms_to_drop, axis=1)\n",
    "    return new_master_table\n"
   ]
  },
  {
   "cell_type": "code",
   "execution_count": 120,
   "metadata": {},
   "outputs": [],
   "source": [
    "val = pipeline(X_val, binaire_encoder, one_hot_encoder, min_max_scaler, feat_to_drop)"
   ]
  },
  {
   "cell_type": "code",
   "execution_count": 121,
   "metadata": {},
   "outputs": [
    {
     "data": {
      "text/html": [
       "<div>\n",
       "<style scoped>\n",
       "    .dataframe tbody tr th:only-of-type {\n",
       "        vertical-align: middle;\n",
       "    }\n",
       "\n",
       "    .dataframe tbody tr th {\n",
       "        vertical-align: top;\n",
       "    }\n",
       "\n",
       "    .dataframe thead th {\n",
       "        text-align: right;\n",
       "    }\n",
       "</style>\n",
       "<table border=\"1\" class=\"dataframe\">\n",
       "  <thead>\n",
       "    <tr style=\"text-align: right;\">\n",
       "      <th></th>\n",
       "      <th>Churn</th>\n",
       "    </tr>\n",
       "    <tr>\n",
       "      <th>customerID</th>\n",
       "      <th></th>\n",
       "    </tr>\n",
       "  </thead>\n",
       "  <tbody>\n",
       "    <tr>\n",
       "      <th>1024-GUALD</th>\n",
       "      <td>Yes</td>\n",
       "    </tr>\n",
       "    <tr>\n",
       "      <th>0484-JPBRU</th>\n",
       "      <td>No</td>\n",
       "    </tr>\n",
       "    <tr>\n",
       "      <th>3620-EHIMZ</th>\n",
       "      <td>No</td>\n",
       "    </tr>\n",
       "    <tr>\n",
       "      <th>6910-HADCM</th>\n",
       "      <td>Yes</td>\n",
       "    </tr>\n",
       "    <tr>\n",
       "      <th>8587-XYZSF</th>\n",
       "      <td>No</td>\n",
       "    </tr>\n",
       "  </tbody>\n",
       "</table>\n",
       "</div>"
      ],
      "text/plain": [
       "           Churn\n",
       "customerID      \n",
       "1024-GUALD   Yes\n",
       "0484-JPBRU    No\n",
       "3620-EHIMZ    No\n",
       "6910-HADCM   Yes\n",
       "8587-XYZSF    No"
      ]
     },
     "execution_count": 121,
     "metadata": {},
     "output_type": "execute_result"
    }
   ],
   "source": [
    "y_val.head()"
   ]
  },
  {
   "cell_type": "code",
   "execution_count": 122,
   "metadata": {},
   "outputs": [],
   "source": [
    "y_ = label_encoding(y_val)"
   ]
  },
  {
   "cell_type": "code",
   "execution_count": 123,
   "metadata": {},
   "outputs": [
    {
     "data": {
      "text/html": [
       "<div>\n",
       "<style scoped>\n",
       "    .dataframe tbody tr th:only-of-type {\n",
       "        vertical-align: middle;\n",
       "    }\n",
       "\n",
       "    .dataframe tbody tr th {\n",
       "        vertical-align: top;\n",
       "    }\n",
       "\n",
       "    .dataframe thead th {\n",
       "        text-align: right;\n",
       "    }\n",
       "</style>\n",
       "<table border=\"1\" class=\"dataframe\">\n",
       "  <thead>\n",
       "    <tr style=\"text-align: right;\">\n",
       "      <th></th>\n",
       "      <th>Churn</th>\n",
       "    </tr>\n",
       "    <tr>\n",
       "      <th>customerID</th>\n",
       "      <th></th>\n",
       "    </tr>\n",
       "  </thead>\n",
       "  <tbody>\n",
       "    <tr>\n",
       "      <th>1024-GUALD</th>\n",
       "      <td>1</td>\n",
       "    </tr>\n",
       "    <tr>\n",
       "      <th>0484-JPBRU</th>\n",
       "      <td>0</td>\n",
       "    </tr>\n",
       "    <tr>\n",
       "      <th>3620-EHIMZ</th>\n",
       "      <td>0</td>\n",
       "    </tr>\n",
       "    <tr>\n",
       "      <th>6910-HADCM</th>\n",
       "      <td>1</td>\n",
       "    </tr>\n",
       "    <tr>\n",
       "      <th>8587-XYZSF</th>\n",
       "      <td>0</td>\n",
       "    </tr>\n",
       "  </tbody>\n",
       "</table>\n",
       "</div>"
      ],
      "text/plain": [
       "            Churn\n",
       "customerID       \n",
       "1024-GUALD      1\n",
       "0484-JPBRU      0\n",
       "3620-EHIMZ      0\n",
       "6910-HADCM      1\n",
       "8587-XYZSF      0"
      ]
     },
     "execution_count": 123,
     "metadata": {},
     "output_type": "execute_result"
    }
   ],
   "source": [
    "y_.head()"
   ]
  },
  {
   "cell_type": "markdown",
   "metadata": {},
   "source": [
    "### Entrainement"
   ]
  },
  {
   "cell_type": "markdown",
   "metadata": {},
   "source": [
    "- Nous allons tester plusieurs algo de classification"
   ]
  },
  {
   "cell_type": "markdown",
   "metadata": {},
   "source": [
    "Nous deffinissons la fonction **evaluation** pour evaluer nos algos"
   ]
  },
  {
   "cell_type": "code",
   "execution_count": 124,
   "metadata": {},
   "outputs": [],
   "source": [
    "def evaluation(model, X_train, y_train, X_test):\n",
    "    \n",
    "    model.fit(X_train, y_train)\n",
    "    #ypred = model.predict(X_test)\n",
    "    #print(classification_report(y_val, ypred))\n",
    "    #print(pd.crosstab(y_val, ypred, rownames=['Actual'], colnames=['Predicted'], margins=True))\n",
    "    \n",
    "    N, train_score, val_score = learning_curve(model, X_train, y_train,\n",
    "                                              cv=3, scoring='f1_micro',\n",
    "                                               train_sizes=np.linspace(0.1, 1, 10),\n",
    "                                               n_jobs =-1\n",
    "                                               )\n",
    "    \n",
    "    \n",
    "    plt.figure(figsize=(12, 8))\n",
    "    plt.plot(N, train_score.mean(axis=1), label='train score' )\n",
    "    plt.plot(N, val_score.mean(axis=1), label='validation score')\n",
    "    plt.legend()"
   ]
  },
  {
   "cell_type": "code",
   "execution_count": 10,
   "metadata": {},
   "outputs": [
    {
     "data": {
      "text/plain": [
       "3.007378578186035"
      ]
     },
     "execution_count": 10,
     "metadata": {},
     "output_type": "execute_result"
    }
   ],
   "source": [
    "import time\n",
    "b = time.time()\n",
    "time.sleep(3)\n",
    "e = time.time()\n",
    "e-b"
   ]
  },
  {
   "cell_type": "code",
   "execution_count": 29,
   "metadata": {},
   "outputs": [
    {
     "data": {
      "text/plain": [
       "[1, 3, 5, 8]"
      ]
     },
     "execution_count": 29,
     "metadata": {},
     "output_type": "execute_result"
    }
   ],
   "source": [
    "def trie_int(L):\n",
    "    return [i for i in L if isinstance(i, int)]\n",
    "trie_int([1,3,5,8,'a','g'])           "
   ]
  },
  {
   "cell_type": "code",
   "execution_count": 28,
   "metadata": {},
   "outputs": [
    {
     "ename": "SyntaxError",
     "evalue": "invalid syntax (<ipython-input-28-369feea0d618>, line 3)",
     "output_type": "error",
     "traceback": [
      "\u001b[1;36m  File \u001b[1;32m\"<ipython-input-28-369feea0d618>\"\u001b[1;36m, line \u001b[1;32m3\u001b[0m\n\u001b[1;33m    [for i in L: LL.append(i)]\u001b[0m\n\u001b[1;37m     ^\u001b[0m\n\u001b[1;31mSyntaxError\u001b[0m\u001b[1;31m:\u001b[0m invalid syntax\n"
     ]
    }
   ],
   "source": [
    "def trie_int(L):\n",
    "    LL = []\n",
    "    [for i in L LL.append(i)]\n",
    "    return LL\n",
    "trie_int([1,3,5,8,'a','g']) "
   ]
  },
  {
   "cell_type": "code",
   "execution_count": null,
   "metadata": {},
   "outputs": [],
   "source": [
    "def evaluation1(model, X_train, y_train):\n",
    "    \n",
    "    model.fit(X_train, y_train)\n",
    "    #ypred = model.predict(X_test)\n",
    "    #print(classification_report(y_val, ypred))\n",
    "    #print(pd.crosstab(y_val, ypred, rownames=['Actual'], colnames=['Predicted'], margins=True))\n",
    "    b = time.time()\n",
    "    N, train_score, val_score = learning_curve(model, X_train, y_train,\n",
    "                                              cv=3, scoring='auc',\n",
    "                                               train_sizes=np.linspace(0.1, 1, 10),\n",
    "                                               n_jobs =-1\n",
    "                                               )\n",
    "    e = time.time()\n",
    "    return train_score.mean(), train_score.std(), val_score.mean(), val_score.std(), e-b\n",
    "    \n",
    "    \n",
    "    socres_train_mean = []\n",
    "    socres_train_std = []\n",
    "    socres_val_mean = []\n",
    "    socres_val_std = []\n",
    "    scores_train_mean.append(train_score.mean())\n",
    "    scores_std.append(t)\n",
    "    scores[\"means\"] = \n",
    "    #plt.figure(figsize=(12, 8))\n",
    "    #plt.plot(N, train_score.mean(axis=1), label='train score' )\n",
    "    #plt.plot(N, val_score.mean(axis=1), label='validation score')\n",
    "    #plt.legend()"
   ]
  },
  {
   "cell_type": "code",
   "execution_count": 54,
   "metadata": {},
   "outputs": [],
   "source": [
    "np.savetxt('tmp.txt', l, delimiter=',')"
   ]
  },
  {
   "cell_type": "code",
   "execution_count": 53,
   "metadata": {},
   "outputs": [
    {
     "data": {
      "text/plain": [
       "[(1, 2), (1, 2), (1, 2), (1, 2)]"
      ]
     },
     "execution_count": 53,
     "metadata": {},
     "output_type": "execute_result"
    }
   ],
   "source": [
    "#l = []\n",
    "l.append((1,2))\n",
    "l"
   ]
  },
  {
   "cell_type": "code",
   "execution_count": 64,
   "metadata": {},
   "outputs": [
    {
     "ename": "ValueError",
     "evalue": "could not convert string to float: '1.000000000000000000e+00,2.000000000000000000e+00'",
     "output_type": "error",
     "traceback": [
      "\u001b[1;31m---------------------------------------------------------------------------\u001b[0m",
      "\u001b[1;31mValueError\u001b[0m                                Traceback (most recent call last)",
      "\u001b[1;32m<ipython-input-64-8bb6523acf85>\u001b[0m in \u001b[0;36m<module>\u001b[1;34m\u001b[0m\n\u001b[1;32m----> 1\u001b[1;33m \u001b[0mx\u001b[0m \u001b[1;33m=\u001b[0m \u001b[0mnp\u001b[0m\u001b[1;33m.\u001b[0m\u001b[0mloadtxt\u001b[0m\u001b[1;33m(\u001b[0m\u001b[1;34m\"tmp.txt\"\u001b[0m\u001b[1;33m)\u001b[0m\u001b[1;33m\u001b[0m\u001b[1;33m\u001b[0m\u001b[0m\n\u001b[0m\u001b[0;32m      2\u001b[0m \u001b[1;31m#a = x.read()\u001b[0m\u001b[1;33m\u001b[0m\u001b[1;33m\u001b[0m\u001b[1;33m\u001b[0m\u001b[0m\n\u001b[0;32m      3\u001b[0m \u001b[1;31m#a = a.split('\\n')\u001b[0m\u001b[1;33m\u001b[0m\u001b[1;33m\u001b[0m\u001b[1;33m\u001b[0m\u001b[0m\n",
      "\u001b[1;32m~\\Anaconda3\\lib\\site-packages\\numpy\\lib\\npyio.py\u001b[0m in \u001b[0;36mloadtxt\u001b[1;34m(fname, dtype, comments, delimiter, converters, skiprows, usecols, unpack, ndmin, encoding, max_rows)\u001b[0m\n\u001b[0;32m   1137\u001b[0m         \u001b[1;31m# converting the data\u001b[0m\u001b[1;33m\u001b[0m\u001b[1;33m\u001b[0m\u001b[1;33m\u001b[0m\u001b[0m\n\u001b[0;32m   1138\u001b[0m         \u001b[0mX\u001b[0m \u001b[1;33m=\u001b[0m \u001b[1;32mNone\u001b[0m\u001b[1;33m\u001b[0m\u001b[1;33m\u001b[0m\u001b[0m\n\u001b[1;32m-> 1139\u001b[1;33m         \u001b[1;32mfor\u001b[0m \u001b[0mx\u001b[0m \u001b[1;32min\u001b[0m \u001b[0mread_data\u001b[0m\u001b[1;33m(\u001b[0m\u001b[0m_loadtxt_chunksize\u001b[0m\u001b[1;33m)\u001b[0m\u001b[1;33m:\u001b[0m\u001b[1;33m\u001b[0m\u001b[1;33m\u001b[0m\u001b[0m\n\u001b[0m\u001b[0;32m   1140\u001b[0m             \u001b[1;32mif\u001b[0m \u001b[0mX\u001b[0m \u001b[1;32mis\u001b[0m \u001b[1;32mNone\u001b[0m\u001b[1;33m:\u001b[0m\u001b[1;33m\u001b[0m\u001b[1;33m\u001b[0m\u001b[0m\n\u001b[0;32m   1141\u001b[0m                 \u001b[0mX\u001b[0m \u001b[1;33m=\u001b[0m \u001b[0mnp\u001b[0m\u001b[1;33m.\u001b[0m\u001b[0marray\u001b[0m\u001b[1;33m(\u001b[0m\u001b[0mx\u001b[0m\u001b[1;33m,\u001b[0m \u001b[0mdtype\u001b[0m\u001b[1;33m)\u001b[0m\u001b[1;33m\u001b[0m\u001b[1;33m\u001b[0m\u001b[0m\n",
      "\u001b[1;32m~\\Anaconda3\\lib\\site-packages\\numpy\\lib\\npyio.py\u001b[0m in \u001b[0;36mread_data\u001b[1;34m(chunk_size)\u001b[0m\n\u001b[0;32m   1065\u001b[0m \u001b[1;33m\u001b[0m\u001b[0m\n\u001b[0;32m   1066\u001b[0m             \u001b[1;31m# Convert each value according to its column and store\u001b[0m\u001b[1;33m\u001b[0m\u001b[1;33m\u001b[0m\u001b[1;33m\u001b[0m\u001b[0m\n\u001b[1;32m-> 1067\u001b[1;33m             \u001b[0mitems\u001b[0m \u001b[1;33m=\u001b[0m \u001b[1;33m[\u001b[0m\u001b[0mconv\u001b[0m\u001b[1;33m(\u001b[0m\u001b[0mval\u001b[0m\u001b[1;33m)\u001b[0m \u001b[1;32mfor\u001b[0m \u001b[1;33m(\u001b[0m\u001b[0mconv\u001b[0m\u001b[1;33m,\u001b[0m \u001b[0mval\u001b[0m\u001b[1;33m)\u001b[0m \u001b[1;32min\u001b[0m \u001b[0mzip\u001b[0m\u001b[1;33m(\u001b[0m\u001b[0mconverters\u001b[0m\u001b[1;33m,\u001b[0m \u001b[0mvals\u001b[0m\u001b[1;33m)\u001b[0m\u001b[1;33m]\u001b[0m\u001b[1;33m\u001b[0m\u001b[1;33m\u001b[0m\u001b[0m\n\u001b[0m\u001b[0;32m   1068\u001b[0m \u001b[1;33m\u001b[0m\u001b[0m\n\u001b[0;32m   1069\u001b[0m             \u001b[1;31m# Then pack it according to the dtype's nesting\u001b[0m\u001b[1;33m\u001b[0m\u001b[1;33m\u001b[0m\u001b[1;33m\u001b[0m\u001b[0m\n",
      "\u001b[1;32m~\\Anaconda3\\lib\\site-packages\\numpy\\lib\\npyio.py\u001b[0m in \u001b[0;36m<listcomp>\u001b[1;34m(.0)\u001b[0m\n\u001b[0;32m   1065\u001b[0m \u001b[1;33m\u001b[0m\u001b[0m\n\u001b[0;32m   1066\u001b[0m             \u001b[1;31m# Convert each value according to its column and store\u001b[0m\u001b[1;33m\u001b[0m\u001b[1;33m\u001b[0m\u001b[1;33m\u001b[0m\u001b[0m\n\u001b[1;32m-> 1067\u001b[1;33m             \u001b[0mitems\u001b[0m \u001b[1;33m=\u001b[0m \u001b[1;33m[\u001b[0m\u001b[0mconv\u001b[0m\u001b[1;33m(\u001b[0m\u001b[0mval\u001b[0m\u001b[1;33m)\u001b[0m \u001b[1;32mfor\u001b[0m \u001b[1;33m(\u001b[0m\u001b[0mconv\u001b[0m\u001b[1;33m,\u001b[0m \u001b[0mval\u001b[0m\u001b[1;33m)\u001b[0m \u001b[1;32min\u001b[0m \u001b[0mzip\u001b[0m\u001b[1;33m(\u001b[0m\u001b[0mconverters\u001b[0m\u001b[1;33m,\u001b[0m \u001b[0mvals\u001b[0m\u001b[1;33m)\u001b[0m\u001b[1;33m]\u001b[0m\u001b[1;33m\u001b[0m\u001b[1;33m\u001b[0m\u001b[0m\n\u001b[0m\u001b[0;32m   1068\u001b[0m \u001b[1;33m\u001b[0m\u001b[0m\n\u001b[0;32m   1069\u001b[0m             \u001b[1;31m# Then pack it according to the dtype's nesting\u001b[0m\u001b[1;33m\u001b[0m\u001b[1;33m\u001b[0m\u001b[1;33m\u001b[0m\u001b[0m\n",
      "\u001b[1;32m~\\Anaconda3\\lib\\site-packages\\numpy\\lib\\npyio.py\u001b[0m in \u001b[0;36mfloatconv\u001b[1;34m(x)\u001b[0m\n\u001b[0;32m    761\u001b[0m         \u001b[1;32mif\u001b[0m \u001b[1;34m'0x'\u001b[0m \u001b[1;32min\u001b[0m \u001b[0mx\u001b[0m\u001b[1;33m:\u001b[0m\u001b[1;33m\u001b[0m\u001b[1;33m\u001b[0m\u001b[0m\n\u001b[0;32m    762\u001b[0m             \u001b[1;32mreturn\u001b[0m \u001b[0mfloat\u001b[0m\u001b[1;33m.\u001b[0m\u001b[0mfromhex\u001b[0m\u001b[1;33m(\u001b[0m\u001b[0mx\u001b[0m\u001b[1;33m)\u001b[0m\u001b[1;33m\u001b[0m\u001b[1;33m\u001b[0m\u001b[0m\n\u001b[1;32m--> 763\u001b[1;33m         \u001b[1;32mreturn\u001b[0m \u001b[0mfloat\u001b[0m\u001b[1;33m(\u001b[0m\u001b[0mx\u001b[0m\u001b[1;33m)\u001b[0m\u001b[1;33m\u001b[0m\u001b[1;33m\u001b[0m\u001b[0m\n\u001b[0m\u001b[0;32m    764\u001b[0m \u001b[1;33m\u001b[0m\u001b[0m\n\u001b[0;32m    765\u001b[0m     \u001b[0mtyp\u001b[0m \u001b[1;33m=\u001b[0m \u001b[0mdtype\u001b[0m\u001b[1;33m.\u001b[0m\u001b[0mtype\u001b[0m\u001b[1;33m\u001b[0m\u001b[1;33m\u001b[0m\u001b[0m\n",
      "\u001b[1;31mValueError\u001b[0m: could not convert string to float: '1.000000000000000000e+00,2.000000000000000000e+00'"
     ]
    }
   ],
   "source": [
    "x = np.loadtxt(\"tmp.txt\")\n",
    "#a = x.read()\n",
    "#a = a.split('\\n')"
   ]
  },
  {
   "cell_type": "code",
   "execution_count": 62,
   "metadata": {},
   "outputs": [
    {
     "data": {
      "text/plain": [
       "['1.000000000000000000e+00',\n",
       " '2.000000000000000000e+00\\n1.000000000000000000e+00',\n",
       " '2.000000000000000000e+00\\n1.000000000000000000e+00',\n",
       " '2.000000000000000000e+00\\n1.000000000000000000e+00',\n",
       " '2.000000000000000000e+00\\n']"
      ]
     },
     "execution_count": 62,
     "metadata": {},
     "output_type": "execute_result"
    }
   ],
   "source": [
    "a.split(',')"
   ]
  },
  {
   "cell_type": "code",
   "execution_count": 58,
   "metadata": {},
   "outputs": [
    {
     "ename": "ValueError",
     "evalue": "could not convert string to float: '1.000000000000000000e+00,2.000000000000000000e+00'",
     "output_type": "error",
     "traceback": [
      "\u001b[1;31m---------------------------------------------------------------------------\u001b[0m",
      "\u001b[1;31mValueError\u001b[0m                                Traceback (most recent call last)",
      "\u001b[1;32m<ipython-input-58-0900d191bf81>\u001b[0m in \u001b[0;36m<module>\u001b[1;34m\u001b[0m\n\u001b[1;32m----> 1\u001b[1;33m \u001b[0ma\u001b[0m \u001b[1;33m=\u001b[0m \u001b[1;33m[\u001b[0m\u001b[0mfloat\u001b[0m\u001b[1;33m(\u001b[0m\u001b[0mi\u001b[0m\u001b[1;33m)\u001b[0m \u001b[1;32mfor\u001b[0m \u001b[0mi\u001b[0m \u001b[1;32min\u001b[0m \u001b[0ma\u001b[0m\u001b[1;33m]\u001b[0m\u001b[1;33m\u001b[0m\u001b[1;33m\u001b[0m\u001b[0m\n\u001b[0m",
      "\u001b[1;32m<ipython-input-58-0900d191bf81>\u001b[0m in \u001b[0;36m<listcomp>\u001b[1;34m(.0)\u001b[0m\n\u001b[1;32m----> 1\u001b[1;33m \u001b[0ma\u001b[0m \u001b[1;33m=\u001b[0m \u001b[1;33m[\u001b[0m\u001b[0mfloat\u001b[0m\u001b[1;33m(\u001b[0m\u001b[0mi\u001b[0m\u001b[1;33m)\u001b[0m \u001b[1;32mfor\u001b[0m \u001b[0mi\u001b[0m \u001b[1;32min\u001b[0m \u001b[0ma\u001b[0m\u001b[1;33m]\u001b[0m\u001b[1;33m\u001b[0m\u001b[1;33m\u001b[0m\u001b[0m\n\u001b[0m",
      "\u001b[1;31mValueError\u001b[0m: could not convert string to float: '1.000000000000000000e+00,2.000000000000000000e+00'"
     ]
    }
   ],
   "source": [
    "a = [float(i) for i in a]"
   ]
  },
  {
   "cell_type": "code",
   "execution_count": 59,
   "metadata": {},
   "outputs": [
    {
     "data": {
      "text/plain": [
       "['1.000000000000000000e+00,2.000000000000000000e+00',\n",
       " '1.000000000000000000e+00,2.000000000000000000e+00',\n",
       " '1.000000000000000000e+00,2.000000000000000000e+00',\n",
       " '1.000000000000000000e+00,2.000000000000000000e+00',\n",
       " '']"
      ]
     },
     "execution_count": 59,
     "metadata": {},
     "output_type": "execute_result"
    }
   ],
   "source": [
    "a"
   ]
  },
  {
   "cell_type": "code",
   "execution_count": 43,
   "metadata": {},
   "outputs": [
    {
     "data": {
      "text/plain": [
       "['1.000000000000000000e+00',\n",
       " '2.000000000000000000e+00',\n",
       " '3.000000000000000000e+00',\n",
       " '']"
      ]
     },
     "execution_count": 43,
     "metadata": {},
     "output_type": "execute_result"
    }
   ],
   "source": [
    "a.split('\\n')"
   ]
  },
  {
   "cell_type": "markdown",
   "metadata": {},
   "source": [
    "On va selectionner le meilleur modele, que nous allons éventuellement essayer d'ameliorer"
   ]
  },
  {
   "cell_type": "markdown",
   "metadata": {},
   "source": [
    "- XGBClassifier"
   ]
  },
  {
   "cell_type": "code",
   "execution_count": 130,
   "metadata": {},
   "outputs": [],
   "source": [
    "from sklearn.metrics import roc_auc_score\n",
    "from sklearn.model_selection import learning_curve\n",
    "from sklearn.metrics import f1_score, confusion_matrix, classification_report\n",
    "#from yellowbrick.model_selection import feature_importances\n",
    "from sklearn.metrics import plot_confusion_matrix\n",
    "from sklearn.metrics import roc_auc_score"
   ]
  },
  {
   "cell_type": "code",
   "execution_count": 129,
   "metadata": {},
   "outputs": [
    {
     "name": "stdout",
     "output_type": "stream",
     "text": [
      "Collecting xgboost\n",
      "  Downloading xgboost-1.4.2-py3-none-win_amd64.whl (97.8 MB)\n",
      "Requirement already satisfied: scipy in c:\\users\\kane_\\anaconda3\\lib\\site-packages (from xgboost) (1.6.2)\n",
      "Requirement already satisfied: numpy in c:\\users\\kane_\\anaconda3\\lib\\site-packages (from xgboost) (1.20.1)\n",
      "Installing collected packages: xgboost\n",
      "Successfully installed xgboost-1.4.2\n",
      "Note: you may need to restart the kernel to use updated packages.\n"
     ]
    }
   ],
   "source": [
    "#pip install xgboost"
   ]
  },
  {
   "cell_type": "code",
   "execution_count": 138,
   "metadata": {
    "scrolled": false
   },
   "outputs": [
    {
     "data": {
      "text/plain": [
       "XGBClassifier(base_score=0.5, booster='gbtree', colsample_bylevel=1,\n",
       "              colsample_bynode=1, colsample_bytree=1, eval_metric='auc',\n",
       "              gamma=0, gpu_id=-1, importance_type='gain',\n",
       "              interaction_constraints='', learning_rate=0.300000012,\n",
       "              max_delta_step=0, max_depth=6, min_child_weight=1, missing=nan,\n",
       "              monotone_constraints='()', n_estimators=100, n_jobs=8,\n",
       "              num_parallel_tree=1, random_state=32, reg_alpha=0, reg_lambda=1,\n",
       "              scale_pos_weight=1, seed=32, subsample=1, tree_method='exact',\n",
       "              validate_parameters=1, verbosity=None)"
      ]
     },
     "execution_count": 138,
     "metadata": {},
     "output_type": "execute_result"
    }
   ],
   "source": [
    "from xgboost import  XGBClassifier\n",
    "xgb_clf = XGBClassifier(eval_metric='auc', seed=32)\n",
    "xgb_clf.fit(new_master_table, y_train)"
   ]
  },
  {
   "cell_type": "code",
   "execution_count": 139,
   "metadata": {},
   "outputs": [
    {
     "name": "stdout",
     "output_type": "stream",
     "text": [
      "AUC XGB = 0.8366565052221889\n"
     ]
    }
   ],
   "source": [
    "print(\"AUC XGB = {}\".format(roc_auc_score(y_, xgb_clf.predict_proba(val)[:, 1])))"
   ]
  },
  {
   "cell_type": "markdown",
   "metadata": {},
   "source": [
    "XGBClassifier a un bon score sur les données de validaton, Nous allons voir si la variance de notre model est grande"
   ]
  },
  {
   "cell_type": "code",
   "execution_count": 140,
   "metadata": {
    "scrolled": false
   },
   "outputs": [
    {
     "data": {
      "image/png": "[encoded data removed]",
      "text/plain": [
       "<Figure size 864x576 with 1 Axes>"
      ]
     },
     "metadata": {
      "needs_background": "light"
     },
     "output_type": "display_data"
    }
   ],
   "source": [
    "evaluation(xgb_clf, new_master_table, y_train, val)"
   ]
  },
  {
   "cell_type": "markdown",
   "metadata": {},
   "source": [
    "D'apres la figure on remarque qu'en faisant une cross validation (cv=3), l'evolution de la courbe d'apprentissage montre que la variation du score du modele est realtivement grande entre l'entrainement et la validation.\n",
    "Vu la tendance croissante de la courbe de validation, on peut esperer ameliorer le score en acquérant plus de données."
   ]
  },
  {
   "cell_type": "markdown",
   "metadata": {},
   "source": [
    "- Visualisation l'importance des variables"
   ]
  },
  {
   "cell_type": "code",
   "execution_count": 141,
   "metadata": {
    "scrolled": false
   },
   "outputs": [
    {
     "data": {
      "image/png": "[encoded data removed]",
      "text/plain": [
       "<Figure size 1080x720 with 1 Axes>"
      ]
     },
     "metadata": {
      "needs_background": "light"
     },
     "output_type": "display_data"
    }
   ],
   "source": [
    "fig, ax = plt.subplots(figsize=(15,10))\n",
    "from xgboost import plot_importance\n",
    "plot_importance(xgb_clf,ax=ax)\n",
    "plt.show()"
   ]
  },
  {
   "cell_type": "code",
   "execution_count": 142,
   "metadata": {
    "scrolled": true
   },
   "outputs": [
    {
     "data": {
      "image/png": "[encoded data removed]",
      "text/plain": [
       "<Figure size 432x288 with 2 Axes>"
      ]
     },
     "metadata": {
      "needs_background": "light"
     },
     "output_type": "display_data"
    }
   ],
   "source": [
    "plot_confusion_matrix(xgb_clf, val, y_)  \n",
    "plt.show() \n",
    "#sns.heatmap(y, annot=True)"
   ]
  },
  {
   "cell_type": "markdown",
   "metadata": {},
   "source": [
    "D'après la matrice de confusion on remarque que la proportion de **Faux Negatives** est plus élévée que celles des **Faux positives**.\n",
    "Dans notre cas il serait mieux que la proportion de faux positives soit plus élévée. C'est à dire de predire qu'un client va resilier même si c'est pas le cas que de predire le contraire alors que le client va resilier."
   ]
  },
  {
   "cell_type": "markdown",
   "metadata": {},
   "source": [
    "- Erreurs: Nous allons recuperer les clients qui n'ont pas été bien classé lors de la prediction du modele XGboost"
   ]
  },
  {
   "cell_type": "code",
   "execution_count": 143,
   "metadata": {},
   "outputs": [
    {
     "data": {
      "text/html": [
       "<div>\n",
       "<style scoped>\n",
       "    .dataframe tbody tr th:only-of-type {\n",
       "        vertical-align: middle;\n",
       "    }\n",
       "\n",
       "    .dataframe tbody tr th {\n",
       "        vertical-align: top;\n",
       "    }\n",
       "\n",
       "    .dataframe thead th {\n",
       "        text-align: right;\n",
       "    }\n",
       "</style>\n",
       "<table border=\"1\" class=\"dataframe\">\n",
       "  <thead>\n",
       "    <tr style=\"text-align: right;\">\n",
       "      <th></th>\n",
       "      <th>gender</th>\n",
       "      <th>SeniorCitizen</th>\n",
       "      <th>Partner</th>\n",
       "      <th>Dependents</th>\n",
       "      <th>tenure</th>\n",
       "      <th>PhoneService</th>\n",
       "      <th>MultipleLines</th>\n",
       "      <th>InternetService</th>\n",
       "      <th>OnlineSecurity</th>\n",
       "      <th>OnlineBackup</th>\n",
       "      <th>DeviceProtection</th>\n",
       "      <th>TechSupport</th>\n",
       "      <th>StreamingTV</th>\n",
       "      <th>StreamingMovies</th>\n",
       "      <th>Contract</th>\n",
       "      <th>PaperlessBilling</th>\n",
       "      <th>PaymentMethod</th>\n",
       "      <th>MonthlyCharges</th>\n",
       "      <th>TotalCharges</th>\n",
       "    </tr>\n",
       "    <tr>\n",
       "      <th>customerID</th>\n",
       "      <th></th>\n",
       "      <th></th>\n",
       "      <th></th>\n",
       "      <th></th>\n",
       "      <th></th>\n",
       "      <th></th>\n",
       "      <th></th>\n",
       "      <th></th>\n",
       "      <th></th>\n",
       "      <th></th>\n",
       "      <th></th>\n",
       "      <th></th>\n",
       "      <th></th>\n",
       "      <th></th>\n",
       "      <th></th>\n",
       "      <th></th>\n",
       "      <th></th>\n",
       "      <th></th>\n",
       "      <th></th>\n",
       "    </tr>\n",
       "  </thead>\n",
       "  <tbody>\n",
       "    <tr>\n",
       "      <th>6818-WOBHJ</th>\n",
       "      <td>Female</td>\n",
       "      <td>1</td>\n",
       "      <td>Yes</td>\n",
       "      <td>No</td>\n",
       "      <td>68</td>\n",
       "      <td>Yes</td>\n",
       "      <td>Yes</td>\n",
       "      <td>Fiber optic</td>\n",
       "      <td>No</td>\n",
       "      <td>Yes</td>\n",
       "      <td>No</td>\n",
       "      <td>No</td>\n",
       "      <td>No</td>\n",
       "      <td>Yes</td>\n",
       "      <td>Month-to-month</td>\n",
       "      <td>Yes</td>\n",
       "      <td>Bank transfer (automatic)</td>\n",
       "      <td>89.60</td>\n",
       "      <td>6127.6</td>\n",
       "    </tr>\n",
       "    <tr>\n",
       "      <th>4853-RULSV</th>\n",
       "      <td>Male</td>\n",
       "      <td>0</td>\n",
       "      <td>No</td>\n",
       "      <td>No</td>\n",
       "      <td>70</td>\n",
       "      <td>Yes</td>\n",
       "      <td>Yes</td>\n",
       "      <td>Fiber optic</td>\n",
       "      <td>Yes</td>\n",
       "      <td>No</td>\n",
       "      <td>No</td>\n",
       "      <td>Yes</td>\n",
       "      <td>Yes</td>\n",
       "      <td>Yes</td>\n",
       "      <td>Two year</td>\n",
       "      <td>Yes</td>\n",
       "      <td>Credit card (automatic)</td>\n",
       "      <td>104.00</td>\n",
       "      <td>7250.15</td>\n",
       "    </tr>\n",
       "    <tr>\n",
       "      <th>5766-ZJYBB</th>\n",
       "      <td>Male</td>\n",
       "      <td>0</td>\n",
       "      <td>No</td>\n",
       "      <td>No</td>\n",
       "      <td>1</td>\n",
       "      <td>Yes</td>\n",
       "      <td>No</td>\n",
       "      <td>No</td>\n",
       "      <td>No internet service</td>\n",
       "      <td>No internet service</td>\n",
       "      <td>No internet service</td>\n",
       "      <td>No internet service</td>\n",
       "      <td>No internet service</td>\n",
       "      <td>No internet service</td>\n",
       "      <td>Month-to-month</td>\n",
       "      <td>No</td>\n",
       "      <td>Mailed check</td>\n",
       "      <td>19.40</td>\n",
       "      <td>19.4</td>\n",
       "    </tr>\n",
       "    <tr>\n",
       "      <th>5914-DVBWJ</th>\n",
       "      <td>Female</td>\n",
       "      <td>1</td>\n",
       "      <td>No</td>\n",
       "      <td>No</td>\n",
       "      <td>18</td>\n",
       "      <td>Yes</td>\n",
       "      <td>Yes</td>\n",
       "      <td>Fiber optic</td>\n",
       "      <td>No</td>\n",
       "      <td>Yes</td>\n",
       "      <td>No</td>\n",
       "      <td>Yes</td>\n",
       "      <td>No</td>\n",
       "      <td>No</td>\n",
       "      <td>Month-to-month</td>\n",
       "      <td>Yes</td>\n",
       "      <td>Electronic check</td>\n",
       "      <td>85.45</td>\n",
       "      <td>1505.85</td>\n",
       "    </tr>\n",
       "    <tr>\n",
       "      <th>9530-EHPOH</th>\n",
       "      <td>Male</td>\n",
       "      <td>0</td>\n",
       "      <td>No</td>\n",
       "      <td>No</td>\n",
       "      <td>11</td>\n",
       "      <td>Yes</td>\n",
       "      <td>Yes</td>\n",
       "      <td>DSL</td>\n",
       "      <td>No</td>\n",
       "      <td>No</td>\n",
       "      <td>Yes</td>\n",
       "      <td>No</td>\n",
       "      <td>No</td>\n",
       "      <td>No</td>\n",
       "      <td>Month-to-month</td>\n",
       "      <td>No</td>\n",
       "      <td>Electronic check</td>\n",
       "      <td>53.75</td>\n",
       "      <td>608</td>\n",
       "    </tr>\n",
       "    <tr>\n",
       "      <th>...</th>\n",
       "      <td>...</td>\n",
       "      <td>...</td>\n",
       "      <td>...</td>\n",
       "      <td>...</td>\n",
       "      <td>...</td>\n",
       "      <td>...</td>\n",
       "      <td>...</td>\n",
       "      <td>...</td>\n",
       "      <td>...</td>\n",
       "      <td>...</td>\n",
       "      <td>...</td>\n",
       "      <td>...</td>\n",
       "      <td>...</td>\n",
       "      <td>...</td>\n",
       "      <td>...</td>\n",
       "      <td>...</td>\n",
       "      <td>...</td>\n",
       "      <td>...</td>\n",
       "      <td>...</td>\n",
       "    </tr>\n",
       "    <tr>\n",
       "      <th>0946-CLJTI</th>\n",
       "      <td>Male</td>\n",
       "      <td>1</td>\n",
       "      <td>Yes</td>\n",
       "      <td>No</td>\n",
       "      <td>58</td>\n",
       "      <td>Yes</td>\n",
       "      <td>Yes</td>\n",
       "      <td>Fiber optic</td>\n",
       "      <td>No</td>\n",
       "      <td>No</td>\n",
       "      <td>Yes</td>\n",
       "      <td>No</td>\n",
       "      <td>Yes</td>\n",
       "      <td>Yes</td>\n",
       "      <td>Month-to-month</td>\n",
       "      <td>Yes</td>\n",
       "      <td>Electronic check</td>\n",
       "      <td>98.70</td>\n",
       "      <td>5812.6</td>\n",
       "    </tr>\n",
       "    <tr>\n",
       "      <th>1029-QFBEN</th>\n",
       "      <td>Male</td>\n",
       "      <td>0</td>\n",
       "      <td>No</td>\n",
       "      <td>No</td>\n",
       "      <td>1</td>\n",
       "      <td>Yes</td>\n",
       "      <td>No</td>\n",
       "      <td>No</td>\n",
       "      <td>No internet service</td>\n",
       "      <td>No internet service</td>\n",
       "      <td>No internet service</td>\n",
       "      <td>No internet service</td>\n",
       "      <td>No internet service</td>\n",
       "      <td>No internet service</td>\n",
       "      <td>Month-to-month</td>\n",
       "      <td>No</td>\n",
       "      <td>Mailed check</td>\n",
       "      <td>19.55</td>\n",
       "      <td>19.55</td>\n",
       "    </tr>\n",
       "    <tr>\n",
       "      <th>1197-BVMVG</th>\n",
       "      <td>Female</td>\n",
       "      <td>1</td>\n",
       "      <td>No</td>\n",
       "      <td>No</td>\n",
       "      <td>4</td>\n",
       "      <td>Yes</td>\n",
       "      <td>Yes</td>\n",
       "      <td>Fiber optic</td>\n",
       "      <td>No</td>\n",
       "      <td>No</td>\n",
       "      <td>No</td>\n",
       "      <td>No</td>\n",
       "      <td>No</td>\n",
       "      <td>No</td>\n",
       "      <td>Month-to-month</td>\n",
       "      <td>Yes</td>\n",
       "      <td>Electronic check</td>\n",
       "      <td>74.45</td>\n",
       "      <td>294.45</td>\n",
       "    </tr>\n",
       "    <tr>\n",
       "      <th>8260-NGFNY</th>\n",
       "      <td>Female</td>\n",
       "      <td>0</td>\n",
       "      <td>No</td>\n",
       "      <td>No</td>\n",
       "      <td>1</td>\n",
       "      <td>No</td>\n",
       "      <td>No phone service</td>\n",
       "      <td>DSL</td>\n",
       "      <td>No</td>\n",
       "      <td>No</td>\n",
       "      <td>No</td>\n",
       "      <td>No</td>\n",
       "      <td>No</td>\n",
       "      <td>No</td>\n",
       "      <td>Month-to-month</td>\n",
       "      <td>No</td>\n",
       "      <td>Mailed check</td>\n",
       "      <td>25.20</td>\n",
       "      <td>25.2</td>\n",
       "    </tr>\n",
       "    <tr>\n",
       "      <th>5868-CZJDR</th>\n",
       "      <td>Male</td>\n",
       "      <td>0</td>\n",
       "      <td>No</td>\n",
       "      <td>Yes</td>\n",
       "      <td>1</td>\n",
       "      <td>No</td>\n",
       "      <td>No phone service</td>\n",
       "      <td>DSL</td>\n",
       "      <td>No</td>\n",
       "      <td>Yes</td>\n",
       "      <td>No</td>\n",
       "      <td>No</td>\n",
       "      <td>No</td>\n",
       "      <td>No</td>\n",
       "      <td>Month-to-month</td>\n",
       "      <td>Yes</td>\n",
       "      <td>Mailed check</td>\n",
       "      <td>31.35</td>\n",
       "      <td>31.35</td>\n",
       "    </tr>\n",
       "  </tbody>\n",
       "</table>\n",
       "<p>301 rows × 19 columns</p>\n",
       "</div>"
      ],
      "text/plain": [
       "            gender  SeniorCitizen Partner Dependents  tenure PhoneService  \\\n",
       "customerID                                                                  \n",
       "6818-WOBHJ  Female              1     Yes         No      68          Yes   \n",
       "4853-RULSV    Male              0      No         No      70          Yes   \n",
       "5766-ZJYBB    Male              0      No         No       1          Yes   \n",
       "5914-DVBWJ  Female              1      No         No      18          Yes   \n",
       "9530-EHPOH    Male              0      No         No      11          Yes   \n",
       "...            ...            ...     ...        ...     ...          ...   \n",
       "0946-CLJTI    Male              1     Yes         No      58          Yes   \n",
       "1029-QFBEN    Male              0      No         No       1          Yes   \n",
       "1197-BVMVG  Female              1      No         No       4          Yes   \n",
       "8260-NGFNY  Female              0      No         No       1           No   \n",
       "5868-CZJDR    Male              0      No        Yes       1           No   \n",
       "\n",
       "               MultipleLines InternetService       OnlineSecurity  \\\n",
       "customerID                                                          \n",
       "6818-WOBHJ               Yes     Fiber optic                   No   \n",
       "4853-RULSV               Yes     Fiber optic                  Yes   \n",
       "5766-ZJYBB                No              No  No internet service   \n",
       "5914-DVBWJ               Yes     Fiber optic                   No   \n",
       "9530-EHPOH               Yes             DSL                   No   \n",
       "...                      ...             ...                  ...   \n",
       "0946-CLJTI               Yes     Fiber optic                   No   \n",
       "1029-QFBEN                No              No  No internet service   \n",
       "1197-BVMVG               Yes     Fiber optic                   No   \n",
       "8260-NGFNY  No phone service             DSL                   No   \n",
       "5868-CZJDR  No phone service             DSL                   No   \n",
       "\n",
       "                   OnlineBackup     DeviceProtection          TechSupport  \\\n",
       "customerID                                                                  \n",
       "6818-WOBHJ                  Yes                   No                   No   \n",
       "4853-RULSV                   No                   No                  Yes   \n",
       "5766-ZJYBB  No internet service  No internet service  No internet service   \n",
       "5914-DVBWJ                  Yes                   No                  Yes   \n",
       "9530-EHPOH                   No                  Yes                   No   \n",
       "...                         ...                  ...                  ...   \n",
       "0946-CLJTI                   No                  Yes                   No   \n",
       "1029-QFBEN  No internet service  No internet service  No internet service   \n",
       "1197-BVMVG                   No                   No                   No   \n",
       "8260-NGFNY                   No                   No                   No   \n",
       "5868-CZJDR                  Yes                   No                   No   \n",
       "\n",
       "                    StreamingTV      StreamingMovies        Contract  \\\n",
       "customerID                                                             \n",
       "6818-WOBHJ                   No                  Yes  Month-to-month   \n",
       "4853-RULSV                  Yes                  Yes        Two year   \n",
       "5766-ZJYBB  No internet service  No internet service  Month-to-month   \n",
       "5914-DVBWJ                   No                   No  Month-to-month   \n",
       "9530-EHPOH                   No                   No  Month-to-month   \n",
       "...                         ...                  ...             ...   \n",
       "0946-CLJTI                  Yes                  Yes  Month-to-month   \n",
       "1029-QFBEN  No internet service  No internet service  Month-to-month   \n",
       "1197-BVMVG                   No                   No  Month-to-month   \n",
       "8260-NGFNY                   No                   No  Month-to-month   \n",
       "5868-CZJDR                   No                   No  Month-to-month   \n",
       "\n",
       "           PaperlessBilling              PaymentMethod  MonthlyCharges  \\\n",
       "customerID                                                               \n",
       "6818-WOBHJ              Yes  Bank transfer (automatic)           89.60   \n",
       "4853-RULSV              Yes    Credit card (automatic)          104.00   \n",
       "5766-ZJYBB               No               Mailed check           19.40   \n",
       "5914-DVBWJ              Yes           Electronic check           85.45   \n",
       "9530-EHPOH               No           Electronic check           53.75   \n",
       "...                     ...                        ...             ...   \n",
       "0946-CLJTI              Yes           Electronic check           98.70   \n",
       "1029-QFBEN               No               Mailed check           19.55   \n",
       "1197-BVMVG              Yes           Electronic check           74.45   \n",
       "8260-NGFNY               No               Mailed check           25.20   \n",
       "5868-CZJDR              Yes               Mailed check           31.35   \n",
       "\n",
       "           TotalCharges  \n",
       "customerID               \n",
       "6818-WOBHJ       6127.6  \n",
       "4853-RULSV      7250.15  \n",
       "5766-ZJYBB         19.4  \n",
       "5914-DVBWJ      1505.85  \n",
       "9530-EHPOH          608  \n",
       "...                 ...  \n",
       "0946-CLJTI       5812.6  \n",
       "1029-QFBEN        19.55  \n",
       "1197-BVMVG       294.45  \n",
       "8260-NGFNY         25.2  \n",
       "5868-CZJDR        31.35  \n",
       "\n",
       "[301 rows x 19 columns]"
      ]
     },
     "execution_count": 143,
     "metadata": {},
     "output_type": "execute_result"
    }
   ],
   "source": [
    "miss_class_xgb = X_val[xgb_clf.predict(val)!=y_[\"Churn\"].values]\n",
    "miss_class_xgb"
   ]
  },
  {
   "cell_type": "markdown",
   "metadata": {},
   "source": [
    "- LogisticRegression"
   ]
  },
  {
   "cell_type": "code",
   "execution_count": 144,
   "metadata": {},
   "outputs": [
    {
     "data": {
      "text/plain": [
       "LogisticRegression(random_state=32)"
      ]
     },
     "execution_count": 144,
     "metadata": {},
     "output_type": "execute_result"
    }
   ],
   "source": [
    "from sklearn.linear_model import LogisticRegression\n",
    "logis_Reg_clf = LogisticRegression(random_state=32)\n",
    "logis_Reg_clf.fit(new_master_table, y_train)"
   ]
  },
  {
   "cell_type": "code",
   "execution_count": 145,
   "metadata": {},
   "outputs": [
    {
     "name": "stdout",
     "output_type": "stream",
     "text": [
      "AUC LogisticRegression = 0.8579864813108781\n"
     ]
    }
   ],
   "source": [
    "print(\"AUC LogisticRegression = {}\".format(roc_auc_score(y_, logis_Reg_clf.predict_proba(val)[:, 1])))\n"
   ]
  },
  {
   "cell_type": "markdown",
   "metadata": {},
   "source": [
    "La LogisticRegression fait mieux que XGBClassifier"
   ]
  },
  {
   "cell_type": "code",
   "execution_count": 146,
   "metadata": {
    "scrolled": true
   },
   "outputs": [
    {
     "data": {
      "image/png": "[encoded data removed]",
      "text/plain": [
       "<Figure size 864x576 with 1 Axes>"
      ]
     },
     "metadata": {
      "needs_background": "light"
     },
     "output_type": "display_data"
    }
   ],
   "source": [
    "evaluation(logis_Reg_clf, new_master_table, y_train, val)"
   ]
  },
  {
   "cell_type": "markdown",
   "metadata": {},
   "source": [
    "La variance de la LogisticRegression est quasiment nulle, elle ne semble pas faire du surapprentissage"
   ]
  },
  {
   "cell_type": "code",
   "execution_count": 147,
   "metadata": {
    "scrolled": false
   },
   "outputs": [
    {
     "ename": "NameError",
     "evalue": "name 'feature_importances' is not defined",
     "output_type": "error",
     "traceback": [
      "\u001b[1;31m---------------------------------------------------------------------------\u001b[0m",
      "\u001b[1;31mNameError\u001b[0m                                 Traceback (most recent call last)",
      "\u001b[1;32m<ipython-input-147-6d8dea5b1fd4>\u001b[0m in \u001b[0;36m<module>\u001b[1;34m\u001b[0m\n\u001b[1;32m----> 1\u001b[1;33m \u001b[0mfeature_importances\u001b[0m\u001b[1;33m(\u001b[0m\u001b[0mlogis_Reg_clf\u001b[0m\u001b[1;33m,\u001b[0m \u001b[0mnew_master_table\u001b[0m\u001b[1;33m,\u001b[0m \u001b[0my_train\u001b[0m\u001b[1;33m)\u001b[0m\u001b[1;33m\u001b[0m\u001b[1;33m\u001b[0m\u001b[0m\n\u001b[0m",
      "\u001b[1;31mNameError\u001b[0m: name 'feature_importances' is not defined"
     ]
    }
   ],
   "source": [
    "feature_importances(logis_Reg_clf, new_master_table, y_train)"
   ]
  },
  {
   "cell_type": "code",
   "execution_count": 148,
   "metadata": {
    "scrolled": true
   },
   "outputs": [
    {
     "data": {
      "image/png": "[encoded data removed]",
      "text/plain": [
       "<Figure size 432x288 with 2 Axes>"
      ]
     },
     "metadata": {
      "needs_background": "light"
     },
     "output_type": "display_data"
    }
   ],
   "source": [
    "plot_confusion_matrix(logis_Reg_clf, val, y_)  \n",
    "plt.show() \n",
    "#sns.heatmap(y, annot=True)"
   ]
  },
  {
   "cell_type": "markdown",
   "metadata": {},
   "source": [
    "Globalement les variables que nous avons créer lors du feature  Engineering ont une contribution significative pour  **LogisticRegression**"
   ]
  },
  {
   "cell_type": "markdown",
   "metadata": {},
   "source": [
    "- Erreur de classification  LogisticRegression: Nous allons recuperer les clients mal classé lors de la prediction"
   ]
  },
  {
   "cell_type": "code",
   "execution_count": 149,
   "metadata": {
    "scrolled": true
   },
   "outputs": [
    {
     "data": {
      "text/html": [
       "<div>\n",
       "<style scoped>\n",
       "    .dataframe tbody tr th:only-of-type {\n",
       "        vertical-align: middle;\n",
       "    }\n",
       "\n",
       "    .dataframe tbody tr th {\n",
       "        vertical-align: top;\n",
       "    }\n",
       "\n",
       "    .dataframe thead th {\n",
       "        text-align: right;\n",
       "    }\n",
       "</style>\n",
       "<table border=\"1\" class=\"dataframe\">\n",
       "  <thead>\n",
       "    <tr style=\"text-align: right;\">\n",
       "      <th></th>\n",
       "      <th>gender</th>\n",
       "      <th>SeniorCitizen</th>\n",
       "      <th>Partner</th>\n",
       "      <th>Dependents</th>\n",
       "      <th>tenure</th>\n",
       "      <th>PhoneService</th>\n",
       "      <th>MultipleLines</th>\n",
       "      <th>InternetService</th>\n",
       "      <th>OnlineSecurity</th>\n",
       "      <th>OnlineBackup</th>\n",
       "      <th>DeviceProtection</th>\n",
       "      <th>TechSupport</th>\n",
       "      <th>StreamingTV</th>\n",
       "      <th>StreamingMovies</th>\n",
       "      <th>Contract</th>\n",
       "      <th>PaperlessBilling</th>\n",
       "      <th>PaymentMethod</th>\n",
       "      <th>MonthlyCharges</th>\n",
       "      <th>TotalCharges</th>\n",
       "    </tr>\n",
       "    <tr>\n",
       "      <th>customerID</th>\n",
       "      <th></th>\n",
       "      <th></th>\n",
       "      <th></th>\n",
       "      <th></th>\n",
       "      <th></th>\n",
       "      <th></th>\n",
       "      <th></th>\n",
       "      <th></th>\n",
       "      <th></th>\n",
       "      <th></th>\n",
       "      <th></th>\n",
       "      <th></th>\n",
       "      <th></th>\n",
       "      <th></th>\n",
       "      <th></th>\n",
       "      <th></th>\n",
       "      <th></th>\n",
       "      <th></th>\n",
       "      <th></th>\n",
       "    </tr>\n",
       "  </thead>\n",
       "  <tbody>\n",
       "    <tr>\n",
       "      <th>6818-WOBHJ</th>\n",
       "      <td>Female</td>\n",
       "      <td>1</td>\n",
       "      <td>Yes</td>\n",
       "      <td>No</td>\n",
       "      <td>68</td>\n",
       "      <td>Yes</td>\n",
       "      <td>Yes</td>\n",
       "      <td>Fiber optic</td>\n",
       "      <td>No</td>\n",
       "      <td>Yes</td>\n",
       "      <td>No</td>\n",
       "      <td>No</td>\n",
       "      <td>No</td>\n",
       "      <td>Yes</td>\n",
       "      <td>Month-to-month</td>\n",
       "      <td>Yes</td>\n",
       "      <td>Bank transfer (automatic)</td>\n",
       "      <td>89.60</td>\n",
       "      <td>6127.6</td>\n",
       "    </tr>\n",
       "    <tr>\n",
       "      <th>4853-RULSV</th>\n",
       "      <td>Male</td>\n",
       "      <td>0</td>\n",
       "      <td>No</td>\n",
       "      <td>No</td>\n",
       "      <td>70</td>\n",
       "      <td>Yes</td>\n",
       "      <td>Yes</td>\n",
       "      <td>Fiber optic</td>\n",
       "      <td>Yes</td>\n",
       "      <td>No</td>\n",
       "      <td>No</td>\n",
       "      <td>Yes</td>\n",
       "      <td>Yes</td>\n",
       "      <td>Yes</td>\n",
       "      <td>Two year</td>\n",
       "      <td>Yes</td>\n",
       "      <td>Credit card (automatic)</td>\n",
       "      <td>104.00</td>\n",
       "      <td>7250.15</td>\n",
       "    </tr>\n",
       "    <tr>\n",
       "      <th>5766-ZJYBB</th>\n",
       "      <td>Male</td>\n",
       "      <td>0</td>\n",
       "      <td>No</td>\n",
       "      <td>No</td>\n",
       "      <td>1</td>\n",
       "      <td>Yes</td>\n",
       "      <td>No</td>\n",
       "      <td>No</td>\n",
       "      <td>No internet service</td>\n",
       "      <td>No internet service</td>\n",
       "      <td>No internet service</td>\n",
       "      <td>No internet service</td>\n",
       "      <td>No internet service</td>\n",
       "      <td>No internet service</td>\n",
       "      <td>Month-to-month</td>\n",
       "      <td>No</td>\n",
       "      <td>Mailed check</td>\n",
       "      <td>19.40</td>\n",
       "      <td>19.4</td>\n",
       "    </tr>\n",
       "    <tr>\n",
       "      <th>5914-DVBWJ</th>\n",
       "      <td>Female</td>\n",
       "      <td>1</td>\n",
       "      <td>No</td>\n",
       "      <td>No</td>\n",
       "      <td>18</td>\n",
       "      <td>Yes</td>\n",
       "      <td>Yes</td>\n",
       "      <td>Fiber optic</td>\n",
       "      <td>No</td>\n",
       "      <td>Yes</td>\n",
       "      <td>No</td>\n",
       "      <td>Yes</td>\n",
       "      <td>No</td>\n",
       "      <td>No</td>\n",
       "      <td>Month-to-month</td>\n",
       "      <td>Yes</td>\n",
       "      <td>Electronic check</td>\n",
       "      <td>85.45</td>\n",
       "      <td>1505.85</td>\n",
       "    </tr>\n",
       "    <tr>\n",
       "      <th>9530-EHPOH</th>\n",
       "      <td>Male</td>\n",
       "      <td>0</td>\n",
       "      <td>No</td>\n",
       "      <td>No</td>\n",
       "      <td>11</td>\n",
       "      <td>Yes</td>\n",
       "      <td>Yes</td>\n",
       "      <td>DSL</td>\n",
       "      <td>No</td>\n",
       "      <td>No</td>\n",
       "      <td>Yes</td>\n",
       "      <td>No</td>\n",
       "      <td>No</td>\n",
       "      <td>No</td>\n",
       "      <td>Month-to-month</td>\n",
       "      <td>No</td>\n",
       "      <td>Electronic check</td>\n",
       "      <td>53.75</td>\n",
       "      <td>608</td>\n",
       "    </tr>\n",
       "    <tr>\n",
       "      <th>...</th>\n",
       "      <td>...</td>\n",
       "      <td>...</td>\n",
       "      <td>...</td>\n",
       "      <td>...</td>\n",
       "      <td>...</td>\n",
       "      <td>...</td>\n",
       "      <td>...</td>\n",
       "      <td>...</td>\n",
       "      <td>...</td>\n",
       "      <td>...</td>\n",
       "      <td>...</td>\n",
       "      <td>...</td>\n",
       "      <td>...</td>\n",
       "      <td>...</td>\n",
       "      <td>...</td>\n",
       "      <td>...</td>\n",
       "      <td>...</td>\n",
       "      <td>...</td>\n",
       "      <td>...</td>\n",
       "    </tr>\n",
       "    <tr>\n",
       "      <th>7245-NIIWQ</th>\n",
       "      <td>Female</td>\n",
       "      <td>0</td>\n",
       "      <td>No</td>\n",
       "      <td>No</td>\n",
       "      <td>3</td>\n",
       "      <td>Yes</td>\n",
       "      <td>No</td>\n",
       "      <td>Fiber optic</td>\n",
       "      <td>No</td>\n",
       "      <td>No</td>\n",
       "      <td>No</td>\n",
       "      <td>No</td>\n",
       "      <td>No</td>\n",
       "      <td>No</td>\n",
       "      <td>Month-to-month</td>\n",
       "      <td>Yes</td>\n",
       "      <td>Electronic check</td>\n",
       "      <td>69.85</td>\n",
       "      <td>199.85</td>\n",
       "    </tr>\n",
       "    <tr>\n",
       "      <th>4853-OITSN</th>\n",
       "      <td>Male</td>\n",
       "      <td>0</td>\n",
       "      <td>Yes</td>\n",
       "      <td>No</td>\n",
       "      <td>5</td>\n",
       "      <td>Yes</td>\n",
       "      <td>Yes</td>\n",
       "      <td>Fiber optic</td>\n",
       "      <td>Yes</td>\n",
       "      <td>No</td>\n",
       "      <td>No</td>\n",
       "      <td>No</td>\n",
       "      <td>No</td>\n",
       "      <td>Yes</td>\n",
       "      <td>Month-to-month</td>\n",
       "      <td>Yes</td>\n",
       "      <td>Electronic check</td>\n",
       "      <td>89.15</td>\n",
       "      <td>413.25</td>\n",
       "    </tr>\n",
       "    <tr>\n",
       "      <th>1197-BVMVG</th>\n",
       "      <td>Female</td>\n",
       "      <td>1</td>\n",
       "      <td>No</td>\n",
       "      <td>No</td>\n",
       "      <td>4</td>\n",
       "      <td>Yes</td>\n",
       "      <td>Yes</td>\n",
       "      <td>Fiber optic</td>\n",
       "      <td>No</td>\n",
       "      <td>No</td>\n",
       "      <td>No</td>\n",
       "      <td>No</td>\n",
       "      <td>No</td>\n",
       "      <td>No</td>\n",
       "      <td>Month-to-month</td>\n",
       "      <td>Yes</td>\n",
       "      <td>Electronic check</td>\n",
       "      <td>74.45</td>\n",
       "      <td>294.45</td>\n",
       "    </tr>\n",
       "    <tr>\n",
       "      <th>8260-NGFNY</th>\n",
       "      <td>Female</td>\n",
       "      <td>0</td>\n",
       "      <td>No</td>\n",
       "      <td>No</td>\n",
       "      <td>1</td>\n",
       "      <td>No</td>\n",
       "      <td>No phone service</td>\n",
       "      <td>DSL</td>\n",
       "      <td>No</td>\n",
       "      <td>No</td>\n",
       "      <td>No</td>\n",
       "      <td>No</td>\n",
       "      <td>No</td>\n",
       "      <td>No</td>\n",
       "      <td>Month-to-month</td>\n",
       "      <td>No</td>\n",
       "      <td>Mailed check</td>\n",
       "      <td>25.20</td>\n",
       "      <td>25.2</td>\n",
       "    </tr>\n",
       "    <tr>\n",
       "      <th>5868-CZJDR</th>\n",
       "      <td>Male</td>\n",
       "      <td>0</td>\n",
       "      <td>No</td>\n",
       "      <td>Yes</td>\n",
       "      <td>1</td>\n",
       "      <td>No</td>\n",
       "      <td>No phone service</td>\n",
       "      <td>DSL</td>\n",
       "      <td>No</td>\n",
       "      <td>Yes</td>\n",
       "      <td>No</td>\n",
       "      <td>No</td>\n",
       "      <td>No</td>\n",
       "      <td>No</td>\n",
       "      <td>Month-to-month</td>\n",
       "      <td>Yes</td>\n",
       "      <td>Mailed check</td>\n",
       "      <td>31.35</td>\n",
       "      <td>31.35</td>\n",
       "    </tr>\n",
       "  </tbody>\n",
       "</table>\n",
       "<p>261 rows × 19 columns</p>\n",
       "</div>"
      ],
      "text/plain": [
       "            gender  SeniorCitizen Partner Dependents  tenure PhoneService  \\\n",
       "customerID                                                                  \n",
       "6818-WOBHJ  Female              1     Yes         No      68          Yes   \n",
       "4853-RULSV    Male              0      No         No      70          Yes   \n",
       "5766-ZJYBB    Male              0      No         No       1          Yes   \n",
       "5914-DVBWJ  Female              1      No         No      18          Yes   \n",
       "9530-EHPOH    Male              0      No         No      11          Yes   \n",
       "...            ...            ...     ...        ...     ...          ...   \n",
       "7245-NIIWQ  Female              0      No         No       3          Yes   \n",
       "4853-OITSN    Male              0     Yes         No       5          Yes   \n",
       "1197-BVMVG  Female              1      No         No       4          Yes   \n",
       "8260-NGFNY  Female              0      No         No       1           No   \n",
       "5868-CZJDR    Male              0      No        Yes       1           No   \n",
       "\n",
       "               MultipleLines InternetService       OnlineSecurity  \\\n",
       "customerID                                                          \n",
       "6818-WOBHJ               Yes     Fiber optic                   No   \n",
       "4853-RULSV               Yes     Fiber optic                  Yes   \n",
       "5766-ZJYBB                No              No  No internet service   \n",
       "5914-DVBWJ               Yes     Fiber optic                   No   \n",
       "9530-EHPOH               Yes             DSL                   No   \n",
       "...                      ...             ...                  ...   \n",
       "7245-NIIWQ                No     Fiber optic                   No   \n",
       "4853-OITSN               Yes     Fiber optic                  Yes   \n",
       "1197-BVMVG               Yes     Fiber optic                   No   \n",
       "8260-NGFNY  No phone service             DSL                   No   \n",
       "5868-CZJDR  No phone service             DSL                   No   \n",
       "\n",
       "                   OnlineBackup     DeviceProtection          TechSupport  \\\n",
       "customerID                                                                  \n",
       "6818-WOBHJ                  Yes                   No                   No   \n",
       "4853-RULSV                   No                   No                  Yes   \n",
       "5766-ZJYBB  No internet service  No internet service  No internet service   \n",
       "5914-DVBWJ                  Yes                   No                  Yes   \n",
       "9530-EHPOH                   No                  Yes                   No   \n",
       "...                         ...                  ...                  ...   \n",
       "7245-NIIWQ                   No                   No                   No   \n",
       "4853-OITSN                   No                   No                   No   \n",
       "1197-BVMVG                   No                   No                   No   \n",
       "8260-NGFNY                   No                   No                   No   \n",
       "5868-CZJDR                  Yes                   No                   No   \n",
       "\n",
       "                    StreamingTV      StreamingMovies        Contract  \\\n",
       "customerID                                                             \n",
       "6818-WOBHJ                   No                  Yes  Month-to-month   \n",
       "4853-RULSV                  Yes                  Yes        Two year   \n",
       "5766-ZJYBB  No internet service  No internet service  Month-to-month   \n",
       "5914-DVBWJ                   No                   No  Month-to-month   \n",
       "9530-EHPOH                   No                   No  Month-to-month   \n",
       "...                         ...                  ...             ...   \n",
       "7245-NIIWQ                   No                   No  Month-to-month   \n",
       "4853-OITSN                   No                  Yes  Month-to-month   \n",
       "1197-BVMVG                   No                   No  Month-to-month   \n",
       "8260-NGFNY                   No                   No  Month-to-month   \n",
       "5868-CZJDR                   No                   No  Month-to-month   \n",
       "\n",
       "           PaperlessBilling              PaymentMethod  MonthlyCharges  \\\n",
       "customerID                                                               \n",
       "6818-WOBHJ              Yes  Bank transfer (automatic)           89.60   \n",
       "4853-RULSV              Yes    Credit card (automatic)          104.00   \n",
       "5766-ZJYBB               No               Mailed check           19.40   \n",
       "5914-DVBWJ              Yes           Electronic check           85.45   \n",
       "9530-EHPOH               No           Electronic check           53.75   \n",
       "...                     ...                        ...             ...   \n",
       "7245-NIIWQ              Yes           Electronic check           69.85   \n",
       "4853-OITSN              Yes           Electronic check           89.15   \n",
       "1197-BVMVG              Yes           Electronic check           74.45   \n",
       "8260-NGFNY               No               Mailed check           25.20   \n",
       "5868-CZJDR              Yes               Mailed check           31.35   \n",
       "\n",
       "           TotalCharges  \n",
       "customerID               \n",
       "6818-WOBHJ       6127.6  \n",
       "4853-RULSV      7250.15  \n",
       "5766-ZJYBB         19.4  \n",
       "5914-DVBWJ      1505.85  \n",
       "9530-EHPOH          608  \n",
       "...                 ...  \n",
       "7245-NIIWQ       199.85  \n",
       "4853-OITSN       413.25  \n",
       "1197-BVMVG       294.45  \n",
       "8260-NGFNY         25.2  \n",
       "5868-CZJDR        31.35  \n",
       "\n",
       "[261 rows x 19 columns]"
      ]
     },
     "execution_count": 149,
     "metadata": {},
     "output_type": "execute_result"
    }
   ],
   "source": [
    "miss_class_logi = X_val[logis_Reg_clf.predict(val)!=y_[\"Churn\"].values]\n",
    "miss_class_logi"
   ]
  },
  {
   "cell_type": "markdown",
   "metadata": {},
   "source": [
    "**comparaison**:\n",
    "Nous allons indentifiers les clients dont les deux modeles ont mal classifié"
   ]
  },
  {
   "cell_type": "code",
   "execution_count": 150,
   "metadata": {},
   "outputs": [
    {
     "data": {
      "text/plain": [
       "187"
      ]
     },
     "execution_count": 150,
     "metadata": {},
     "output_type": "execute_result"
    }
   ],
   "source": [
    "miss_class_logi.reset_index(inplace=True)\n",
    "#pd.Series(miss_class_logi.index).isnin(miss_class_xgb.index)\n",
    "#customerID\n",
    "miss_class_logi.isin({'customerID': miss_class_xgb.index})[\"customerID\"].sum()"
   ]
  },
  {
   "cell_type": "markdown",
   "metadata": {},
   "source": [
    "Il y a 183 clients qui ont été mal classifié par les deux modeles: Nous pourrons envisager de poursuivre nos analyse afin de pouvoir identifier la particularité de ces 183 clients qui fait defaut"
   ]
  },
  {
   "cell_type": "markdown",
   "metadata": {},
   "source": [
    " - KNeighborsClassifier"
   ]
  },
  {
   "cell_type": "code",
   "execution_count": 151,
   "metadata": {
    "scrolled": true
   },
   "outputs": [
    {
     "data": {
      "text/plain": [
       "0.8233306075129132"
      ]
     },
     "execution_count": 151,
     "metadata": {},
     "output_type": "execute_result"
    }
   ],
   "source": [
    "from sklearn.neighbors import KNeighborsClassifier\n",
    "Knn_clf = KNeighborsClassifier(n_neighbors=10)\n",
    "Knn_clf.fit(new_master_table, y_train)\n",
    "roc_auc_score(y_, Knn_clf.predict_proba(val)[:, 1])"
   ]
  },
  {
   "cell_type": "code",
   "execution_count": null,
   "metadata": {},
   "outputs": [],
   "source": []
  },
  {
   "cell_type": "code",
   "execution_count": 156,
   "metadata": {},
   "outputs": [
    {
     "name": "stdout",
     "output_type": "stream",
     "text": [
      "Monitoring starting below...\n",
      "Battery capacity set to logis_Reg_clf,\n",
      "Writing data into file xgb_clf,\n",
      "Monitoring starting below...\n",
      "Battery capacity set to logis_Reg_clf,\n",
      "Writing data into file xgb_clf,\n"
     ]
    },
    {
     "name": "stderr",
     "output_type": "stream",
     "text": [
      "Process p1:\n",
      "Traceback (most recent call last):\n",
      "  File \"C:\\Users\\kane_\\Anaconda3\\lib\\multiprocessing\\process.py\", line 315, in _bootstrap\n",
      "    self.run()\n",
      "  File \"C:\\Users\\kane_\\Anaconda3\\lib\\multiprocessing\\process.py\", line 108, in run\n",
      "    self._target(*self._args, **self._kwargs)\n",
      "  File \"C:\\Users\\kane_\\Downloads\\monitoring.py\", line 52, in monitore\n",
      "    BT_Wh = float(sys.argv[2])#condition of battery in Wh, given by command inxi -B (ubuntu or mac os)\n",
      "ValueError: could not convert string to float: 'logis_Reg_clf,'\n"
     ]
    }
   ],
   "source": [
    "!python monitoring.py xgb_clf, logis_Reg_clf, Knn_clf"
   ]
  },
  {
   "cell_type": "markdown",
   "metadata": {},
   "source": [
    "Le KNN étant un modèle non parametrique.\n",
    "Puisqu'on est en grande dimension nous avons jugé qu'on ne peut pas se fier à la performance de ce modele qui est basé sur le calcule des distances entres les observations."
   ]
  },
  {
   "cell_type": "markdown",
   "metadata": {},
   "source": [
    "- RandomForestClassifier"
   ]
  },
  {
   "cell_type": "code",
   "execution_count": 338,
   "metadata": {
    "scrolled": false
   },
   "outputs": [
    {
     "data": {
      "text/plain": [
       "0.858020122765431"
      ]
     },
     "execution_count": 338,
     "metadata": {},
     "output_type": "execute_result"
    }
   ],
   "source": [
    "from sklearn.ensemble import RandomForestClassifier\n",
    "rand_clf = RandomForestClassifier(max_depth=10, random_state=0)\n",
    "rand_clf.fit(new_master_table, y_)\n",
    "roc_auc_score(y_, rand_clf.predict_proba(val)[:, 1])"
   ]
  },
  {
   "cell_type": "code",
   "execution_count": 339,
   "metadata": {
    "scrolled": true
   },
   "outputs": [
    {
     "data": {
      "image/png": "[encoded data removed]",
      "text/plain": [
       "<Figure size 864x576 with 1 Axes>"
      ]
     },
     "metadata": {},
     "output_type": "display_data"
    }
   ],
   "source": [
    "evaluation(rand_clf, new_master_table, y_train, val)"
   ]
  },
  {
   "cell_type": "code",
   "execution_count": null,
   "metadata": {},
   "outputs": [],
   "source": []
  },
  {
   "cell_type": "markdown",
   "metadata": {},
   "source": [
    "- Reseaux de neurones"
   ]
  },
  {
   "cell_type": "code",
   "execution_count": 168,
   "metadata": {},
   "outputs": [],
   "source": [
    "#pip install tensorflow "
   ]
  },
  {
   "cell_type": "code",
   "execution_count": 167,
   "metadata": {},
   "outputs": [],
   "source": [
    "import tensorflow as tf\n",
    "from tensorflow.keras.models import Sequential\n",
    "from tensorflow.keras.layers import Dense, Activation, Dropout"
   ]
  },
  {
   "cell_type": "code",
   "execution_count": 169,
   "metadata": {},
   "outputs": [],
   "source": [
    "model = Sequential()\n",
    "model.add(Dense(units=30,activation='relu'))\n",
    "model.add(Dense(units=15,activation='relu'))\n",
    "model.add(Dense(units=1,activation='sigmoid'))\n",
    "model.compile(loss='binary_crossentropy', optimizer='adam')"
   ]
  },
  {
   "cell_type": "code",
   "execution_count": 65,
   "metadata": {},
   "outputs": [
    {
     "data": {
      "text/plain": [
       "['sortie', '']"
      ]
     },
     "execution_count": 65,
     "metadata": {},
     "output_type": "execute_result"
    }
   ],
   "source": [
    "s = 'sortie.txt'\n",
    "s.split('.txt')"
   ]
  },
  {
   "cell_type": "code",
   "execution_count": 171,
   "metadata": {},
   "outputs": [],
   "source": [
    "predictions = (model.predict(val) > 0.5).astype(\"int32\")"
   ]
  },
  {
   "cell_type": "code",
   "execution_count": null,
   "metadata": {},
   "outputs": [],
   "source": [
    "from sklearn.neural_network import MLPClassifier\n",
    "percep = MLPClassifier(random_state=1, max_iter=3000).fit(new_master_table, y_train)"
   ]
  },
  {
   "cell_type": "code",
   "execution_count": 547,
   "metadata": {},
   "outputs": [
    {
     "data": {
      "text/plain": [
       "0.8200777376380591"
      ]
     },
     "execution_count": 547,
     "metadata": {},
     "output_type": "execute_result"
    }
   ],
   "source": [
    "roc_auc_score(y_, percep.predict_proba(val)[:, 1])"
   ]
  },
  {
   "cell_type": "code",
   "execution_count": 548,
   "metadata": {},
   "outputs": [
    {
     "data": {
      "image/png": "[encoded data removed]",
      "text/plain": [
       "<Figure size 864x576 with 1 Axes>"
      ]
     },
     "metadata": {},
     "output_type": "display_data"
    }
   ],
   "source": [
    "evaluation(percep, new_master_table, y_train, val)"
   ]
  },
  {
   "cell_type": "markdown",
   "metadata": {
    "scrolled": true
   },
   "source": [
    "Le reseaux de neuronnes fait mieux que l'algo KNN"
   ]
  },
  {
   "cell_type": "markdown",
   "metadata": {},
   "source": [
    "Nous voyons sur la figures par ordre croissant les variables qui impactent notre model"
   ]
  },
  {
   "cell_type": "markdown",
   "metadata": {},
   "source": [
    "Type d'encodage de la variable **tenure** qu'on a voulu appliqué au debut"
   ]
  },
  {
   "cell_type": "code",
   "execution_count": 158,
   "metadata": {},
   "outputs": [
    {
     "data": {
      "text/plain": [
       "array([1, 0, 0, ..., 0, 0, 0])"
      ]
     },
     "execution_count": 158,
     "metadata": {},
     "output_type": "execute_result"
    }
   ],
   "source": [
    "y_pred_logi = logis_Reg_clf.predict(val)\n",
    "y_pred_logi"
   ]
  },
  {
   "cell_type": "markdown",
   "metadata": {},
   "source": [
    "### Test d'hypothèse pour évaluer l'effet de la campagne"
   ]
  },
  {
   "cell_type": "markdown",
   "metadata": {},
   "source": [
    "Comme enumerer au debut du projet, l'objectif n'est pas seulement de prédire la proba d'attrition de clients mais également d'effectuer une campagne de retention. \n",
    "Ainsi afin de mesurer l'efficacité de la campagne de retension nous allons faire le tes **A/B**. \n",
    "Le test A/B est un moyen de comparer deux versions d'une même variable.\n",
    "Dans notre cas nous allons subdiviser en deux groupes: groupe de controle(dont la campagne ne va pas cibler) et le groupe de traitement(qui va être cibler par la campagne) les clients dont notre algo a predit qu'ils vont resilier le prochain mois.\n",
    "L'hypothèse nulle est: la proportion des clients qui ont reellement resilié est identique dans les deux groupes."
   ]
  },
  {
   "cell_type": "markdown",
   "metadata": {},
   "source": [
    "Afin d'obtenir des résultats significatifs, nous voulons que notre test ait une puissance statistique d'au moins 0.8 ; la taille des groupes a une influence sur la puissance statistique. Le niveau du test est fixé à 0.05"
   ]
  },
  {
   "cell_type": "markdown",
   "metadata": {},
   "source": [
    "Afin d'avoir les bonnes proportions nous allons calculer la tailles des groupes avec les formules suivantes: "
   ]
  },
  {
   "cell_type": "code",
   "execution_count": 369,
   "metadata": {},
   "outputs": [
    {
     "data": {
      "image/png": "[encoded data removed]",
      "text/plain": [
       "<IPython.core.display.Image object>"
      ]
     },
     "execution_count": 369,
     "metadata": {},
     "output_type": "execute_result"
    }
   ],
   "source": [
    "from IPython.display import Image\n",
    "Image(filename='a_b_test.png')"
   ]
  },
  {
   "cell_type": "code",
   "execution_count": 408,
   "metadata": {},
   "outputs": [],
   "source": [
    "import scipy.stats as scs\n",
    "def traitement_control_group_size(k, pt, pc, alpha=0.05, beta=0.2):\n",
    "    standard_norm = scs.norm(0, 1)\n",
    "    z_alpha = standard_norm.ppf(1 - alpha/2)\n",
    "    z_beta = standard_norm.ppf(1 - beta)\n",
    "    qc, qt = 1 - pc, 1 - pt\n",
    "    delta = abs(pc - pt)\n",
    "    p_bar = (pc + k*pt)/(1 +k)\n",
    "    q_bar = 1-p_bar\n",
    "    A = z_alpha*np.sqrt(p_bar*q_bar*(1+ 1/k))\n",
    "    B = z_beta*np.sqrt(pt*qt + (pc*qc/k))\n",
    "    nt = (A + B)**2/delta**2\n",
    "    return int(k*nt), int(nt)\n",
    "#traitement_control_group_size(k=1, pt=0.14, pc=0.217, alpha=0.05, beta=0.2)"
   ]
  },
  {
   "cell_type": "code",
   "execution_count": 450,
   "metadata": {},
   "outputs": [
    {
     "data": {
      "text/plain": [
       "0.21717530163236337"
      ]
     },
     "execution_count": 450,
     "metadata": {},
     "output_type": "execute_result"
    }
   ],
   "source": [
    "resil_prop = y_pred_logi.mean()\n",
    "resil_prop"
   ]
  },
  {
   "cell_type": "markdown",
   "metadata": {},
   "source": [
    "D'après le classifier **LogisticRegression** environs 21% des 1409 clients dans la base de test soit 306 clients vont resilier le prochain mois"
   ]
  },
  {
   "cell_type": "markdown",
   "metadata": {},
   "source": [
    "Au vue de la petite taille de notre base de test, en Supposant que la campagne va reduire de 13% le taux de resiliation, nous allons calculer la proportion de chaque groupe pour evaluer l'effet de la campagne. "
   ]
  },
  {
   "cell_type": "code",
   "execution_count": 445,
   "metadata": {
    "scrolled": true
   },
   "outputs": [
    {
     "data": {
      "text/plain": [
       "(118, 118)"
      ]
     },
     "execution_count": 445,
     "metadata": {},
     "output_type": "execute_result"
    }
   ],
   "source": [
    "traitement_control_group_size(k=1, pt=resil_prop-0.13, pc=resil_prop, alpha=0.05, beta=0.2)"
   ]
  },
  {
   "cell_type": "markdown",
   "metadata": {},
   "source": [
    "Avec ces informations il faut qu'on ait 118 clients choisit aleatoirement dans la base de test pour construire nos deux groupes"
   ]
  },
  {
   "cell_type": "code",
   "execution_count": 521,
   "metadata": {},
   "outputs": [],
   "source": [
    "n = y_pred_logi.shape[0]\n",
    "size = 118\n",
    "import random\n",
    "ind_resil = val.index[y_pred_logi==1]\n",
    "control_ind = random.sample(ind_resil.to_list(), size)\n",
    "not_choosed_ind = ind_resil[~ind_resil.isin(a)].to_list()\n",
    "traitement_ind = random.sample(not_choosed_ind, size)"
   ]
  },
  {
   "cell_type": "code",
   "execution_count": 535,
   "metadata": {
    "scrolled": true
   },
   "outputs": [],
   "source": [
    "y_control_group = val.loc[control_ind, :]\n",
    "traitement_group = val.loc[traitement_ind, :]"
   ]
  },
  {
   "cell_type": "code",
   "execution_count": 544,
   "metadata": {
    "scrolled": true
   },
   "outputs": [
    {
     "name": "stdout",
     "output_type": "stream",
     "text": [
      "moyenne du groupe de controle:  0.7288135593220338\n",
      "moyenne du groupe de traitement:  0.6949152542372882\n",
      "p-value [0.56727645]\n",
      "Nous acceptons l'hypothèse nulle\n"
     ]
    }
   ],
   "source": [
    "from scipy.stats import ttest_ind\n",
    "y_control = y_.loc[control_ind, :]\n",
    "y_traitement = y_.loc[traitement_ind, :]\n",
    "mean_control = np.mean(y_control[\"Churn\"])\n",
    "mean_traitement = np.mean(y_traitement[\"Churn\"])\n",
    "print(\"moyenne du groupe de controle: \", mean_control)\n",
    "print(\"moyenne du groupe de traitement: \",mean_traitement)\n",
    "\n",
    "ttest,pval = ttest_ind(y_control, y_traitement)\n",
    "print(\"p-value\",pval)\n",
    "if pval <0.05:\n",
    "    print(\"Nous rejetons l'hypothèse nulle\")\n",
    "else:\n",
    "    print(\"Nous acceptons l'hypothèse nulle\")"
   ]
  },
  {
   "cell_type": "markdown",
   "metadata": {},
   "source": [
    "### Conclusion "
   ]
  },
  {
   "cell_type": "markdown",
   "metadata": {},
   "source": [
    "Ce projet a été très enrichissant et nous a permit de nous confronter aux données réelles issues d'une entreprise de télécommunication. Cette problematique est commun à toutes les entreprises qui proposent des abonnements à ses clients.\n"
   ]
  },
  {
   "cell_type": "markdown",
   "metadata": {},
   "source": [
    "Pour faire la prediciton des probas de resiliation dans un mois des clients nous avons essayer plusieurs modeles de machines learning et un reseau de neuronne."
   ]
  },
  {
   "cell_type": "markdown",
   "metadata": {},
   "source": [
    "Etant donnée que nous avons fait un compromis entre l'explicabilité et la complexité de modèle.\n",
    "Notre modele de regession logistique n'a pas été combiner avec d'autre modeles potientiels pour ameliorer ses performances."
   ]
  },
  {
   "cell_type": "markdown",
   "metadata": {},
   "source": [
    "Nous tenons à preciser que nous n'avons fait aucune optimisation d'hyper-paramètres de nos modèles, alors que cela pourrait nettement ameliorer les performances."
   ]
  },
  {
   "cell_type": "markdown",
   "metadata": {},
   "source": [
    "Nous avons fait le test de l'efficacité de la campagne de rentention; il s'est avéré qu'elle n'est pas efficace ce qui est normale car aucune campagne n'a été réaliser. Ce test test à été fait pour illustrer le domaine d'application"
   ]
  }
 ],
 "metadata": {
  "kernelspec": {
   "display_name": "Python 3",
   "language": "python",
   "name": "python3"
  },
  "language_info": {
   "codemirror_mode": {
    "name": "ipython",
    "version": 3
   },
   "file_extension": ".py",
   "mimetype": "text/x-python",
   "name": "python",
   "nbconvert_exporter": "python",
   "pygments_lexer": "ipython3",
   "version": "3.8.8"
  }
 },
 "nbformat": 4,
 "nbformat_minor": 4
}

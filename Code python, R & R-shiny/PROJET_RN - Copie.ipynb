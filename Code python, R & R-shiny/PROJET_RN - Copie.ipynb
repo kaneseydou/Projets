{
 "cells": [
  {
   "cell_type": "code",
   "execution_count": 210,
   "metadata": {},
   "outputs": [
    {
     "name": "stdout",
     "output_type": "stream",
     "text": [
      "[[189   6]\n",
      " [ 45   7]]\n"
     ]
    },
    {
     "data": {
      "text/plain": [
       "0.7935222672064778"
      ]
     },
     "execution_count": 210,
     "metadata": {},
     "output_type": "execute_result"
    }
   ],
   "source": [
    "import pandas as pd\n",
    "import numpy as np\n",
    "from sklearn.model_selection import train_test_split\n",
    "from sklearn.preprocessing import MinMaxScaler\n",
    "from sklearn.neural_network import MLPClassifier\n",
    "from sklearn.metrics import confusion_matrix,classification_report\n",
    "data = pd.read_csv(\"transfusion.csv\" )\n",
    "#data.head()\n",
    "data = data.drop(data.columns[0], axis=1)\n",
    "#data.head()\n",
    "X = data.drop('Don',axis=1).values\n",
    "y = data['Don'].values\n",
    "X_train, X_test, y_train, y_test = train_test_split(X, y, test_size=0.33, random_state=233)\n",
    "scaler = MinMaxScaler()\n",
    "scaler.fit(X_train)\n",
    "X_train = scaler.transform(X_train)\n",
    "X_test = scaler.transform(X_test)\n",
    "model = MLPClassifier(hidden_layer_sizes = 12, max_iter = 2000, activation = \"identity\")\n",
    "model.fit(X_train,y_train)\n",
    "pred = model.predict(X_test)\n",
    "matrice = confusion_matrix(y_test,pred)\n",
    "print(matrice)\n",
    "#print(classification_report(y_test,pred))\n",
    "\n",
    "np.diag(matrice).sum()/matrice.sum()"
   ]
  },
  {
   "cell_type": "markdown",
   "metadata": {},
   "source": [
    "Application de Tensorflow"
   ]
  },
  {
   "cell_type": "code",
   "execution_count": 211,
   "metadata": {},
   "outputs": [],
   "source": [
    "import tensorflow as tf\n",
    "from tensorflow.keras.models import Sequential\n",
    "from tensorflow.keras.layers import Dense, Activation,Dropout"
   ]
  },
  {
   "cell_type": "code",
   "execution_count": 192,
   "metadata": {},
   "outputs": [
    {
     "data": {
      "text/plain": [
       "(501, 4)"
      ]
     },
     "execution_count": 192,
     "metadata": {},
     "output_type": "execute_result"
    }
   ],
   "source": [
    "X_train.shape"
   ]
  },
  {
   "cell_type": "code",
   "execution_count": 259,
   "metadata": {},
   "outputs": [],
   "source": [
    "model = Sequential()\n",
    "model.add(Dense(units=30,activation='relu'))\n",
    "model.add(Dense(units=15,activation='relu'))\n",
    "model.add(Dense(units=1,activation='sigmoid'))\n",
    "# For a binary classification problem\n",
    "model.compile(loss='binary_crossentropy', optimizer='adam')"
   ]
  },
  {
   "cell_type": "code",
   "execution_count": 260,
   "metadata": {},
   "outputs": [
    {
     "name": "stdout",
     "output_type": "stream",
     "text": [
      "Epoch 1/600\n",
      "16/16 [==============================] - 1s 22ms/step - loss: 0.6865 - val_loss: 0.6525\n",
      "Epoch 2/600\n",
      "16/16 [==============================] - 0s 6ms/step - loss: 0.6493 - val_loss: 0.6171\n",
      "Epoch 3/600\n",
      "16/16 [==============================] - 0s 6ms/step - loss: 0.6249 - val_loss: 0.5866\n",
      "Epoch 4/600\n",
      "16/16 [==============================] - 0s 5ms/step - loss: 0.5844 - val_loss: 0.5606\n",
      "Epoch 5/600\n",
      "16/16 [==============================] - 0s 7ms/step - loss: 0.5828 - val_loss: 0.5433\n",
      "Epoch 6/600\n",
      "16/16 [==============================] - 0s 10ms/step - loss: 0.5685 - val_loss: 0.5305\n",
      "Epoch 7/600\n",
      "16/16 [==============================] - 0s 9ms/step - loss: 0.5538 - val_loss: 0.5202\n",
      "Epoch 8/600\n",
      "16/16 [==============================] - 0s 7ms/step - loss: 0.5414 - val_loss: 0.5133\n",
      "Epoch 9/600\n",
      "16/16 [==============================] - 0s 7ms/step - loss: 0.5466 - val_loss: 0.5078\n",
      "Epoch 10/600\n",
      "16/16 [==============================] - 0s 6ms/step - loss: 0.5634 - val_loss: 0.5031\n",
      "Epoch 11/600\n",
      "16/16 [==============================] - 0s 6ms/step - loss: 0.5642 - val_loss: 0.4972\n",
      "Epoch 12/600\n",
      "16/16 [==============================] - 0s 6ms/step - loss: 0.5208 - val_loss: 0.4922\n",
      "Epoch 13/600\n",
      "16/16 [==============================] - 0s 6ms/step - loss: 0.5308 - val_loss: 0.4879\n",
      "Epoch 14/600\n",
      "16/16 [==============================] - 0s 6ms/step - loss: 0.5258 - val_loss: 0.4833\n",
      "Epoch 15/600\n",
      "16/16 [==============================] - 0s 7ms/step - loss: 0.5042 - val_loss: 0.4769\n",
      "Epoch 16/600\n",
      "16/16 [==============================] - 0s 6ms/step - loss: 0.5088 - val_loss: 0.4721\n",
      "Epoch 17/600\n",
      "16/16 [==============================] - 0s 6ms/step - loss: 0.5250 - val_loss: 0.4693\n",
      "Epoch 18/600\n",
      "16/16 [==============================] - 0s 9ms/step - loss: 0.5122 - val_loss: 0.4650\n",
      "Epoch 19/600\n",
      "16/16 [==============================] - 0s 13ms/step - loss: 0.5142 - val_loss: 0.4618\n",
      "Epoch 20/600\n",
      "16/16 [==============================] - 0s 10ms/step - loss: 0.5336 - val_loss: 0.4580\n",
      "Epoch 21/600\n",
      "16/16 [==============================] - 0s 6ms/step - loss: 0.5139 - val_loss: 0.4559\n",
      "Epoch 22/600\n",
      "16/16 [==============================] - 0s 6ms/step - loss: 0.4950 - val_loss: 0.4526\n",
      "Epoch 23/600\n",
      "16/16 [==============================] - 0s 6ms/step - loss: 0.5304 - val_loss: 0.4559\n",
      "Epoch 24/600\n",
      "16/16 [==============================] - 0s 7ms/step - loss: 0.4847 - val_loss: 0.4494\n",
      "Epoch 25/600\n",
      "16/16 [==============================] - 0s 10ms/step - loss: 0.5140 - val_loss: 0.4510\n",
      "Epoch 26/600\n",
      "16/16 [==============================] - 0s 6ms/step - loss: 0.4742 - val_loss: 0.4477\n",
      "Epoch 27/600\n",
      "16/16 [==============================] - 0s 7ms/step - loss: 0.4635 - val_loss: 0.4515\n",
      "Epoch 28/600\n",
      "16/16 [==============================] - 0s 7ms/step - loss: 0.4871 - val_loss: 0.4509\n",
      "Epoch 29/600\n",
      "16/16 [==============================] - 0s 7ms/step - loss: 0.4921 - val_loss: 0.4483\n",
      "Epoch 30/600\n",
      "16/16 [==============================] - 0s 5ms/step - loss: 0.4594 - val_loss: 0.4474\n",
      "Epoch 31/600\n",
      "16/16 [==============================] - 0s 7ms/step - loss: 0.4985 - val_loss: 0.4508\n",
      "Epoch 32/600\n",
      "16/16 [==============================] - 0s 7ms/step - loss: 0.4610 - val_loss: 0.4474\n",
      "Epoch 33/600\n",
      "16/16 [==============================] - 0s 6ms/step - loss: 0.4875 - val_loss: 0.4492\n",
      "Epoch 34/600\n",
      "16/16 [==============================] - 0s 6ms/step - loss: 0.4920 - val_loss: 0.4488\n",
      "Epoch 35/600\n",
      "16/16 [==============================] - 0s 7ms/step - loss: 0.5042 - val_loss: 0.4484\n",
      "Epoch 36/600\n",
      "16/16 [==============================] - 0s 7ms/step - loss: 0.4696 - val_loss: 0.4462\n",
      "Epoch 37/600\n",
      "16/16 [==============================] - 0s 6ms/step - loss: 0.4935 - val_loss: 0.4509\n",
      "Epoch 38/600\n",
      "16/16 [==============================] - 0s 6ms/step - loss: 0.5048 - val_loss: 0.4501\n",
      "Epoch 39/600\n",
      "16/16 [==============================] - 0s 6ms/step - loss: 0.4764 - val_loss: 0.4479\n",
      "Epoch 40/600\n",
      "16/16 [==============================] - 0s 6ms/step - loss: 0.4641 - val_loss: 0.4482\n",
      "Epoch 41/600\n",
      "16/16 [==============================] - 0s 7ms/step - loss: 0.4882 - val_loss: 0.4483\n",
      "Epoch 42/600\n",
      "16/16 [==============================] - 0s 6ms/step - loss: 0.4895 - val_loss: 0.4512\n",
      "Epoch 43/600\n",
      "16/16 [==============================] - 0s 7ms/step - loss: 0.4761 - val_loss: 0.4512\n",
      "Epoch 44/600\n",
      "16/16 [==============================] - 0s 7ms/step - loss: 0.4779 - val_loss: 0.4491\n",
      "Epoch 45/600\n",
      "16/16 [==============================] - 0s 6ms/step - loss: 0.4703 - val_loss: 0.4506\n",
      "Epoch 46/600\n",
      "16/16 [==============================] - 0s 6ms/step - loss: 0.4880 - val_loss: 0.4505\n",
      "Epoch 47/600\n",
      "16/16 [==============================] - 0s 6ms/step - loss: 0.4768 - val_loss: 0.4527\n",
      "Epoch 48/600\n",
      "16/16 [==============================] - 0s 8ms/step - loss: 0.4882 - val_loss: 0.4514\n",
      "Epoch 49/600\n",
      "16/16 [==============================] - 0s 8ms/step - loss: 0.4826 - val_loss: 0.4506\n",
      "Epoch 50/600\n",
      "16/16 [==============================] - 0s 7ms/step - loss: 0.4664 - val_loss: 0.4512\n",
      "Epoch 51/600\n",
      "16/16 [==============================] - 0s 6ms/step - loss: 0.4697 - val_loss: 0.4522\n",
      "Epoch 52/600\n",
      "16/16 [==============================] - 0s 8ms/step - loss: 0.5047 - val_loss: 0.4523\n",
      "Epoch 53/600\n",
      "16/16 [==============================] - 0s 7ms/step - loss: 0.4768 - val_loss: 0.4512\n",
      "Epoch 54/600\n",
      "16/16 [==============================] - 0s 8ms/step - loss: 0.4819 - val_loss: 0.4509\n",
      "Epoch 55/600\n",
      "16/16 [==============================] - 0s 7ms/step - loss: 0.4664 - val_loss: 0.4516\n",
      "Epoch 56/600\n",
      "16/16 [==============================] - 0s 7ms/step - loss: 0.4513 - val_loss: 0.4526\n",
      "Epoch 57/600\n",
      "16/16 [==============================] - 0s 8ms/step - loss: 0.4641 - val_loss: 0.4522\n",
      "Epoch 58/600\n",
      "16/16 [==============================] - 0s 8ms/step - loss: 0.4821 - val_loss: 0.4554\n",
      "Epoch 59/600\n",
      "16/16 [==============================] - 0s 6ms/step - loss: 0.4691 - val_loss: 0.4504\n",
      "Epoch 60/600\n",
      "16/16 [==============================] - 0s 6ms/step - loss: 0.4819 - val_loss: 0.4554\n",
      "Epoch 61/600\n",
      "16/16 [==============================] - 0s 6ms/step - loss: 0.4613 - val_loss: 0.4541\n",
      "Epoch 00061: early stopping\n"
     ]
    },
    {
     "data": {
      "text/plain": [
       "<tensorflow.python.keras.callbacks.History at 0x8ba3c089d0>"
      ]
     },
     "execution_count": 260,
     "metadata": {},
     "output_type": "execute_result"
    }
   ],
   "source": [
    "from tensorflow.keras.callbacks import EarlyStopping\n",
    "early_stop = EarlyStopping(monitor='val_loss', mode='min', verbose=1, patience=25)\n",
    "model.fit(x=X_train, \n",
    "          y=y_train, \n",
    "          epochs=600,\n",
    "          validation_data=(X_test, y_test), verbose=1,\n",
    "          callbacks=[early_stop]\n",
    "          )"
   ]
  },
  {
   "cell_type": "code",
   "execution_count": 261,
   "metadata": {},
   "outputs": [
    {
     "data": {
      "image/png": "[encoded data removed]",
      "text/plain": [
       "<Figure size 432x288 with 1 Axes>"
      ]
     },
     "metadata": {
      "needs_background": "light"
     },
     "output_type": "display_data"
    }
   ],
   "source": [
    "model_loss = pd.DataFrame(model.history.history)\n",
    "model_loss.plot();"
   ]
  },
  {
   "cell_type": "code",
   "execution_count": 262,
   "metadata": {},
   "outputs": [
    {
     "name": "stdout",
     "output_type": "stream",
     "text": [
      "              precision    recall  f1-score   support\n",
      "\n",
      "           0       0.84      0.96      0.90       195\n",
      "           1       0.68      0.33      0.44        52\n",
      "\n",
      "    accuracy                           0.83       247\n",
      "   macro avg       0.76      0.64      0.67       247\n",
      "weighted avg       0.81      0.83      0.80       247\n",
      "\n",
      "[[187   8]\n",
      " [ 35  17]]\n"
     ]
    }
   ],
   "source": [
    "predictions = (model.predict(X_test) > 0.5).astype(\"int32\")\n",
    "print(classification_report(y_test,predictions))\n",
    "print(confusion_matrix(y_test,predictions))"
   ]
  },
  {
   "cell_type": "code",
   "execution_count": null,
   "metadata": {},
   "outputs": [],
   "source": []
  },
  {
   "cell_type": "code",
   "execution_count": null,
   "metadata": {},
   "outputs": [],
   "source": []
  },
  {
   "cell_type": "code",
   "execution_count": null,
   "metadata": {},
   "outputs": [],
   "source": []
  },
  {
   "cell_type": "code",
   "execution_count": null,
   "metadata": {},
   "outputs": [],
   "source": []
  }
 ],
 "metadata": {
  "kernelspec": {
   "display_name": "Python 3",
   "language": "python",
   "name": "python3"
  },
  "language_info": {
   "codemirror_mode": {
    "name": "ipython",
    "version": 3
   },
   "file_extension": ".py",
   "mimetype": "text/x-python",
   "name": "python",
   "nbconvert_exporter": "python",
   "pygments_lexer": "ipython3",
   "version": "3.8.5"
  }
 },
 "nbformat": 4,
 "nbformat_minor": 4
}

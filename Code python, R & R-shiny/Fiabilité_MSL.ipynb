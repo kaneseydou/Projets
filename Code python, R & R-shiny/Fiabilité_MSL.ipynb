{
 "cells": [
  {
   "cell_type": "code",
   "execution_count": 1,
   "metadata": {},
   "outputs": [],
   "source": [
    "import numpy as np\n",
    "import pandas as pd\n",
    "import random\n",
    "import matplotlib.pyplot as plt"
   ]
  },
  {
   "cell_type": "code",
   "execution_count": 380,
   "metadata": {},
   "outputs": [],
   "source": [
    "random.seed(10)\n",
    "np.random.seed(10)"
   ]
  },
  {
   "cell_type": "code",
   "execution_count": 2,
   "metadata": {},
   "outputs": [],
   "source": [
    "data = pd.read_csv(\"Données_Projet_ISUP_E-Remy_2020-2021.csv\", sep =';',encoding='latin-1')\n",
    "data.rename(columns={data.columns[1]: \"Debit\", data.columns[2]: \"Hauteur\"}, inplace=True)"
   ]
  },
  {
   "cell_type": "code",
   "execution_count": 3,
   "metadata": {
    "scrolled": true
   },
   "outputs": [
    {
     "data": {
      "text/html": [
       "<div>\n",
       "<style scoped>\n",
       "    .dataframe tbody tr th:only-of-type {\n",
       "        vertical-align: middle;\n",
       "    }\n",
       "\n",
       "    .dataframe tbody tr th {\n",
       "        vertical-align: top;\n",
       "    }\n",
       "\n",
       "    .dataframe thead th {\n",
       "        text-align: right;\n",
       "    }\n",
       "</style>\n",
       "<table border=\"1\" class=\"dataframe\">\n",
       "  <thead>\n",
       "    <tr style=\"text-align: right;\">\n",
       "      <th></th>\n",
       "      <th>Année</th>\n",
       "      <th>Debit</th>\n",
       "      <th>Hauteur</th>\n",
       "    </tr>\n",
       "  </thead>\n",
       "  <tbody>\n",
       "    <tr>\n",
       "      <th>0</th>\n",
       "      <td>1849</td>\n",
       "      <td>3854</td>\n",
       "      <td>NaN</td>\n",
       "    </tr>\n",
       "    <tr>\n",
       "      <th>1</th>\n",
       "      <td>1850</td>\n",
       "      <td>1256</td>\n",
       "      <td>4.0</td>\n",
       "    </tr>\n",
       "    <tr>\n",
       "      <th>2</th>\n",
       "      <td>1851</td>\n",
       "      <td>1649</td>\n",
       "      <td>4.5</td>\n",
       "    </tr>\n",
       "    <tr>\n",
       "      <th>3</th>\n",
       "      <td>1852</td>\n",
       "      <td>1605</td>\n",
       "      <td>4.3</td>\n",
       "    </tr>\n",
       "    <tr>\n",
       "      <th>4</th>\n",
       "      <td>1853</td>\n",
       "      <td>341</td>\n",
       "      <td>1.7</td>\n",
       "    </tr>\n",
       "  </tbody>\n",
       "</table>\n",
       "</div>"
      ],
      "text/plain": [
       "   Année  Debit  Hauteur\n",
       "0   1849   3854      NaN\n",
       "1   1850   1256      4.0\n",
       "2   1851   1649      4.5\n",
       "3   1852   1605      4.3\n",
       "4   1853    341      1.7"
      ]
     },
     "execution_count": 3,
     "metadata": {},
     "output_type": "execute_result"
    }
   ],
   "source": [
    "data.head()"
   ]
  },
  {
   "cell_type": "markdown",
   "metadata": {},
   "source": [
    "#### Définition de la première version de la fonction coût total d'investissement durant T années"
   ]
  },
  {
   "cell_type": "markdown",
   "metadata": {},
   "source": [
    "Nous allons definir deux versions de la fonction coût d'investissement. Cette première version v1 dependend uniquement de la hauteur. Le nombre d'année pour le quel nous voulons optimiser ce coût étant fixé à $T=30$.\n",
    "\n",
    "En utilisant les données du tableau $5$ nous avons defini la fonction de coût d'investissemnt continue par morceau et ne dependant que de hd."
   ]
  },
  {
   "cell_type": "code",
   "execution_count": 206,
   "metadata": {},
   "outputs": [
    {
     "data": {
      "text/plain": [
       "60447.4"
      ]
     },
     "execution_count": 206,
     "metadata": {},
     "output_type": "execute_result"
    }
   ],
   "source": [
    "def cout_tot_inv_v1(hd, T=30):\n",
    "    \"\"\"\n",
    "    Cout total d'investissement \n",
    "    \"\"\"\n",
    "    cout_ = 0\n",
    "    if hd > 0 and hd <=0.1:\n",
    "        cout_ = 100\n",
    "    elif hd<=0.5:\n",
    "        cout_ = 225\n",
    "    elif hd<=1:\n",
    "        cout_ = 1034\n",
    "    elif hd<=2:\n",
    "        cout_ = 4750\n",
    "    elif hd<=3:\n",
    "        cout_ = 1023\n",
    "    elif hd<=4:\n",
    "        cout_ = 16971\n",
    "    elif hd<=5:\n",
    "        cout_ = 21692\n",
    "    elif hd<=6:\n",
    "        cout_ = 26509\n",
    "    elif hd<=7:\n",
    "        cout_ = 31408\n",
    "    elif hd<=8:\n",
    "        cout_ = 36377\n",
    "    elif hd<=9:\n",
    "        cout_ = 41409\n",
    "    else:\n",
    "        cout_ = 46498\n",
    "    return cout_ + T*0.01*cout_\n",
    "cout_tot_inv(10)"
   ]
  },
  {
   "cell_type": "markdown",
   "metadata": {},
   "source": [
    "#### Définition de la deuxième version de la fonction coût total d'investissement durant T années"
   ]
  },
  {
   "cell_type": "markdown",
   "metadata": {},
   "source": [
    "Dans cette deuxième version de la fonction coût d'inverstissement, nous avons consideré qu'elle depend de deux variables: la hauteur $h_d$ et la longueur $l_d$ de la digue.\n",
    "\n",
    "Ainsi en utilisant toujours les données du tableau $5$, nous avons defini la fonction coût d'investissement comme une fonction continue par morceau.\n",
    "Cette fonction est definie en fonction de la partition de la combinaison entre la hauteur $h_d$ et la longueur $l_d$ de la digue de sorte à mettre plus de poids à la hauteur car son coût est plus élévé. "
   ]
  },
  {
   "cell_type": "code",
   "execution_count": 2,
   "metadata": {},
   "outputs": [
    {
     "data": {
      "text/plain": [
       "31408"
      ]
     },
     "execution_count": 2,
     "metadata": {},
     "output_type": "execute_result"
    }
   ],
   "source": [
    "def cout_tot_inv_v2(hd=7, ld=5000, alpah1=0.8, alpha2=0.2, T=30):\n",
    "    \"\"\"\n",
    "    Cout total d'investissement \n",
    "    \"\"\"\n",
    "    peri = alpah1*hd + alpha2*ld\n",
    "    cout_ = 0\n",
    "    if peri > 0 and peri <=alpha2*1000 + alpah1*0.1:\n",
    "        cout_ = 100\n",
    "    elif peri<=alpha2*1500 + alpah1*0.5:\n",
    "        cout_ = 225\n",
    "    elif peri<=alpha2*2437 + alpah1*1:\n",
    "        cout_ = 1034\n",
    "    elif peri<=alpha2*3959 + alpah1*2:\n",
    "        cout_ = 4750\n",
    "    elif peri<=alpha2*5000 + alpah1*3:\n",
    "        cout_ = 1023\n",
    "    elif peri<=alpha2*5000 + alpah1*4:\n",
    "        cout_ = 16971\n",
    "    elif peri<=alpha2*5000 + alpah1*5:\n",
    "        cout_ = 21692\n",
    "    \n",
    "    elif peri<=alpha2*5000 + alpah1*6:\n",
    "        cout_ = 26509\n",
    "    elif peri<=alpha2*5000 + alpah1*7:\n",
    "        cout_ = 31408\n",
    "    elif peri<=alpha2*5000 + alpah1*8:\n",
    "        cout_ = 36377\n",
    "        \n",
    "    elif peri<=alpha2*5000 + alpah1*9:\n",
    "        cout_ = 41409\n",
    "    else:\n",
    "        cout_ = 46498\n",
    "    \n",
    "    return cout_ #+ T*0.01*cout_\n",
    "\n",
    "cout_tot_inv_v2()"
   ]
  },
  {
   "cell_type": "markdown",
   "metadata": {},
   "source": [
    "##### Définition de la fonction coût total dommage annuel"
   ]
  },
  {
   "cell_type": "markdown",
   "metadata": {},
   "source": [
    "En utilisant les données du tableau $4$ nous avons defini la fonction de coût de dommage annuel continue par morceau et ne dependant que de $h_d$ et prend en argument les surverses des T prochaines années. Pour les surverse, nous avons utilisé l'équation $(1)$ pour simuler les hauteurs maximums d'eau dans les T prochaines années. "
   ]
  },
  {
   "cell_type": "code",
   "execution_count": 165,
   "metadata": {},
   "outputs": [
    {
     "data": {
      "text/plain": [
       "4696.298000000001"
      ]
     },
     "execution_count": 165,
     "metadata": {},
     "output_type": "execute_result"
    }
   ],
   "source": [
    "def cout_dommage_annuel(s, hd):\n",
    "    \"\"\"\n",
    "    Calcule le cout de dommage\n",
    "    \"\"\"\n",
    "    m=1000 # pour la convertion en k£\n",
    "    if s < 0:\n",
    "        cs = 0\n",
    "        cg = 0\n",
    "   \n",
    "    elif s==0:\n",
    "        cs = 0\n",
    "        cg = 0.1*cout_tot_inv(hd, T=1)\n",
    "    elif s<=0.5:\n",
    "        cs = 150*m\n",
    "        cg = 0.5*cout_tot_inv(hd, T=1)\n",
    "    elif s<=1:\n",
    "        cs = 1500*m\n",
    "        cg = cout_tot_inv(hd, T=1)\n",
    "    elif s<=1.5:\n",
    "        cs = 2000*m\n",
    "        cg = cout_tot_inv(hd, T=1)\n",
    "    else:\n",
    "        cs = 2000*m\n",
    "        cg = cout_tot_inv(hd, T=1)\n",
    "    return cs + cg\n",
    "cout_dommage_annuel(0, 1000)"
   ]
  },
  {
   "cell_type": "markdown",
   "metadata": {},
   "source": [
    "#### Définition de la fonction coût dommage durant T années"
   ]
  },
  {
   "cell_type": "markdown",
   "metadata": {},
   "source": [
    "En utilisant la fonction coût dommage annuel defini précédemment, nous avons défini la fonction coût dommage pour $T$ années"
   ]
  },
  {
   "cell_type": "code",
   "execution_count": 157,
   "metadata": {},
   "outputs": [
    {
     "data": {
      "text/plain": [
       "1505277.25"
      ]
     },
     "execution_count": 157,
     "metadata": {},
     "output_type": "execute_result"
    }
   ],
   "source": [
    "def dommage_periodique(surverses:list, hd, T=30):\n",
    "    s = 0\n",
    "    if len(surverses)==T:\n",
    "        for surverse in surverses:\n",
    "            s+= cout_dommage_annuel(surverse, hd)\n",
    "    else:\n",
    "        raise(\"Erreur la taille de la surverses doit être égale à T\")\n",
    "        \n",
    "    return s\n",
    "dommage_periodique([0, 1, -3], hd=2, T=3)"
   ]
  },
  {
   "cell_type": "markdown",
   "metadata": {},
   "source": [
    "#### Définition du coût complet version 1"
   ]
  },
  {
   "cell_type": "markdown",
   "metadata": {},
   "source": [
    "Nous allons definir deux versions de la fonction coût complet."
   ]
  },
  {
   "cell_type": "markdown",
   "metadata": {},
   "source": [
    "Dans la première version de la fonction coût complet, la fonction coût d'investissement depend que de la hauteur de la digue."
   ]
  },
  {
   "cell_type": "markdown",
   "metadata": {},
   "source": [
    "Vu que la fonction coût complet est une combinaison du coût d'investissement et du coût de dommage alors nous avons mit des poids $a$ et $b$ respectivement au coût d'investissement et au coût de dommage de sorte à pouvoir discriminer l'un par rapport à l'autre."
   ]
  },
  {
   "cell_type": "code",
   "execution_count": 243,
   "metadata": {},
   "outputs": [
    {
     "data": {
      "text/plain": [
       "1562927.2933333332"
      ]
     },
     "execution_count": 243,
     "metadata": {},
     "output_type": "execute_result"
    }
   ],
   "source": [
    "def cout_complet_moy_v1(surverses, hd, T=30, a=1, b=1):\n",
    "    \"\"\"\n",
    "    Cette fonction calcule le cout complet en faisant la pondération des coûts d'investissements\n",
    "    et de dommages\n",
    "    --------------\n",
    "    arguments:\n",
    "    a: poids affecté au coût d'investissement, \n",
    "    b: poids affecté au coût d\n",
    "    \"\"\"\n",
    "    #poids de chaque couts intermédiare\n",
    "    return (a*cout_tot_inv_v1(hd,T) + b*dommage_periodique(surverses,hd,T))/T\n",
    "cout_complet_moy_v1([1, 1, 1], hd=10, T=3)"
   ]
  },
  {
   "cell_type": "markdown",
   "metadata": {},
   "source": [
    "#### Définition du coût complet version 2"
   ]
  },
  {
   "cell_type": "markdown",
   "metadata": {},
   "source": [
    "Cette vesion prend en compte la fonction d'investissement qui depend de $h_d$ et $l_d$"
   ]
  },
  {
   "cell_type": "code",
   "execution_count": 242,
   "metadata": {},
   "outputs": [
    {
     "data": {
      "text/plain": [
       "1562462.3133333332"
      ]
     },
     "execution_count": 242,
     "metadata": {},
     "output_type": "execute_result"
    }
   ],
   "source": [
    "def cout_complet_moy_v2(surverses, hd, ld, T=30, a=1, b=1):\n",
    "    \"\"\"\n",
    "    Cette fonction calcule le cout complet en faisant la pondération des coûts d'investissements\n",
    "    et de dommages\n",
    "    --------------\n",
    "    arguments:\n",
    "    a: poids affecté au coût d'investissement, \n",
    "    b: poids affecté au coût d\n",
    "    \"\"\"\n",
    "    #poids de chaque couts intermédiare\n",
    "    return (a*cout_tot_inv_v2(hd=hd, ld=ld, alpah1=0.8, alpha2=0.2, T=30) + b*dommage_periodique(surverses,hd,T))/T\n",
    "cout_complet_moy_v1([1, 1, 1], hd=10, ld=5000, T=3)"
   ]
  },
  {
   "cell_type": "markdown",
   "metadata": {},
   "source": [
    "### Réprésentation graphique du coût complet"
   ]
  },
  {
   "cell_type": "markdown",
   "metadata": {},
   "source": [
    "#### Définition de la fonction qui initialise aléatoirement hd"
   ]
  },
  {
   "cell_type": "code",
   "execution_count": 237,
   "metadata": {},
   "outputs": [
    {
     "data": {
      "text/plain": [
       "[3.051168276256793,\n",
       " 3.5315739317226145,\n",
       " 3.5569748402104944,\n",
       " 3.5761457384971087,\n",
       " 3.6861597392808694]"
      ]
     },
     "execution_count": 237,
     "metadata": {},
     "output_type": "execute_result"
    }
   ],
   "source": [
    "def generate_hd(n, m, M):\n",
    "    u = np.random.random(n)\n",
    "    return list(m + (M-m)*u)\n",
    "generate_hd(5, 3, 4)"
   ]
  },
  {
   "cell_type": "markdown",
   "metadata": {},
   "source": [
    "#### Définition de la fonction qui simule les hauteurs de l'eau pour les T prochaines années"
   ]
  },
  {
   "cell_type": "code",
   "execution_count": 248,
   "metadata": {},
   "outputs": [
    {
     "data": {
      "text/plain": [
       "array([1.03739684, 2.42253001, 2.61464568, 2.05968698, 2.45718922,\n",
       "       1.75939473, 2.10207057, 3.11898462, 4.00760642, 2.39334017,\n",
       "       1.38695475, 3.22692916, 1.48991138, 1.68040177, 2.31187015,\n",
       "       2.91270215, 2.23042206, 2.38930664, 1.98514938, 0.5266752 ,\n",
       "       2.12214694, 0.89452716, 2.18086119, 3.05346286, 2.50434502,\n",
       "       3.30994838, 0.27647171, 3.34780359, 1.83176916, 2.46242005])"
      ]
     },
     "execution_count": 248,
     "metadata": {},
     "output_type": "execute_result"
    }
   ],
   "source": [
    "def generate_H(M):\n",
    "    \n",
    "  ## CETTE FONCTION NOUS DONNE LA HAUTEUR MAXIMALE APRES SIMULATION\n",
    "  # M : LE NOMBRE DE SIMULATION\n",
    "    X = None\n",
    "  ## CETTE FONCTION SIMULE UNE REALISATION DE CHAQUE VARIABLE \n",
    "  ## D'ENTREE ET NOUS DONNE LE RESULTAT DU MODELE H'\n",
    "    Q = np.random.gumbel(loc=1013, scale=558, size=M)#Rgumbel(1,1013,558)\n",
    "    K_s = np.random.normal(loc=30,scale=7.5, size=M)\n",
    "    Z_v = np.random.triangular(left=49, mode=50, right=51, size=M)#rtrian(49,51,50)\n",
    "    Z_m = np.random.triangular(left=54, mode=55, right=56, size=M) #rtrian(54,56,55)\n",
    "    L = 5000\n",
    "    B = 300\n",
    "    return ((Q/(K_s*B*np.sqrt((Z_m-Z_v)/L)))**(3/5))\n",
    "H = generate_H(30)\n",
    "H"
   ]
  },
  {
   "cell_type": "markdown",
   "metadata": {},
   "source": [
    "#### Définition de la fonction qui calcule les surverses"
   ]
  },
  {
   "cell_type": "code",
   "execution_count": 239,
   "metadata": {},
   "outputs": [
    {
     "data": {
      "text/plain": [
       "array([-0.23456131,  1.04230992, -0.6099114 , -1.44616984,  0.2061941 ,\n",
       "        0.32594073,  0.33341365,  1.28455655, -0.18625045, -2.01826536,\n",
       "        1.44028575, -0.65751792, -0.71150068, -2.20516792, -1.39689299,\n",
       "       -1.77314314, -0.9644393 , -0.39866529, -1.61286872, -2.09669249,\n",
       "       -1.36090671, -0.8696311 ,  0.59303202, -0.88976639,  0.12577828,\n",
       "        0.11240615, -0.74399825, -2.07524711, -0.4052686 , -0.27576195])"
      ]
     },
     "execution_count": 239,
     "metadata": {},
     "output_type": "execute_result"
    }
   ],
   "source": [
    "def calcul_surverces(T,H, hd):\n",
    "    #H = generate_H(T)\n",
    "    surverses = H - hd\n",
    "    return surverses\n",
    "calcul_surverces(T=3, H=H, hd=3)"
   ]
  },
  {
   "cell_type": "markdown",
   "metadata": {},
   "source": [
    "Après la définition des fonctions intermediaires precedente, nous allons faire la representation graphique de la version 1 de la fonction coût complet qui ne depend que de $h_d$."
   ]
  },
  {
   "cell_type": "code",
   "execution_count": 240,
   "metadata": {},
   "outputs": [],
   "source": [
    "def return_x_y(T=30, n=1000):\n",
    "    H_ = generate_H(T)\n",
    "    surverses_ = []\n",
    "    x = []\n",
    "    y = []\n",
    "    hds = np.linspace(0, 15, n)\n",
    "    for hd in hds:\n",
    "        surverses_ = calcul_surverces(T=T,H=H, hd=hd)\n",
    "        y.append(cout_complet_moy_v1(surverses_, hd=hd, T=T, a=0.99, b=0.01))\n",
    "        x.append(hd)\n",
    "    return x, y"
   ]
  },
  {
   "cell_type": "code",
   "execution_count": 245,
   "metadata": {
    "scrolled": false
   },
   "outputs": [
    {
     "data": {
      "image/png": "[encoded data removed]",
      "text/plain": [
       "<Figure size 576x432 with 1 Axes>"
      ]
     },
     "metadata": {
      "needs_background": "light"
     },
     "output_type": "display_data"
    }
   ],
   "source": [
    "x, y = return_x_y()\n",
    "plt.figure(figsize=(8,6),\n",
    "           facecolor=None)\n",
    "plt.plot(x, y)\n",
    "plt.xlabel(\"Hauteur de la digue\")\n",
    "plt.ylabel(\"Coût complet\")\n",
    "plt.title(\"Réprésentation du coût complet v1 en fonction de la Hauteur\")\n",
    "plt.show()"
   ]
  },
  {
   "cell_type": "code",
   "execution_count": 192,
   "metadata": {
    "scrolled": true
   },
   "outputs": [
    {
     "data": {
      "text/plain": [
       "3.948948948948949"
      ]
     },
     "execution_count": 192,
     "metadata": {},
     "output_type": "execute_result"
    }
   ],
   "source": [
    "x[np.array(y).argmin()] # Valeur de l'argmin de la fonction cout"
   ]
  },
  {
   "cell_type": "markdown",
   "metadata": {},
   "source": [
    "En considerant la fonction coût complet qui met les poids $a=0.99$ au coût d'investissement et $b=0.01$ au coût de dommage, de sorte à prêter essentiellement d'attention au coût d'investissement. Ainsi on trouve $h_d=3.948$"
   ]
  },
  {
   "cell_type": "markdown",
   "metadata": {},
   "source": [
    "Valeur du maximum des maximums des hauteurs pour $T=30$"
   ]
  },
  {
   "cell_type": "code",
   "execution_count": 249,
   "metadata": {},
   "outputs": [
    {
     "data": {
      "text/plain": [
       "4.007606423772912"
      ]
     },
     "execution_count": 249,
     "metadata": {},
     "output_type": "execute_result"
    }
   ],
   "source": [
    "H.max()"
   ]
  },
  {
   "cell_type": "markdown",
   "metadata": {},
   "source": [
    "Le $h_d$ determiné est inferieur au max des hauteurs d'eau ce qui est normal car nous avons priorisé la minimisation du coût d'investissemnt plutôt que le coût de dommage."
   ]
  },
  {
   "cell_type": "markdown",
   "metadata": {},
   "source": [
    "Cette fois ci nous avons consideré la fonction coût complet qui met plus de poids au coût de dommage"
   ]
  },
  {
   "cell_type": "code",
   "execution_count": 253,
   "metadata": {},
   "outputs": [],
   "source": [
    "def return_x_y(T=30, n=1000):\n",
    "    H_ = generate_H(T)\n",
    "    surverses_ = []\n",
    "    x = []\n",
    "    y = []\n",
    "    hds = np.linspace(0, 15, n)\n",
    "    for hd in hds:\n",
    "        surverses_ = calcul_surverces(T=T,H=H, hd=hd)\n",
    "        y.append(cout_complet_moy(surverses_, hd=hd, T=T, a=0.001, b=0.999))\n",
    "        x.append(hd)\n",
    "    return x, y"
   ]
  },
  {
   "cell_type": "code",
   "execution_count": 254,
   "metadata": {
    "scrolled": true
   },
   "outputs": [],
   "source": [
    "x, y = return_x_y()\n",
    "#plt.plot(x, y)"
   ]
  },
  {
   "cell_type": "code",
   "execution_count": 257,
   "metadata": {
    "scrolled": false
   },
   "outputs": [
    {
     "data": {
      "image/png": "[encoded data removed]",
      "text/plain": [
       "<Figure size 576x432 with 1 Axes>"
      ]
     },
     "metadata": {
      "needs_background": "light"
     },
     "output_type": "display_data"
    }
   ],
   "source": [
    "plt.figure(figsize=(8,6),\n",
    "           facecolor=None)\n",
    "\n",
    "plt.plot(x,y)\n",
    "plt.xlabel(\"Hauteur de la digue\")\n",
    "plt.ylabel(\"Coût complet\")\n",
    "plt.title(\"Réprésentation du coût complet v2 en fonction de la Hauteur\")\n",
    "plt.show()"
   ]
  },
  {
   "cell_type": "code",
   "execution_count": 258,
   "metadata": {
    "scrolled": false
   },
   "outputs": [
    {
     "data": {
      "text/plain": [
       "4.009009009009009"
      ]
     },
     "execution_count": 258,
     "metadata": {},
     "output_type": "execute_result"
    }
   ],
   "source": [
    "hd = x[np.array(y).argmin()] # Valeur de l'argmin de la fonction cout\n",
    "hd"
   ]
  },
  {
   "cell_type": "markdown",
   "metadata": {},
   "source": [
    "Le $h_d$ determiné est superieur au max des hauteurs d'eau ce qui est normal car nous avons priorisé la minimisation du coût de dommage plutôt que le coût d'investissement."
   ]
  },
  {
   "cell_type": "code",
   "execution_count": 260,
   "metadata": {},
   "outputs": [
    {
     "data": {
      "text/plain": [
       "4.007606423772912"
      ]
     },
     "execution_count": 260,
     "metadata": {},
     "output_type": "execute_result"
    }
   ],
   "source": [
    "H.max()"
   ]
  },
  {
   "cell_type": "markdown",
   "metadata": {},
   "source": [
    "D'après notre sumilation, le maximum du maximum des hauteurs de l'eau pour les $T=30$ prochaines année est $4.007$"
   ]
  },
  {
   "cell_type": "markdown",
   "metadata": {},
   "source": [
    "Nous avons fait cette nouvelle réprésentation du coût complet en mettant les poids de $0.01$ et $0.99$ respectivement au coût total d'investissement et le côut de dommage. Ainsi le fait de mettre plus du poids au coût de dommage on voit que la hauteur de la digue qui minimise le coût complet est plus élévé que précédemment. Elle est de $44.007$ ce qui est legèrement supérieur à la hauteur maximum de l'eau dans les $T=30$ Prochaines années pour éviter qu'il y est de coût de dommage.  "
   ]
  },
  {
   "cell_type": "markdown",
   "metadata": {},
   "source": [
    "### Définition de l'algorithme génétique"
   ]
  },
  {
   "cell_type": "markdown",
   "metadata": {},
   "source": [
    "\n",
    "Nous allons utilisé l'algorithme génétique pour determiner la hauteur $h_d$ et la longueur $l_d$ qui mimimise le coût complet. Les algorithmes génétiques appartiennent à la famille des algorithmes évolutionnistes. Leur but est d'obtenir une solution approchée à un problème d'optimisation dont la fonction coût depend de plusieurs variables et dont la solution exacte n'est pas connue de manière explicite, pour le résoudre en un temps raisonnable. Les algorithmes génétiques utilisent la notion de sélection naturelle et l'appliquent à une population de solutions potentielles au problème donné. Dans notre cas il est question de miminiser le coût global de d'investissement et de dommage d'un digue sur une période $T$.\n",
    "\n",
    "Dans cette partie nous allons consideré la version $v2$ de la fonction coût complet qui depend de la hauteur $h_d$ et de la longueur $l_d$ de la digue."
   ]
  },
  {
   "cell_type": "code",
   "execution_count": 368,
   "metadata": {},
   "outputs": [],
   "source": [
    "def optimisationgenetique(domaine: tuple,\n",
    "                          #data:pd.DataFrame,\n",
    "                          H: list,\n",
    "                          T: int,\n",
    "                          fcout,\n",
    "                          fsurverses,\n",
    "                          taillepop=50,\n",
    "                          pas=0.5,\n",
    "                          probmut=0.2,\n",
    "                          elite=0.2,\n",
    "                          maxiter=100,\n",
    "                         a:int=1,\n",
    "                         b:int=1):\n",
    "    \n",
    "    \"\"\"\n",
    "    Fonction qui calcule hd et ld optimale par l'algo génétique\n",
    "    \n",
    "    arguments:\n",
    "    --------------------------------\n",
    "    domaine: L'ensemble où hd et ld prennennt leur valeurs\n",
    "    data: DataFrame qui contient les données historiques, \n",
    "    T: \n",
    "    \"\"\"\n",
    "    \n",
    "    \n",
    "    # Operation de mutation\n",
    "    def muter(vec):\n",
    "        \n",
    "        i = random.randint(1,len(domaine)-1)\n",
    "            \n",
    "        if random.random()<0.5 and vec[i]>domaine[i][0]:\n",
    "            return vec[0:i]+[vec[i]-pas]+vec[i+1:]\n",
    "        elif vec[i]<domaine[i][1]:\n",
    "            return vec[0:i]+[vec[i]+pas]+vec[i+1:]\n",
    "        else:\n",
    "            return vec\n",
    "        \n",
    "        # Operation de croisement\n",
    "    def croiser(r1,r2):\n",
    "            \n",
    "        # Choisir nombre d'elmt\n",
    "        i = random.randint(1,len(domaine)-1)\n",
    "        return r1[0:i]+r2[i:]\n",
    "    \n",
    "    # Construire la population initiale\n",
    "    pop=[]\n",
    "    for i in range(taillepop):\n",
    "        vec = [random.randint(domaine[i][0],domaine[i][1]) for i in range(len(domaine))]\n",
    "        pop.append(vec)\n",
    "        # Nombre de gagnant dans chaque generation\n",
    "    topelite = int(elite*taillepop)\n",
    "        \n",
    "    # Boucle principale\n",
    "    for i in range(maxiter):\n",
    "        scores=[(fcout(fsurverses(T=T, H=H, hd=v[0]), hd=v[0], ld=v[1], T=T, a=a, b=b), v) for v in pop]\n",
    "        scores = sorted(scores, key=lambda x: x[0])\n",
    "            \n",
    "        classes = [v for (s,v) in scores]\n",
    "            \n",
    "            # Debuter avec les gagnants\n",
    "        pop = classes[0:topelite]\n",
    "            \n",
    "        # Ajouter les mutation et les croisement des gagnants\n",
    "        while len(pop)<taillepop:\n",
    "                \n",
    "            if random.random()<probmut:\n",
    "                    \n",
    "                # mutation\n",
    "                c = random.randint(0,topelite)\n",
    "                pop.append(muter(classes[c]))\n",
    "                \n",
    "                \n",
    "            else:\n",
    "                # Croisement\n",
    "                c1 = random.randint(0,topelite)\n",
    "                c2 = random.randint(0,topelite)\n",
    "                pop.append(croiser(classes[c1],classes[c2]))\n",
    "                    \n",
    "        if i%20==0:\n",
    "            print(f\"Iteration {i}, score: {scores[0][0]}\")\n",
    "            #print(scores[0][0])\n",
    "        #print(\"ok\")\n",
    "\n",
    "    return scores[0][1]"
   ]
  },
  {
   "cell_type": "code",
   "execution_count": 369,
   "metadata": {},
   "outputs": [
    {
     "name": "stdout",
     "output_type": "stream",
     "text": [
      "Iteration 0, score: 0.075\n",
      "Iteration 20, score: 0.075\n",
      "Iteration 40, score: 0.075\n",
      "Iteration 60, score: 0.075\n",
      "Iteration 80, score: 0.075\n"
     ]
    }
   ],
   "source": [
    "hd = optimisationgenetique(domaine=[(0, 10), (1000, 5000)],\n",
    "                          #data=data,\n",
    "                          H=H,\n",
    "                          T=30,\n",
    "                          fcout=cout_complet_moy_v2,\n",
    "                          fsurverses=calcul_surverces,\n",
    "                          taillepop=100,\n",
    "                          pas=1,\n",
    "                          probmut=0.2,\n",
    "                          elite=0.2,\n",
    "                          maxiter=100,\n",
    "                         a=0.01,\n",
    "                         b=0.99)"
   ]
  },
  {
   "cell_type": "code",
   "execution_count": 370,
   "metadata": {
    "scrolled": true
   },
   "outputs": [
    {
     "data": {
      "text/plain": [
       "[6, 1273]"
      ]
     },
     "execution_count": 370,
     "metadata": {},
     "output_type": "execute_result"
    }
   ],
   "source": [
    "hd"
   ]
  },
  {
   "cell_type": "markdown",
   "metadata": {},
   "source": [
    "En appliquant l'algo génétique, on a trouvé $h_d=6$ et $l_d=1273$"
   ]
  },
  {
   "cell_type": "markdown",
   "metadata": {},
   "source": [
    "### Algorithme scalade"
   ]
  },
  {
   "cell_type": "code",
   "execution_count": 373,
   "metadata": {},
   "outputs": [],
   "source": [
    "def scalade(domaine,H,T,fcout,fsurverses,a=0.01,b=0.99):\n",
    "    # Creer solution aleatoire\n",
    "    sol = [random.randint(domaine[i][0],domaine[i][1]) for i in range(len(domaine))]\n",
    "    \n",
    "    # Boucle principale:\n",
    "    while 1:\n",
    "        \n",
    "        # Creer une liste de solutions vosines\n",
    "        voisins = []\n",
    "        \n",
    "        for j in range(len(domaine)):\n",
    "            if(sol[j] > domaine[j][0]):\n",
    "                voisins.append(sol[0:j]+[sol[j]+1]+sol[j+1:])\n",
    "            if(sol[j] < domaine[j][1]):\n",
    "                voisins.append(sol[0:j]+[sol[j]-1]+sol[j+1:])\n",
    "                \n",
    "        # Identifier la meilleur solution voisine\n",
    "        actuel = fcout(fsurverses(T=T, H=H, hd=sol[0]), hd=sol[0], ld=sol[1], T=T, a=a, b=b)\n",
    "        meilleur = actuel\n",
    "        \n",
    "        for j in range(len(domaine)):\n",
    "            #print(f\"voisins[0] = {voisins[0]}\")\n",
    "            cout = fcout(fsurverses(T=T, H=H, hd=voisins[j][0]), hd=voisins[j][0], ld=voisins[j][1], T=T, a=a, b=b)\n",
    "            if(cout<meilleur):\n",
    "                meilleur = cout\n",
    "                sol=voisins[j]\n",
    "        if meilleur==actuel:\n",
    "            break\n",
    "            \n",
    "    return sol"
   ]
  },
  {
   "cell_type": "code",
   "execution_count": 391,
   "metadata": {},
   "outputs": [],
   "source": [
    "hd = scalade(domaine=[(0,10), (1000, 5000)],\n",
    "            H=H,\n",
    "            T=30,\n",
    "            fcout=cout_complet_moy_v2,\n",
    "            fsurverses=calcul_surverces,\n",
    "           a=0.01,\n",
    "           b=0.99)\n"
   ]
  },
  {
   "cell_type": "code",
   "execution_count": 392,
   "metadata": {},
   "outputs": [
    {
     "data": {
      "text/plain": [
       "[5, 2894]"
      ]
     },
     "execution_count": 392,
     "metadata": {},
     "output_type": "execute_result"
    }
   ],
   "source": [
    "hd"
   ]
  },
  {
   "cell_type": "markdown",
   "metadata": {},
   "source": [
    "En appliquant l'algo génétique, on a trouvé $h_d=5$ et $l_d=2894$"
   ]
  },
  {
   "cell_type": "code",
   "execution_count": null,
   "metadata": {},
   "outputs": [],
   "source": []
  }
 ],
 "metadata": {
  "kernelspec": {
   "display_name": "Python 3",
   "language": "python",
   "name": "python3"
  },
  "language_info": {
   "codemirror_mode": {
    "name": "ipython",
    "version": 3
   },
   "file_extension": ".py",
   "mimetype": "text/x-python",
   "name": "python",
   "nbconvert_exporter": "python",
   "pygments_lexer": "ipython3",
   "version": "3.8.8"
  }
 },
 "nbformat": 4,
 "nbformat_minor": 4
}
